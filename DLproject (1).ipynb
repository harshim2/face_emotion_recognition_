{
  "cells": [
    {
      "cell_type": "code",
      "execution_count": null,
      "metadata": {
        "id": "4-T41k33rBMb"
      },
      "outputs": [],
      "source": [
        "from keras.utils import to_categorical\n",
        "from keras.preprocessing.image import load_img\n",
        "from keras.models import Sequential\n",
        "from keras.layers import Dense, Conv2D, Dropout, Flatten, MaxPooling2D\n",
        "import os\n",
        "import pandas as pd\n",
        "import numpy as np"
      ]
    },
    {
      "cell_type": "code",
      "execution_count": null,
      "metadata": {
        "id": "N0XTOuF5y2zl"
      },
      "outputs": [],
      "source": [
        "TRAIN_DIR = '/content/drive/MyDrive/Teachmint split_config.xxhdpi.apk (Unzipped Files)/Dlpro/images/train'\n",
        "TEST_DIR = '/content/drive/MyDrive/Teachmint split_config.xxhdpi.apk (Unzipped Files)/Dlpro/images/validation'"
      ]
    },
    {
      "cell_type": "code",
      "execution_count": null,
      "metadata": {
        "id": "tX-AB0GS7A9l"
      },
      "outputs": [],
      "source": [
        "def createdataframe(dir):\n",
        "    image_paths = []\n",
        "    labels = []\n",
        "    for label in os.listdir(dir):\n",
        "        for imagename in os.listdir(os.path.join(dir,label)):\n",
        "            image_paths.append(os.path.join(dir,label,imagename))\n",
        "            labels.append(label)\n",
        "        print(label, \"completed\")\n",
        "    return image_paths,labels"
      ]
    },
    {
      "cell_type": "code",
      "execution_count": null,
      "metadata": {
        "colab": {
          "base_uri": "https://localhost:8080/"
        },
        "id": "VvuJYPqP7EE3",
        "outputId": "a731f334-9de9-4091-b6a4-55404d57e2fe"
      },
      "outputs": [
        {
          "output_type": "stream",
          "name": "stdout",
          "text": [
            "surprise completed\n",
            "sad completed\n",
            "neutral completed\n",
            "happy completed\n",
            "fear completed\n",
            "disgust completed\n",
            "angry completed\n"
          ]
        }
      ],
      "source": [
        "train = pd.DataFrame()\n",
        "train['image'], train['label'] = createdataframe(TRAIN_DIR)"
      ]
    },
    {
      "cell_type": "code",
      "source": [
        "train.describe()"
      ],
      "metadata": {
        "id": "_7Vkh2O_SkAt",
        "outputId": "adc81121-ad07-4377-a7fe-aa74a6b8b77d",
        "colab": {
          "base_uri": "https://localhost:8080/",
          "height": 173
        }
      },
      "execution_count": null,
      "outputs": [
        {
          "output_type": "execute_result",
          "data": {
            "text/plain": [
              "                                                    image  label\n",
              "count                                               28882  28882\n",
              "unique                                              28882      7\n",
              "top     /content/drive/MyDrive/Teachmint split_config....  happy\n",
              "freq                                                    1   7214"
            ],
            "text/html": [
              "\n",
              "  <div id=\"df-e6d588f0-3ad0-4c17-bb2b-a263c7dab1c1\" class=\"colab-df-container\">\n",
              "    <div>\n",
              "<style scoped>\n",
              "    .dataframe tbody tr th:only-of-type {\n",
              "        vertical-align: middle;\n",
              "    }\n",
              "\n",
              "    .dataframe tbody tr th {\n",
              "        vertical-align: top;\n",
              "    }\n",
              "\n",
              "    .dataframe thead th {\n",
              "        text-align: right;\n",
              "    }\n",
              "</style>\n",
              "<table border=\"1\" class=\"dataframe\">\n",
              "  <thead>\n",
              "    <tr style=\"text-align: right;\">\n",
              "      <th></th>\n",
              "      <th>image</th>\n",
              "      <th>label</th>\n",
              "    </tr>\n",
              "  </thead>\n",
              "  <tbody>\n",
              "    <tr>\n",
              "      <th>count</th>\n",
              "      <td>28882</td>\n",
              "      <td>28882</td>\n",
              "    </tr>\n",
              "    <tr>\n",
              "      <th>unique</th>\n",
              "      <td>28882</td>\n",
              "      <td>7</td>\n",
              "    </tr>\n",
              "    <tr>\n",
              "      <th>top</th>\n",
              "      <td>/content/drive/MyDrive/Teachmint split_config....</td>\n",
              "      <td>happy</td>\n",
              "    </tr>\n",
              "    <tr>\n",
              "      <th>freq</th>\n",
              "      <td>1</td>\n",
              "      <td>7214</td>\n",
              "    </tr>\n",
              "  </tbody>\n",
              "</table>\n",
              "</div>\n",
              "    <div class=\"colab-df-buttons\">\n",
              "\n",
              "  <div class=\"colab-df-container\">\n",
              "    <button class=\"colab-df-convert\" onclick=\"convertToInteractive('df-e6d588f0-3ad0-4c17-bb2b-a263c7dab1c1')\"\n",
              "            title=\"Convert this dataframe to an interactive table.\"\n",
              "            style=\"display:none;\">\n",
              "\n",
              "  <svg xmlns=\"http://www.w3.org/2000/svg\" height=\"24px\" viewBox=\"0 -960 960 960\">\n",
              "    <path d=\"M120-120v-720h720v720H120Zm60-500h600v-160H180v160Zm220 220h160v-160H400v160Zm0 220h160v-160H400v160ZM180-400h160v-160H180v160Zm440 0h160v-160H620v160ZM180-180h160v-160H180v160Zm440 0h160v-160H620v160Z\"/>\n",
              "  </svg>\n",
              "    </button>\n",
              "\n",
              "  <style>\n",
              "    .colab-df-container {\n",
              "      display:flex;\n",
              "      gap: 12px;\n",
              "    }\n",
              "\n",
              "    .colab-df-convert {\n",
              "      background-color: #E8F0FE;\n",
              "      border: none;\n",
              "      border-radius: 50%;\n",
              "      cursor: pointer;\n",
              "      display: none;\n",
              "      fill: #1967D2;\n",
              "      height: 32px;\n",
              "      padding: 0 0 0 0;\n",
              "      width: 32px;\n",
              "    }\n",
              "\n",
              "    .colab-df-convert:hover {\n",
              "      background-color: #E2EBFA;\n",
              "      box-shadow: 0px 1px 2px rgba(60, 64, 67, 0.3), 0px 1px 3px 1px rgba(60, 64, 67, 0.15);\n",
              "      fill: #174EA6;\n",
              "    }\n",
              "\n",
              "    .colab-df-buttons div {\n",
              "      margin-bottom: 4px;\n",
              "    }\n",
              "\n",
              "    [theme=dark] .colab-df-convert {\n",
              "      background-color: #3B4455;\n",
              "      fill: #D2E3FC;\n",
              "    }\n",
              "\n",
              "    [theme=dark] .colab-df-convert:hover {\n",
              "      background-color: #434B5C;\n",
              "      box-shadow: 0px 1px 3px 1px rgba(0, 0, 0, 0.15);\n",
              "      filter: drop-shadow(0px 1px 2px rgba(0, 0, 0, 0.3));\n",
              "      fill: #FFFFFF;\n",
              "    }\n",
              "  </style>\n",
              "\n",
              "    <script>\n",
              "      const buttonEl =\n",
              "        document.querySelector('#df-e6d588f0-3ad0-4c17-bb2b-a263c7dab1c1 button.colab-df-convert');\n",
              "      buttonEl.style.display =\n",
              "        google.colab.kernel.accessAllowed ? 'block' : 'none';\n",
              "\n",
              "      async function convertToInteractive(key) {\n",
              "        const element = document.querySelector('#df-e6d588f0-3ad0-4c17-bb2b-a263c7dab1c1');\n",
              "        const dataTable =\n",
              "          await google.colab.kernel.invokeFunction('convertToInteractive',\n",
              "                                                    [key], {});\n",
              "        if (!dataTable) return;\n",
              "\n",
              "        const docLinkHtml = 'Like what you see? Visit the ' +\n",
              "          '<a target=\"_blank\" href=https://colab.research.google.com/notebooks/data_table.ipynb>data table notebook</a>'\n",
              "          + ' to learn more about interactive tables.';\n",
              "        element.innerHTML = '';\n",
              "        dataTable['output_type'] = 'display_data';\n",
              "        await google.colab.output.renderOutput(dataTable, element);\n",
              "        const docLink = document.createElement('div');\n",
              "        docLink.innerHTML = docLinkHtml;\n",
              "        element.appendChild(docLink);\n",
              "      }\n",
              "    </script>\n",
              "  </div>\n",
              "\n",
              "\n",
              "<div id=\"df-97df1b3f-df04-41ea-a62c-48e46801e05b\">\n",
              "  <button class=\"colab-df-quickchart\" onclick=\"quickchart('df-97df1b3f-df04-41ea-a62c-48e46801e05b')\"\n",
              "            title=\"Suggest charts.\"\n",
              "            style=\"display:none;\">\n",
              "\n",
              "<svg xmlns=\"http://www.w3.org/2000/svg\" height=\"24px\"viewBox=\"0 0 24 24\"\n",
              "     width=\"24px\">\n",
              "    <g>\n",
              "        <path d=\"M19 3H5c-1.1 0-2 .9-2 2v14c0 1.1.9 2 2 2h14c1.1 0 2-.9 2-2V5c0-1.1-.9-2-2-2zM9 17H7v-7h2v7zm4 0h-2V7h2v10zm4 0h-2v-4h2v4z\"/>\n",
              "    </g>\n",
              "</svg>\n",
              "  </button>\n",
              "\n",
              "<style>\n",
              "  .colab-df-quickchart {\n",
              "      --bg-color: #E8F0FE;\n",
              "      --fill-color: #1967D2;\n",
              "      --hover-bg-color: #E2EBFA;\n",
              "      --hover-fill-color: #174EA6;\n",
              "      --disabled-fill-color: #AAA;\n",
              "      --disabled-bg-color: #DDD;\n",
              "  }\n",
              "\n",
              "  [theme=dark] .colab-df-quickchart {\n",
              "      --bg-color: #3B4455;\n",
              "      --fill-color: #D2E3FC;\n",
              "      --hover-bg-color: #434B5C;\n",
              "      --hover-fill-color: #FFFFFF;\n",
              "      --disabled-bg-color: #3B4455;\n",
              "      --disabled-fill-color: #666;\n",
              "  }\n",
              "\n",
              "  .colab-df-quickchart {\n",
              "    background-color: var(--bg-color);\n",
              "    border: none;\n",
              "    border-radius: 50%;\n",
              "    cursor: pointer;\n",
              "    display: none;\n",
              "    fill: var(--fill-color);\n",
              "    height: 32px;\n",
              "    padding: 0;\n",
              "    width: 32px;\n",
              "  }\n",
              "\n",
              "  .colab-df-quickchart:hover {\n",
              "    background-color: var(--hover-bg-color);\n",
              "    box-shadow: 0 1px 2px rgba(60, 64, 67, 0.3), 0 1px 3px 1px rgba(60, 64, 67, 0.15);\n",
              "    fill: var(--button-hover-fill-color);\n",
              "  }\n",
              "\n",
              "  .colab-df-quickchart-complete:disabled,\n",
              "  .colab-df-quickchart-complete:disabled:hover {\n",
              "    background-color: var(--disabled-bg-color);\n",
              "    fill: var(--disabled-fill-color);\n",
              "    box-shadow: none;\n",
              "  }\n",
              "\n",
              "  .colab-df-spinner {\n",
              "    border: 2px solid var(--fill-color);\n",
              "    border-color: transparent;\n",
              "    border-bottom-color: var(--fill-color);\n",
              "    animation:\n",
              "      spin 1s steps(1) infinite;\n",
              "  }\n",
              "\n",
              "  @keyframes spin {\n",
              "    0% {\n",
              "      border-color: transparent;\n",
              "      border-bottom-color: var(--fill-color);\n",
              "      border-left-color: var(--fill-color);\n",
              "    }\n",
              "    20% {\n",
              "      border-color: transparent;\n",
              "      border-left-color: var(--fill-color);\n",
              "      border-top-color: var(--fill-color);\n",
              "    }\n",
              "    30% {\n",
              "      border-color: transparent;\n",
              "      border-left-color: var(--fill-color);\n",
              "      border-top-color: var(--fill-color);\n",
              "      border-right-color: var(--fill-color);\n",
              "    }\n",
              "    40% {\n",
              "      border-color: transparent;\n",
              "      border-right-color: var(--fill-color);\n",
              "      border-top-color: var(--fill-color);\n",
              "    }\n",
              "    60% {\n",
              "      border-color: transparent;\n",
              "      border-right-color: var(--fill-color);\n",
              "    }\n",
              "    80% {\n",
              "      border-color: transparent;\n",
              "      border-right-color: var(--fill-color);\n",
              "      border-bottom-color: var(--fill-color);\n",
              "    }\n",
              "    90% {\n",
              "      border-color: transparent;\n",
              "      border-bottom-color: var(--fill-color);\n",
              "    }\n",
              "  }\n",
              "</style>\n",
              "\n",
              "  <script>\n",
              "    async function quickchart(key) {\n",
              "      const quickchartButtonEl =\n",
              "        document.querySelector('#' + key + ' button');\n",
              "      quickchartButtonEl.disabled = true;  // To prevent multiple clicks.\n",
              "      quickchartButtonEl.classList.add('colab-df-spinner');\n",
              "      try {\n",
              "        const charts = await google.colab.kernel.invokeFunction(\n",
              "            'suggestCharts', [key], {});\n",
              "      } catch (error) {\n",
              "        console.error('Error during call to suggestCharts:', error);\n",
              "      }\n",
              "      quickchartButtonEl.classList.remove('colab-df-spinner');\n",
              "      quickchartButtonEl.classList.add('colab-df-quickchart-complete');\n",
              "    }\n",
              "    (() => {\n",
              "      let quickchartButtonEl =\n",
              "        document.querySelector('#df-97df1b3f-df04-41ea-a62c-48e46801e05b button');\n",
              "      quickchartButtonEl.style.display =\n",
              "        google.colab.kernel.accessAllowed ? 'block' : 'none';\n",
              "    })();\n",
              "  </script>\n",
              "</div>\n",
              "    </div>\n",
              "  </div>\n"
            ]
          },
          "metadata": {},
          "execution_count": 5
        }
      ]
    },
    {
      "cell_type": "code",
      "execution_count": null,
      "metadata": {
        "colab": {
          "base_uri": "https://localhost:8080/"
        },
        "id": "OGycJPV07Idh",
        "outputId": "4626e075-3b77-4c41-fcfc-af8158569ecb"
      },
      "outputs": [
        {
          "output_type": "stream",
          "name": "stdout",
          "text": [
            "                                                   image     label\n",
            "0      /content/drive/MyDrive/Teachmint split_config....  surprise\n",
            "1      /content/drive/MyDrive/Teachmint split_config....  surprise\n",
            "2      /content/drive/MyDrive/Teachmint split_config....  surprise\n",
            "3      /content/drive/MyDrive/Teachmint split_config....  surprise\n",
            "4      /content/drive/MyDrive/Teachmint split_config....  surprise\n",
            "...                                                  ...       ...\n",
            "28877  /content/drive/MyDrive/Teachmint split_config....     angry\n",
            "28878  /content/drive/MyDrive/Teachmint split_config....     angry\n",
            "28879  /content/drive/MyDrive/Teachmint split_config....     angry\n",
            "28880  /content/drive/MyDrive/Teachmint split_config....     angry\n",
            "28881  /content/drive/MyDrive/Teachmint split_config....     angry\n",
            "\n",
            "[28882 rows x 2 columns]\n"
          ]
        }
      ],
      "source": [
        "print(train)"
      ]
    },
    {
      "cell_type": "code",
      "execution_count": null,
      "metadata": {
        "colab": {
          "base_uri": "https://localhost:8080/"
        },
        "id": "sBaNLwwy7I2M",
        "outputId": "1bdfe845-a039-49f3-fcb7-8d7c480f78ac"
      },
      "outputs": [
        {
          "output_type": "stream",
          "name": "stdout",
          "text": [
            "fear completed\n",
            "angry completed\n",
            "neutral completed\n",
            "disgust completed\n",
            "surprise completed\n",
            "happy completed\n",
            "sad completed\n"
          ]
        }
      ],
      "source": [
        "test = pd.DataFrame()\n",
        "test['image'], test['label'] = createdataframe(TEST_DIR)"
      ]
    },
    {
      "cell_type": "code",
      "source": [
        "test.head()"
      ],
      "metadata": {
        "colab": {
          "base_uri": "https://localhost:8080/",
          "height": 204
        },
        "id": "bMxosXdqQrc-",
        "outputId": "595c60c5-a925-4dc4-8e2d-28f2b4b5f291"
      },
      "execution_count": null,
      "outputs": [
        {
          "output_type": "execute_result",
          "data": {
            "text/plain": [
              "                                               image label\n",
              "0  /content/drive/MyDrive/Teachmint split_config....  fear\n",
              "1  /content/drive/MyDrive/Teachmint split_config....  fear\n",
              "2  /content/drive/MyDrive/Teachmint split_config....  fear\n",
              "3  /content/drive/MyDrive/Teachmint split_config....  fear\n",
              "4  /content/drive/MyDrive/Teachmint split_config....  fear"
            ],
            "text/html": [
              "\n",
              "  <div id=\"df-b92a5f33-b1ad-4b9e-984d-36b22ed9e767\" class=\"colab-df-container\">\n",
              "    <div>\n",
              "<style scoped>\n",
              "    .dataframe tbody tr th:only-of-type {\n",
              "        vertical-align: middle;\n",
              "    }\n",
              "\n",
              "    .dataframe tbody tr th {\n",
              "        vertical-align: top;\n",
              "    }\n",
              "\n",
              "    .dataframe thead th {\n",
              "        text-align: right;\n",
              "    }\n",
              "</style>\n",
              "<table border=\"1\" class=\"dataframe\">\n",
              "  <thead>\n",
              "    <tr style=\"text-align: right;\">\n",
              "      <th></th>\n",
              "      <th>image</th>\n",
              "      <th>label</th>\n",
              "    </tr>\n",
              "  </thead>\n",
              "  <tbody>\n",
              "    <tr>\n",
              "      <th>0</th>\n",
              "      <td>/content/drive/MyDrive/Teachmint split_config....</td>\n",
              "      <td>fear</td>\n",
              "    </tr>\n",
              "    <tr>\n",
              "      <th>1</th>\n",
              "      <td>/content/drive/MyDrive/Teachmint split_config....</td>\n",
              "      <td>fear</td>\n",
              "    </tr>\n",
              "    <tr>\n",
              "      <th>2</th>\n",
              "      <td>/content/drive/MyDrive/Teachmint split_config....</td>\n",
              "      <td>fear</td>\n",
              "    </tr>\n",
              "    <tr>\n",
              "      <th>3</th>\n",
              "      <td>/content/drive/MyDrive/Teachmint split_config....</td>\n",
              "      <td>fear</td>\n",
              "    </tr>\n",
              "    <tr>\n",
              "      <th>4</th>\n",
              "      <td>/content/drive/MyDrive/Teachmint split_config....</td>\n",
              "      <td>fear</td>\n",
              "    </tr>\n",
              "  </tbody>\n",
              "</table>\n",
              "</div>\n",
              "    <div class=\"colab-df-buttons\">\n",
              "\n",
              "  <div class=\"colab-df-container\">\n",
              "    <button class=\"colab-df-convert\" onclick=\"convertToInteractive('df-b92a5f33-b1ad-4b9e-984d-36b22ed9e767')\"\n",
              "            title=\"Convert this dataframe to an interactive table.\"\n",
              "            style=\"display:none;\">\n",
              "\n",
              "  <svg xmlns=\"http://www.w3.org/2000/svg\" height=\"24px\" viewBox=\"0 -960 960 960\">\n",
              "    <path d=\"M120-120v-720h720v720H120Zm60-500h600v-160H180v160Zm220 220h160v-160H400v160Zm0 220h160v-160H400v160ZM180-400h160v-160H180v160Zm440 0h160v-160H620v160ZM180-180h160v-160H180v160Zm440 0h160v-160H620v160Z\"/>\n",
              "  </svg>\n",
              "    </button>\n",
              "\n",
              "  <style>\n",
              "    .colab-df-container {\n",
              "      display:flex;\n",
              "      gap: 12px;\n",
              "    }\n",
              "\n",
              "    .colab-df-convert {\n",
              "      background-color: #E8F0FE;\n",
              "      border: none;\n",
              "      border-radius: 50%;\n",
              "      cursor: pointer;\n",
              "      display: none;\n",
              "      fill: #1967D2;\n",
              "      height: 32px;\n",
              "      padding: 0 0 0 0;\n",
              "      width: 32px;\n",
              "    }\n",
              "\n",
              "    .colab-df-convert:hover {\n",
              "      background-color: #E2EBFA;\n",
              "      box-shadow: 0px 1px 2px rgba(60, 64, 67, 0.3), 0px 1px 3px 1px rgba(60, 64, 67, 0.15);\n",
              "      fill: #174EA6;\n",
              "    }\n",
              "\n",
              "    .colab-df-buttons div {\n",
              "      margin-bottom: 4px;\n",
              "    }\n",
              "\n",
              "    [theme=dark] .colab-df-convert {\n",
              "      background-color: #3B4455;\n",
              "      fill: #D2E3FC;\n",
              "    }\n",
              "\n",
              "    [theme=dark] .colab-df-convert:hover {\n",
              "      background-color: #434B5C;\n",
              "      box-shadow: 0px 1px 3px 1px rgba(0, 0, 0, 0.15);\n",
              "      filter: drop-shadow(0px 1px 2px rgba(0, 0, 0, 0.3));\n",
              "      fill: #FFFFFF;\n",
              "    }\n",
              "  </style>\n",
              "\n",
              "    <script>\n",
              "      const buttonEl =\n",
              "        document.querySelector('#df-b92a5f33-b1ad-4b9e-984d-36b22ed9e767 button.colab-df-convert');\n",
              "      buttonEl.style.display =\n",
              "        google.colab.kernel.accessAllowed ? 'block' : 'none';\n",
              "\n",
              "      async function convertToInteractive(key) {\n",
              "        const element = document.querySelector('#df-b92a5f33-b1ad-4b9e-984d-36b22ed9e767');\n",
              "        const dataTable =\n",
              "          await google.colab.kernel.invokeFunction('convertToInteractive',\n",
              "                                                    [key], {});\n",
              "        if (!dataTable) return;\n",
              "\n",
              "        const docLinkHtml = 'Like what you see? Visit the ' +\n",
              "          '<a target=\"_blank\" href=https://colab.research.google.com/notebooks/data_table.ipynb>data table notebook</a>'\n",
              "          + ' to learn more about interactive tables.';\n",
              "        element.innerHTML = '';\n",
              "        dataTable['output_type'] = 'display_data';\n",
              "        await google.colab.output.renderOutput(dataTable, element);\n",
              "        const docLink = document.createElement('div');\n",
              "        docLink.innerHTML = docLinkHtml;\n",
              "        element.appendChild(docLink);\n",
              "      }\n",
              "    </script>\n",
              "  </div>\n",
              "\n",
              "\n",
              "<div id=\"df-52d34ff5-e516-45ad-9e8c-b3e5ce54582a\">\n",
              "  <button class=\"colab-df-quickchart\" onclick=\"quickchart('df-52d34ff5-e516-45ad-9e8c-b3e5ce54582a')\"\n",
              "            title=\"Suggest charts.\"\n",
              "            style=\"display:none;\">\n",
              "\n",
              "<svg xmlns=\"http://www.w3.org/2000/svg\" height=\"24px\"viewBox=\"0 0 24 24\"\n",
              "     width=\"24px\">\n",
              "    <g>\n",
              "        <path d=\"M19 3H5c-1.1 0-2 .9-2 2v14c0 1.1.9 2 2 2h14c1.1 0 2-.9 2-2V5c0-1.1-.9-2-2-2zM9 17H7v-7h2v7zm4 0h-2V7h2v10zm4 0h-2v-4h2v4z\"/>\n",
              "    </g>\n",
              "</svg>\n",
              "  </button>\n",
              "\n",
              "<style>\n",
              "  .colab-df-quickchart {\n",
              "      --bg-color: #E8F0FE;\n",
              "      --fill-color: #1967D2;\n",
              "      --hover-bg-color: #E2EBFA;\n",
              "      --hover-fill-color: #174EA6;\n",
              "      --disabled-fill-color: #AAA;\n",
              "      --disabled-bg-color: #DDD;\n",
              "  }\n",
              "\n",
              "  [theme=dark] .colab-df-quickchart {\n",
              "      --bg-color: #3B4455;\n",
              "      --fill-color: #D2E3FC;\n",
              "      --hover-bg-color: #434B5C;\n",
              "      --hover-fill-color: #FFFFFF;\n",
              "      --disabled-bg-color: #3B4455;\n",
              "      --disabled-fill-color: #666;\n",
              "  }\n",
              "\n",
              "  .colab-df-quickchart {\n",
              "    background-color: var(--bg-color);\n",
              "    border: none;\n",
              "    border-radius: 50%;\n",
              "    cursor: pointer;\n",
              "    display: none;\n",
              "    fill: var(--fill-color);\n",
              "    height: 32px;\n",
              "    padding: 0;\n",
              "    width: 32px;\n",
              "  }\n",
              "\n",
              "  .colab-df-quickchart:hover {\n",
              "    background-color: var(--hover-bg-color);\n",
              "    box-shadow: 0 1px 2px rgba(60, 64, 67, 0.3), 0 1px 3px 1px rgba(60, 64, 67, 0.15);\n",
              "    fill: var(--button-hover-fill-color);\n",
              "  }\n",
              "\n",
              "  .colab-df-quickchart-complete:disabled,\n",
              "  .colab-df-quickchart-complete:disabled:hover {\n",
              "    background-color: var(--disabled-bg-color);\n",
              "    fill: var(--disabled-fill-color);\n",
              "    box-shadow: none;\n",
              "  }\n",
              "\n",
              "  .colab-df-spinner {\n",
              "    border: 2px solid var(--fill-color);\n",
              "    border-color: transparent;\n",
              "    border-bottom-color: var(--fill-color);\n",
              "    animation:\n",
              "      spin 1s steps(1) infinite;\n",
              "  }\n",
              "\n",
              "  @keyframes spin {\n",
              "    0% {\n",
              "      border-color: transparent;\n",
              "      border-bottom-color: var(--fill-color);\n",
              "      border-left-color: var(--fill-color);\n",
              "    }\n",
              "    20% {\n",
              "      border-color: transparent;\n",
              "      border-left-color: var(--fill-color);\n",
              "      border-top-color: var(--fill-color);\n",
              "    }\n",
              "    30% {\n",
              "      border-color: transparent;\n",
              "      border-left-color: var(--fill-color);\n",
              "      border-top-color: var(--fill-color);\n",
              "      border-right-color: var(--fill-color);\n",
              "    }\n",
              "    40% {\n",
              "      border-color: transparent;\n",
              "      border-right-color: var(--fill-color);\n",
              "      border-top-color: var(--fill-color);\n",
              "    }\n",
              "    60% {\n",
              "      border-color: transparent;\n",
              "      border-right-color: var(--fill-color);\n",
              "    }\n",
              "    80% {\n",
              "      border-color: transparent;\n",
              "      border-right-color: var(--fill-color);\n",
              "      border-bottom-color: var(--fill-color);\n",
              "    }\n",
              "    90% {\n",
              "      border-color: transparent;\n",
              "      border-bottom-color: var(--fill-color);\n",
              "    }\n",
              "  }\n",
              "</style>\n",
              "\n",
              "  <script>\n",
              "    async function quickchart(key) {\n",
              "      const quickchartButtonEl =\n",
              "        document.querySelector('#' + key + ' button');\n",
              "      quickchartButtonEl.disabled = true;  // To prevent multiple clicks.\n",
              "      quickchartButtonEl.classList.add('colab-df-spinner');\n",
              "      try {\n",
              "        const charts = await google.colab.kernel.invokeFunction(\n",
              "            'suggestCharts', [key], {});\n",
              "      } catch (error) {\n",
              "        console.error('Error during call to suggestCharts:', error);\n",
              "      }\n",
              "      quickchartButtonEl.classList.remove('colab-df-spinner');\n",
              "      quickchartButtonEl.classList.add('colab-df-quickchart-complete');\n",
              "    }\n",
              "    (() => {\n",
              "      let quickchartButtonEl =\n",
              "        document.querySelector('#df-52d34ff5-e516-45ad-9e8c-b3e5ce54582a button');\n",
              "      quickchartButtonEl.style.display =\n",
              "        google.colab.kernel.accessAllowed ? 'block' : 'none';\n",
              "    })();\n",
              "  </script>\n",
              "</div>\n",
              "    </div>\n",
              "  </div>\n"
            ]
          },
          "metadata": {},
          "execution_count": 8
        }
      ]
    },
    {
      "cell_type": "code",
      "source": [
        "print(test)"
      ],
      "metadata": {
        "colab": {
          "base_uri": "https://localhost:8080/"
        },
        "id": "SYmTBDLePo0T",
        "outputId": "58434b2d-e6d7-47bf-9384-5e33dd5929b9"
      },
      "execution_count": null,
      "outputs": [
        {
          "output_type": "stream",
          "name": "stdout",
          "text": [
            "                                                  image label\n",
            "0     /content/drive/MyDrive/Teachmint split_config....  fear\n",
            "1     /content/drive/MyDrive/Teachmint split_config....  fear\n",
            "2     /content/drive/MyDrive/Teachmint split_config....  fear\n",
            "3     /content/drive/MyDrive/Teachmint split_config....  fear\n",
            "4     /content/drive/MyDrive/Teachmint split_config....  fear\n",
            "...                                                 ...   ...\n",
            "7061  /content/drive/MyDrive/Teachmint split_config....   sad\n",
            "7062  /content/drive/MyDrive/Teachmint split_config....   sad\n",
            "7063  /content/drive/MyDrive/Teachmint split_config....   sad\n",
            "7064  /content/drive/MyDrive/Teachmint split_config....   sad\n",
            "7065  /content/drive/MyDrive/Teachmint split_config....   sad\n",
            "\n",
            "[7066 rows x 2 columns]\n"
          ]
        }
      ]
    },
    {
      "cell_type": "code",
      "execution_count": null,
      "metadata": {
        "colab": {
          "base_uri": "https://localhost:8080/"
        },
        "id": "7FbfJMtX7MLE",
        "outputId": "77393881-f14e-4d35-a676-ee4bea18a50f"
      },
      "outputs": [
        {
          "output_type": "stream",
          "name": "stdout",
          "text": [
            "                                                  image label\n",
            "0     /content/drive/MyDrive/Teachmint split_config....  fear\n",
            "1     /content/drive/MyDrive/Teachmint split_config....  fear\n",
            "2     /content/drive/MyDrive/Teachmint split_config....  fear\n",
            "3     /content/drive/MyDrive/Teachmint split_config....  fear\n",
            "4     /content/drive/MyDrive/Teachmint split_config....  fear\n",
            "...                                                 ...   ...\n",
            "7061  /content/drive/MyDrive/Teachmint split_config....   sad\n",
            "7062  /content/drive/MyDrive/Teachmint split_config....   sad\n",
            "7063  /content/drive/MyDrive/Teachmint split_config....   sad\n",
            "7064  /content/drive/MyDrive/Teachmint split_config....   sad\n",
            "7065  /content/drive/MyDrive/Teachmint split_config....   sad\n",
            "\n",
            "[7066 rows x 2 columns]\n",
            "0       /content/drive/MyDrive/Teachmint split_config....\n",
            "1       /content/drive/MyDrive/Teachmint split_config....\n",
            "2       /content/drive/MyDrive/Teachmint split_config....\n",
            "3       /content/drive/MyDrive/Teachmint split_config....\n",
            "4       /content/drive/MyDrive/Teachmint split_config....\n",
            "                              ...                        \n",
            "7061    /content/drive/MyDrive/Teachmint split_config....\n",
            "7062    /content/drive/MyDrive/Teachmint split_config....\n",
            "7063    /content/drive/MyDrive/Teachmint split_config....\n",
            "7064    /content/drive/MyDrive/Teachmint split_config....\n",
            "7065    /content/drive/MyDrive/Teachmint split_config....\n",
            "Name: image, Length: 7066, dtype: object\n"
          ]
        }
      ],
      "source": [
        "print(test)\n",
        "print(test['image'])"
      ]
    },
    {
      "cell_type": "code",
      "execution_count": null,
      "metadata": {
        "id": "lmtpflVE7OEz"
      },
      "outputs": [],
      "source": [
        "from tqdm.notebook import tqdm"
      ]
    },
    {
      "cell_type": "code",
      "execution_count": null,
      "metadata": {
        "id": "kOTWb-mk7SR4"
      },
      "outputs": [],
      "source": [
        "def extract_features(images):\n",
        "    features = []\n",
        "    for image in tqdm(images):\n",
        "        img = load_img(image,grayscale =  True )\n",
        "        img = np.array(img)\n",
        "        features.append(img)\n",
        "    features = np.array(features)\n",
        "    features = features.reshape(len(features),48,48,1)\n",
        "    return features"
      ]
    },
    {
      "cell_type": "code",
      "execution_count": null,
      "metadata": {
        "colab": {
          "base_uri": "https://localhost:8080/",
          "height": 103,
          "referenced_widgets": [
            "c8ed1b0f04464f3c960fede2f6c5ff67",
            "6fec17e88b014f8bb604ca56ae8f2731",
            "d0b7b88a98944d71a8ec9e2cc179d58f",
            "20217aad2bfe44d8a488842fffbfd25c",
            "cb7f4c07822a401fbe7b7941c022f5c9",
            "19a480df14ff4bdf9b731ddbe7153654",
            "694d996c9fc14163ab3c5b103d17eae6",
            "0475e20b9a014f11ae286638570ecdc1",
            "9572d553ca8a46aaa0b82aa9caa6b85b",
            "0626170b6d274f91869e9fa1b5d22201",
            "b1c705fa55ab4b4a833c14ff0558120d"
          ]
        },
        "id": "f8pOENSt7UAH",
        "outputId": "429cf453-b5a9-4b77-cc2f-365191638c66"
      },
      "outputs": [
        {
          "output_type": "display_data",
          "data": {
            "text/plain": [
              "  0%|          | 0/28882 [00:00<?, ?it/s]"
            ],
            "application/vnd.jupyter.widget-view+json": {
              "version_major": 2,
              "version_minor": 0,
              "model_id": "c8ed1b0f04464f3c960fede2f6c5ff67"
            }
          },
          "metadata": {}
        },
        {
          "output_type": "stream",
          "name": "stderr",
          "text": [
            "/usr/local/lib/python3.10/dist-packages/keras/src/utils/image_utils.py:409: UserWarning: grayscale is deprecated. Please use color_mode = \"grayscale\"\n",
            "  warnings.warn(\n"
          ]
        }
      ],
      "source": [
        "train_features = extract_features(train['image'])"
      ]
    },
    {
      "cell_type": "code",
      "execution_count": null,
      "metadata": {
        "colab": {
          "base_uri": "https://localhost:8080/",
          "height": 49,
          "referenced_widgets": [
            "b82fad2819db48dfb8f41faba2a8d93e",
            "0af80db2144d48ec81702275d715279b",
            "b5dc82ad359c434a8e63465204cc764e",
            "72f80aa3a6324ac4b9f502e77e441c3c",
            "43fa7ce9e02f485297b70c0a337272e5",
            "73756881d4e24a84bc71dea143737689",
            "7a0cc1bd56464cd0bf05e9ba8ad58e3f",
            "4b87974a8e7049a4865fba8890146cec",
            "3786cdc7535b41098999cf97db5380fb",
            "c8c677fe97f94bf8ba058560dd24387c",
            "3d46a11d44a54f9882b6b0f0c9a6864b"
          ]
        },
        "id": "24tPRXhh7aRE",
        "outputId": "8ed093d7-96a3-4a0b-8299-fd8c0059b045"
      },
      "outputs": [
        {
          "data": {
            "application/vnd.jupyter.widget-view+json": {
              "model_id": "b82fad2819db48dfb8f41faba2a8d93e",
              "version_major": 2,
              "version_minor": 0
            },
            "text/plain": [
              "  0%|          | 0/7066 [00:00<?, ?it/s]"
            ]
          },
          "metadata": {},
          "output_type": "display_data"
        }
      ],
      "source": [
        "test_features = extract_features(test['image'])"
      ]
    },
    {
      "cell_type": "code",
      "execution_count": null,
      "metadata": {
        "id": "2Azy2cCJ7b23"
      },
      "outputs": [],
      "source": [
        "x_train = train_features/255.0\n",
        "x_test = test_features/255.0"
      ]
    },
    {
      "cell_type": "code",
      "execution_count": null,
      "metadata": {
        "id": "55I4xeSt7eT9"
      },
      "outputs": [],
      "source": [
        "from sklearn.preprocessing import LabelEncoder"
      ]
    },
    {
      "cell_type": "code",
      "execution_count": null,
      "metadata": {
        "colab": {
          "base_uri": "https://localhost:8080/",
          "height": 74
        },
        "id": "2iaICmk07gKw",
        "outputId": "6fba65f8-3ed9-41e8-9687-6d54e62ea798"
      },
      "outputs": [
        {
          "output_type": "execute_result",
          "data": {
            "text/plain": [
              "LabelEncoder()"
            ],
            "text/html": [
              "<style>#sk-container-id-1 {color: black;background-color: white;}#sk-container-id-1 pre{padding: 0;}#sk-container-id-1 div.sk-toggleable {background-color: white;}#sk-container-id-1 label.sk-toggleable__label {cursor: pointer;display: block;width: 100%;margin-bottom: 0;padding: 0.3em;box-sizing: border-box;text-align: center;}#sk-container-id-1 label.sk-toggleable__label-arrow:before {content: \"▸\";float: left;margin-right: 0.25em;color: #696969;}#sk-container-id-1 label.sk-toggleable__label-arrow:hover:before {color: black;}#sk-container-id-1 div.sk-estimator:hover label.sk-toggleable__label-arrow:before {color: black;}#sk-container-id-1 div.sk-toggleable__content {max-height: 0;max-width: 0;overflow: hidden;text-align: left;background-color: #f0f8ff;}#sk-container-id-1 div.sk-toggleable__content pre {margin: 0.2em;color: black;border-radius: 0.25em;background-color: #f0f8ff;}#sk-container-id-1 input.sk-toggleable__control:checked~div.sk-toggleable__content {max-height: 200px;max-width: 100%;overflow: auto;}#sk-container-id-1 input.sk-toggleable__control:checked~label.sk-toggleable__label-arrow:before {content: \"▾\";}#sk-container-id-1 div.sk-estimator input.sk-toggleable__control:checked~label.sk-toggleable__label {background-color: #d4ebff;}#sk-container-id-1 div.sk-label input.sk-toggleable__control:checked~label.sk-toggleable__label {background-color: #d4ebff;}#sk-container-id-1 input.sk-hidden--visually {border: 0;clip: rect(1px 1px 1px 1px);clip: rect(1px, 1px, 1px, 1px);height: 1px;margin: -1px;overflow: hidden;padding: 0;position: absolute;width: 1px;}#sk-container-id-1 div.sk-estimator {font-family: monospace;background-color: #f0f8ff;border: 1px dotted black;border-radius: 0.25em;box-sizing: border-box;margin-bottom: 0.5em;}#sk-container-id-1 div.sk-estimator:hover {background-color: #d4ebff;}#sk-container-id-1 div.sk-parallel-item::after {content: \"\";width: 100%;border-bottom: 1px solid gray;flex-grow: 1;}#sk-container-id-1 div.sk-label:hover label.sk-toggleable__label {background-color: #d4ebff;}#sk-container-id-1 div.sk-serial::before {content: \"\";position: absolute;border-left: 1px solid gray;box-sizing: border-box;top: 0;bottom: 0;left: 50%;z-index: 0;}#sk-container-id-1 div.sk-serial {display: flex;flex-direction: column;align-items: center;background-color: white;padding-right: 0.2em;padding-left: 0.2em;position: relative;}#sk-container-id-1 div.sk-item {position: relative;z-index: 1;}#sk-container-id-1 div.sk-parallel {display: flex;align-items: stretch;justify-content: center;background-color: white;position: relative;}#sk-container-id-1 div.sk-item::before, #sk-container-id-1 div.sk-parallel-item::before {content: \"\";position: absolute;border-left: 1px solid gray;box-sizing: border-box;top: 0;bottom: 0;left: 50%;z-index: -1;}#sk-container-id-1 div.sk-parallel-item {display: flex;flex-direction: column;z-index: 1;position: relative;background-color: white;}#sk-container-id-1 div.sk-parallel-item:first-child::after {align-self: flex-end;width: 50%;}#sk-container-id-1 div.sk-parallel-item:last-child::after {align-self: flex-start;width: 50%;}#sk-container-id-1 div.sk-parallel-item:only-child::after {width: 0;}#sk-container-id-1 div.sk-dashed-wrapped {border: 1px dashed gray;margin: 0 0.4em 0.5em 0.4em;box-sizing: border-box;padding-bottom: 0.4em;background-color: white;}#sk-container-id-1 div.sk-label label {font-family: monospace;font-weight: bold;display: inline-block;line-height: 1.2em;}#sk-container-id-1 div.sk-label-container {text-align: center;}#sk-container-id-1 div.sk-container {/* jupyter's `normalize.less` sets `[hidden] { display: none; }` but bootstrap.min.css set `[hidden] { display: none !important; }` so we also need the `!important` here to be able to override the default hidden behavior on the sphinx rendered scikit-learn.org. See: https://github.com/scikit-learn/scikit-learn/issues/21755 */display: inline-block !important;position: relative;}#sk-container-id-1 div.sk-text-repr-fallback {display: none;}</style><div id=\"sk-container-id-1\" class=\"sk-top-container\"><div class=\"sk-text-repr-fallback\"><pre>LabelEncoder()</pre><b>In a Jupyter environment, please rerun this cell to show the HTML representation or trust the notebook. <br />On GitHub, the HTML representation is unable to render, please try loading this page with nbviewer.org.</b></div><div class=\"sk-container\" hidden><div class=\"sk-item\"><div class=\"sk-estimator sk-toggleable\"><input class=\"sk-toggleable__control sk-hidden--visually\" id=\"sk-estimator-id-1\" type=\"checkbox\" checked><label for=\"sk-estimator-id-1\" class=\"sk-toggleable__label sk-toggleable__label-arrow\">LabelEncoder</label><div class=\"sk-toggleable__content\"><pre>LabelEncoder()</pre></div></div></div></div></div>"
            ]
          },
          "metadata": {},
          "execution_count": 17
        }
      ],
      "source": [
        "le = LabelEncoder()\n",
        "le.fit(train['label'])"
      ]
    },
    {
      "cell_type": "code",
      "execution_count": null,
      "metadata": {
        "id": "zMjb7gzD7hrC"
      },
      "outputs": [],
      "source": [
        "y_train = le.transform(train['label'])\n",
        "y_test = le.transform(test['label'])"
      ]
    },
    {
      "cell_type": "code",
      "execution_count": null,
      "metadata": {
        "id": "Hhrty6rx7joV"
      },
      "outputs": [],
      "source": [
        "y_train = to_categorical(y_train,num_classes = 7)\n",
        "y_test = to_categorical(y_test,num_classes = 7)"
      ]
    },
    {
      "cell_type": "code",
      "execution_count": null,
      "metadata": {
        "id": "89EcG_3M7lBC"
      },
      "outputs": [],
      "source": [
        "model = Sequential()\n",
        "# convolutional layers\n",
        "model.add(Conv2D(128, kernel_size=(3,3), activation='relu', input_shape=(48,48,1)))\n",
        "model.add(MaxPooling2D(pool_size=(2,2)))\n",
        "model.add(Dropout(0.4))\n",
        "\n",
        "model.add(Conv2D(256, kernel_size=(3,3), activation='relu'))\n",
        "model.add(MaxPooling2D(pool_size=(2,2)))\n",
        "model.add(Dropout(0.4))\n",
        "\n",
        "model.add(Conv2D(512, kernel_size=(3,3), activation='relu'))\n",
        "model.add(MaxPooling2D(pool_size=(2,2)))\n",
        "model.add(Dropout(0.4))\n",
        "\n",
        "model.add(Conv2D(512, kernel_size=(3,3), activation='relu'))\n",
        "model.add(MaxPooling2D(pool_size=(2,2)))\n",
        "model.add(Dropout(0.4))\n",
        "\n",
        "model.add(Flatten())\n",
        "\n",
        "model.add(Dense(512, activation='relu'))\n",
        "model.add(Dropout(0.4))\n",
        "model.add(Dense(256, activation='relu'))\n",
        "model.add(Dropout(0.3))\n",
        "\n",
        "model.add(Dense(7, activation='softmax'))"
      ]
    },
    {
      "cell_type": "code",
      "execution_count": null,
      "metadata": {
        "id": "IHi2qXB37osE"
      },
      "outputs": [],
      "source": [
        "model.compile(optimizer = 'adam', loss = 'categorical_crossentropy', metrics = 'accuracy' )"
      ]
    },
    {
      "cell_type": "code",
      "execution_count": null,
      "metadata": {
        "colab": {
          "base_uri": "https://localhost:8080/"
        },
        "id": "UymUt5ys7zOA",
        "outputId": "c714f77d-135c-4dcf-9178-c7b47d98fb16"
      },
      "outputs": [
        {
          "output_type": "stream",
          "name": "stdout",
          "text": [
            "Epoch 1/200\n",
            "226/226 [==============================] - 25s 56ms/step - loss: 1.8226 - accuracy: 0.2464 - val_loss: 1.8128 - val_accuracy: 0.2583\n",
            "Epoch 2/200\n",
            "226/226 [==============================] - 11s 50ms/step - loss: 1.7879 - accuracy: 0.2582 - val_loss: 1.6889 - val_accuracy: 0.3082\n",
            "Epoch 3/200\n",
            "226/226 [==============================] - 11s 50ms/step - loss: 1.6719 - accuracy: 0.3201 - val_loss: 1.5680 - val_accuracy: 0.3600\n",
            "Epoch 4/200\n",
            "226/226 [==============================] - 12s 53ms/step - loss: 1.5260 - accuracy: 0.4042 - val_loss: 1.3969 - val_accuracy: 0.4735\n",
            "Epoch 5/200\n",
            "226/226 [==============================] - 12s 53ms/step - loss: 1.4368 - accuracy: 0.4462 - val_loss: 1.3222 - val_accuracy: 0.4962\n",
            "Epoch 6/200\n",
            "226/226 [==============================] - 12s 53ms/step - loss: 1.3865 - accuracy: 0.4666 - val_loss: 1.2787 - val_accuracy: 0.5075\n",
            "Epoch 7/200\n",
            "226/226 [==============================] - 12s 54ms/step - loss: 1.3514 - accuracy: 0.4784 - val_loss: 1.2535 - val_accuracy: 0.5214\n",
            "Epoch 8/200\n",
            "226/226 [==============================] - 12s 53ms/step - loss: 1.3219 - accuracy: 0.4918 - val_loss: 1.2241 - val_accuracy: 0.5345\n",
            "Epoch 9/200\n",
            "226/226 [==============================] - 12s 52ms/step - loss: 1.3020 - accuracy: 0.5006 - val_loss: 1.1996 - val_accuracy: 0.5446\n",
            "Epoch 10/200\n",
            "226/226 [==============================] - 12s 52ms/step - loss: 1.2822 - accuracy: 0.5075 - val_loss: 1.1932 - val_accuracy: 0.5466\n",
            "Epoch 11/200\n",
            "226/226 [==============================] - 12s 52ms/step - loss: 1.2555 - accuracy: 0.5158 - val_loss: 1.1643 - val_accuracy: 0.5566\n",
            "Epoch 12/200\n",
            "226/226 [==============================] - 12s 52ms/step - loss: 1.2405 - accuracy: 0.5230 - val_loss: 1.1777 - val_accuracy: 0.5495\n",
            "Epoch 13/200\n",
            "226/226 [==============================] - 12s 51ms/step - loss: 1.2236 - accuracy: 0.5307 - val_loss: 1.1383 - val_accuracy: 0.5630\n",
            "Epoch 14/200\n",
            "226/226 [==============================] - 12s 52ms/step - loss: 1.2114 - accuracy: 0.5375 - val_loss: 1.1452 - val_accuracy: 0.5647\n",
            "Epoch 15/200\n",
            "226/226 [==============================] - 12s 52ms/step - loss: 1.2028 - accuracy: 0.5445 - val_loss: 1.1279 - val_accuracy: 0.5715\n",
            "Epoch 16/200\n",
            "226/226 [==============================] - 12s 52ms/step - loss: 1.1907 - accuracy: 0.5479 - val_loss: 1.1294 - val_accuracy: 0.5709\n",
            "Epoch 17/200\n",
            "226/226 [==============================] - 12s 55ms/step - loss: 1.1754 - accuracy: 0.5509 - val_loss: 1.1083 - val_accuracy: 0.5817\n",
            "Epoch 18/200\n",
            "226/226 [==============================] - 12s 55ms/step - loss: 1.1580 - accuracy: 0.5626 - val_loss: 1.1019 - val_accuracy: 0.5812\n",
            "Epoch 19/200\n",
            "226/226 [==============================] - 12s 54ms/step - loss: 1.1593 - accuracy: 0.5598 - val_loss: 1.1089 - val_accuracy: 0.5866\n",
            "Epoch 20/200\n",
            "226/226 [==============================] - 12s 52ms/step - loss: 1.1450 - accuracy: 0.5666 - val_loss: 1.0877 - val_accuracy: 0.5921\n",
            "Epoch 21/200\n",
            "226/226 [==============================] - 12s 52ms/step - loss: 1.1333 - accuracy: 0.5704 - val_loss: 1.0891 - val_accuracy: 0.5968\n",
            "Epoch 22/200\n",
            "226/226 [==============================] - 12s 52ms/step - loss: 1.1258 - accuracy: 0.5724 - val_loss: 1.0839 - val_accuracy: 0.5933\n",
            "Epoch 23/200\n",
            "226/226 [==============================] - 12s 52ms/step - loss: 1.1175 - accuracy: 0.5770 - val_loss: 1.0835 - val_accuracy: 0.5977\n",
            "Epoch 24/200\n",
            "226/226 [==============================] - 12s 52ms/step - loss: 1.1045 - accuracy: 0.5822 - val_loss: 1.0811 - val_accuracy: 0.5958\n",
            "Epoch 25/200\n",
            "226/226 [==============================] - 12s 52ms/step - loss: 1.0975 - accuracy: 0.5828 - val_loss: 1.0941 - val_accuracy: 0.5947\n",
            "Epoch 26/200\n",
            "226/226 [==============================] - 12s 52ms/step - loss: 1.0838 - accuracy: 0.5872 - val_loss: 1.0756 - val_accuracy: 0.6071\n",
            "Epoch 27/200\n",
            "226/226 [==============================] - 12s 52ms/step - loss: 1.0898 - accuracy: 0.5882 - val_loss: 1.0695 - val_accuracy: 0.5978\n",
            "Epoch 28/200\n",
            "226/226 [==============================] - 12s 55ms/step - loss: 1.0795 - accuracy: 0.5919 - val_loss: 1.0585 - val_accuracy: 0.6039\n",
            "Epoch 29/200\n",
            "226/226 [==============================] - 12s 55ms/step - loss: 1.0721 - accuracy: 0.5897 - val_loss: 1.0620 - val_accuracy: 0.6057\n",
            "Epoch 30/200\n",
            "226/226 [==============================] - 12s 55ms/step - loss: 1.0643 - accuracy: 0.5954 - val_loss: 1.0541 - val_accuracy: 0.6084\n",
            "Epoch 31/200\n",
            "226/226 [==============================] - 12s 54ms/step - loss: 1.0600 - accuracy: 0.5995 - val_loss: 1.0569 - val_accuracy: 0.6033\n",
            "Epoch 32/200\n",
            "226/226 [==============================] - 12s 54ms/step - loss: 1.0537 - accuracy: 0.6025 - val_loss: 1.0632 - val_accuracy: 0.6068\n",
            "Epoch 33/200\n",
            "226/226 [==============================] - 12s 52ms/step - loss: 1.0350 - accuracy: 0.6108 - val_loss: 1.0513 - val_accuracy: 0.6087\n",
            "Epoch 34/200\n",
            "226/226 [==============================] - 12s 55ms/step - loss: 1.0389 - accuracy: 0.6066 - val_loss: 1.0486 - val_accuracy: 0.6098\n",
            "Epoch 35/200\n",
            "226/226 [==============================] - 12s 52ms/step - loss: 1.0305 - accuracy: 0.6091 - val_loss: 1.0565 - val_accuracy: 0.6110\n",
            "Epoch 36/200\n",
            "226/226 [==============================] - 12s 52ms/step - loss: 1.0222 - accuracy: 0.6154 - val_loss: 1.0538 - val_accuracy: 0.6073\n",
            "Epoch 37/200\n",
            "226/226 [==============================] - 12s 52ms/step - loss: 1.0166 - accuracy: 0.6176 - val_loss: 1.0612 - val_accuracy: 0.6095\n",
            "Epoch 38/200\n",
            "226/226 [==============================] - 12s 52ms/step - loss: 1.0094 - accuracy: 0.6193 - val_loss: 1.0507 - val_accuracy: 0.6097\n",
            "Epoch 39/200\n",
            "226/226 [==============================] - 12s 52ms/step - loss: 1.0080 - accuracy: 0.6197 - val_loss: 1.0439 - val_accuracy: 0.6118\n",
            "Epoch 40/200\n",
            "226/226 [==============================] - 12s 52ms/step - loss: 0.9918 - accuracy: 0.6264 - val_loss: 1.0477 - val_accuracy: 0.6136\n",
            "Epoch 41/200\n",
            "226/226 [==============================] - 12s 52ms/step - loss: 0.9887 - accuracy: 0.6256 - val_loss: 1.0586 - val_accuracy: 0.6159\n",
            "Epoch 42/200\n",
            "226/226 [==============================] - 12s 52ms/step - loss: 0.9876 - accuracy: 0.6270 - val_loss: 1.0462 - val_accuracy: 0.6158\n",
            "Epoch 43/200\n",
            "226/226 [==============================] - 12s 52ms/step - loss: 0.9860 - accuracy: 0.6267 - val_loss: 1.0464 - val_accuracy: 0.6108\n",
            "Epoch 44/200\n",
            "226/226 [==============================] - 12s 55ms/step - loss: 0.9708 - accuracy: 0.6361 - val_loss: 1.0364 - val_accuracy: 0.6185\n",
            "Epoch 45/200\n",
            "226/226 [==============================] - 12s 54ms/step - loss: 0.9700 - accuracy: 0.6341 - val_loss: 1.0387 - val_accuracy: 0.6169\n",
            "Epoch 46/200\n",
            "226/226 [==============================] - 12s 54ms/step - loss: 0.9644 - accuracy: 0.6338 - val_loss: 1.0570 - val_accuracy: 0.6144\n",
            "Epoch 47/200\n",
            "226/226 [==============================] - 12s 52ms/step - loss: 0.9506 - accuracy: 0.6443 - val_loss: 1.0297 - val_accuracy: 0.6179\n",
            "Epoch 48/200\n",
            "226/226 [==============================] - 12s 52ms/step - loss: 0.9481 - accuracy: 0.6449 - val_loss: 1.0480 - val_accuracy: 0.6172\n",
            "Epoch 49/200\n",
            "226/226 [==============================] - 12s 52ms/step - loss: 0.9561 - accuracy: 0.6427 - val_loss: 1.0364 - val_accuracy: 0.6152\n",
            "Epoch 50/200\n",
            "226/226 [==============================] - 12s 52ms/step - loss: 0.9417 - accuracy: 0.6470 - val_loss: 1.0364 - val_accuracy: 0.6186\n",
            "Epoch 51/200\n",
            "226/226 [==============================] - 12s 52ms/step - loss: 0.9388 - accuracy: 0.6492 - val_loss: 1.0333 - val_accuracy: 0.6193\n",
            "Epoch 52/200\n",
            "226/226 [==============================] - 12s 52ms/step - loss: 0.9341 - accuracy: 0.6465 - val_loss: 1.0397 - val_accuracy: 0.6179\n",
            "Epoch 53/200\n",
            "226/226 [==============================] - 12s 52ms/step - loss: 0.9245 - accuracy: 0.6544 - val_loss: 1.0297 - val_accuracy: 0.6204\n",
            "Epoch 54/200\n",
            "226/226 [==============================] - 12s 52ms/step - loss: 0.9142 - accuracy: 0.6596 - val_loss: 1.0276 - val_accuracy: 0.6211\n",
            "Epoch 55/200\n",
            "226/226 [==============================] - 12s 52ms/step - loss: 0.9110 - accuracy: 0.6587 - val_loss: 1.0394 - val_accuracy: 0.6196\n",
            "Epoch 56/200\n",
            "226/226 [==============================] - 12s 52ms/step - loss: 0.9048 - accuracy: 0.6601 - val_loss: 1.0251 - val_accuracy: 0.6235\n",
            "Epoch 57/200\n",
            "226/226 [==============================] - 12s 55ms/step - loss: 0.9062 - accuracy: 0.6611 - val_loss: 1.0342 - val_accuracy: 0.6214\n",
            "Epoch 58/200\n",
            "226/226 [==============================] - 12s 54ms/step - loss: 0.8956 - accuracy: 0.6608 - val_loss: 1.0452 - val_accuracy: 0.6192\n",
            "Epoch 59/200\n",
            "226/226 [==============================] - 12s 54ms/step - loss: 0.8949 - accuracy: 0.6653 - val_loss: 1.0427 - val_accuracy: 0.6228\n",
            "Epoch 60/200\n",
            "226/226 [==============================] - 12s 54ms/step - loss: 0.8777 - accuracy: 0.6728 - val_loss: 1.0383 - val_accuracy: 0.6262\n",
            "Epoch 61/200\n",
            "226/226 [==============================] - 12s 54ms/step - loss: 0.8866 - accuracy: 0.6658 - val_loss: 1.0400 - val_accuracy: 0.6238\n",
            "Epoch 62/200\n",
            "226/226 [==============================] - 12s 55ms/step - loss: 0.8789 - accuracy: 0.6722 - val_loss: 1.0311 - val_accuracy: 0.6311\n",
            "Epoch 63/200\n",
            "226/226 [==============================] - 12s 55ms/step - loss: 0.8652 - accuracy: 0.6749 - val_loss: 1.0439 - val_accuracy: 0.6206\n",
            "Epoch 64/200\n",
            "226/226 [==============================] - 12s 55ms/step - loss: 0.8667 - accuracy: 0.6776 - val_loss: 1.0254 - val_accuracy: 0.6251\n",
            "Epoch 65/200\n",
            "226/226 [==============================] - 12s 55ms/step - loss: 0.8600 - accuracy: 0.6791 - val_loss: 1.0314 - val_accuracy: 0.6269\n",
            "Epoch 66/200\n",
            "226/226 [==============================] - 12s 52ms/step - loss: 0.8634 - accuracy: 0.6807 - val_loss: 1.0271 - val_accuracy: 0.6279\n",
            "Epoch 67/200\n",
            "226/226 [==============================] - 12s 52ms/step - loss: 0.8530 - accuracy: 0.6818 - val_loss: 1.0228 - val_accuracy: 0.6254\n",
            "Epoch 68/200\n",
            "226/226 [==============================] - 12s 53ms/step - loss: 0.8512 - accuracy: 0.6824 - val_loss: 1.0243 - val_accuracy: 0.6291\n",
            "Epoch 69/200\n",
            "226/226 [==============================] - 12s 52ms/step - loss: 0.8454 - accuracy: 0.6870 - val_loss: 1.0281 - val_accuracy: 0.6274\n",
            "Epoch 70/200\n",
            "226/226 [==============================] - 12s 52ms/step - loss: 0.8386 - accuracy: 0.6910 - val_loss: 1.0306 - val_accuracy: 0.6301\n",
            "Epoch 71/200\n",
            "226/226 [==============================] - 12s 52ms/step - loss: 0.8373 - accuracy: 0.6896 - val_loss: 1.0376 - val_accuracy: 0.6228\n",
            "Epoch 72/200\n",
            "226/226 [==============================] - 12s 52ms/step - loss: 0.8388 - accuracy: 0.6902 - val_loss: 1.0468 - val_accuracy: 0.6262\n",
            "Epoch 73/200\n",
            "226/226 [==============================] - 12s 52ms/step - loss: 0.8358 - accuracy: 0.6911 - val_loss: 1.0384 - val_accuracy: 0.6292\n",
            "Epoch 74/200\n",
            "226/226 [==============================] - 12s 52ms/step - loss: 0.8238 - accuracy: 0.6937 - val_loss: 1.0390 - val_accuracy: 0.6333\n",
            "Epoch 75/200\n",
            "226/226 [==============================] - 12s 55ms/step - loss: 0.8124 - accuracy: 0.6971 - val_loss: 1.0234 - val_accuracy: 0.6333\n",
            "Epoch 76/200\n",
            "226/226 [==============================] - 12s 55ms/step - loss: 0.8014 - accuracy: 0.7018 - val_loss: 1.0356 - val_accuracy: 0.6305\n",
            "Epoch 77/200\n",
            "226/226 [==============================] - 12s 52ms/step - loss: 0.8044 - accuracy: 0.7040 - val_loss: 1.0320 - val_accuracy: 0.6323\n",
            "Epoch 78/200\n",
            "226/226 [==============================] - 12s 54ms/step - loss: 0.8027 - accuracy: 0.7061 - val_loss: 1.0245 - val_accuracy: 0.6313\n",
            "Epoch 79/200\n",
            "226/226 [==============================] - 12s 52ms/step - loss: 0.7855 - accuracy: 0.7091 - val_loss: 1.0444 - val_accuracy: 0.6309\n",
            "Epoch 80/200\n",
            "226/226 [==============================] - 12s 52ms/step - loss: 0.7852 - accuracy: 0.7138 - val_loss: 1.0310 - val_accuracy: 0.6302\n",
            "Epoch 81/200\n",
            "226/226 [==============================] - 12s 52ms/step - loss: 0.7947 - accuracy: 0.7094 - val_loss: 1.0426 - val_accuracy: 0.6303\n",
            "Epoch 82/200\n",
            "226/226 [==============================] - 12s 52ms/step - loss: 0.7879 - accuracy: 0.7080 - val_loss: 1.0306 - val_accuracy: 0.6332\n",
            "Epoch 83/200\n",
            "226/226 [==============================] - 12s 52ms/step - loss: 0.7862 - accuracy: 0.7108 - val_loss: 1.0308 - val_accuracy: 0.6344\n",
            "Epoch 84/200\n",
            "226/226 [==============================] - 12s 52ms/step - loss: 0.7716 - accuracy: 0.7140 - val_loss: 1.0340 - val_accuracy: 0.6301\n",
            "Epoch 85/200\n",
            "226/226 [==============================] - 12s 52ms/step - loss: 0.7783 - accuracy: 0.7142 - val_loss: 1.0409 - val_accuracy: 0.6284\n",
            "Epoch 86/200\n",
            "226/226 [==============================] - 12s 52ms/step - loss: 0.7772 - accuracy: 0.7164 - val_loss: 1.0438 - val_accuracy: 0.6261\n",
            "Epoch 87/200\n",
            "226/226 [==============================] - 12s 52ms/step - loss: 0.7667 - accuracy: 0.7156 - val_loss: 1.0319 - val_accuracy: 0.6347\n",
            "Epoch 88/200\n",
            "226/226 [==============================] - 12s 55ms/step - loss: 0.7727 - accuracy: 0.7165 - val_loss: 1.0331 - val_accuracy: 0.6329\n",
            "Epoch 89/200\n",
            "226/226 [==============================] - 12s 55ms/step - loss: 0.7598 - accuracy: 0.7246 - val_loss: 1.0428 - val_accuracy: 0.6346\n",
            "Epoch 90/200\n",
            "226/226 [==============================] - 12s 52ms/step - loss: 0.7503 - accuracy: 0.7275 - val_loss: 1.0321 - val_accuracy: 0.6395\n",
            "Epoch 91/200\n",
            "226/226 [==============================] - 13s 56ms/step - loss: 0.7501 - accuracy: 0.7246 - val_loss: 1.0391 - val_accuracy: 0.6322\n",
            "Epoch 92/200\n",
            "226/226 [==============================] - 12s 55ms/step - loss: 0.7416 - accuracy: 0.7291 - val_loss: 1.0369 - val_accuracy: 0.6320\n",
            "Epoch 93/200\n",
            "226/226 [==============================] - 12s 54ms/step - loss: 0.7422 - accuracy: 0.7265 - val_loss: 1.0496 - val_accuracy: 0.6326\n",
            "Epoch 94/200\n",
            "226/226 [==============================] - 12s 52ms/step - loss: 0.7485 - accuracy: 0.7306 - val_loss: 1.0303 - val_accuracy: 0.6346\n",
            "Epoch 95/200\n",
            "226/226 [==============================] - 12s 52ms/step - loss: 0.7477 - accuracy: 0.7273 - val_loss: 1.0427 - val_accuracy: 0.6277\n",
            "Epoch 96/200\n",
            "226/226 [==============================] - 12s 52ms/step - loss: 0.7400 - accuracy: 0.7298 - val_loss: 1.0437 - val_accuracy: 0.6366\n",
            "Epoch 97/200\n",
            "226/226 [==============================] - 12s 52ms/step - loss: 0.7330 - accuracy: 0.7328 - val_loss: 1.0546 - val_accuracy: 0.6291\n",
            "Epoch 98/200\n",
            "226/226 [==============================] - 12s 52ms/step - loss: 0.7281 - accuracy: 0.7342 - val_loss: 1.0529 - val_accuracy: 0.6320\n",
            "Epoch 99/200\n",
            "226/226 [==============================] - 12s 52ms/step - loss: 0.7209 - accuracy: 0.7399 - val_loss: 1.0700 - val_accuracy: 0.6250\n",
            "Epoch 100/200\n",
            "226/226 [==============================] - 12s 52ms/step - loss: 0.7162 - accuracy: 0.7408 - val_loss: 1.0571 - val_accuracy: 0.6319\n",
            "Epoch 101/200\n",
            "226/226 [==============================] - 12s 52ms/step - loss: 0.7195 - accuracy: 0.7397 - val_loss: 1.0515 - val_accuracy: 0.6343\n",
            "Epoch 102/200\n",
            "226/226 [==============================] - 12s 53ms/step - loss: 0.7167 - accuracy: 0.7420 - val_loss: 1.0648 - val_accuracy: 0.6350\n",
            "Epoch 103/200\n",
            "226/226 [==============================] - 12s 53ms/step - loss: 0.7067 - accuracy: 0.7447 - val_loss: 1.0555 - val_accuracy: 0.6357\n",
            "Epoch 104/200\n",
            "226/226 [==============================] - 12s 55ms/step - loss: 0.7050 - accuracy: 0.7446 - val_loss: 1.0438 - val_accuracy: 0.6401\n",
            "Epoch 105/200\n",
            "226/226 [==============================] - 12s 55ms/step - loss: 0.7000 - accuracy: 0.7465 - val_loss: 1.0573 - val_accuracy: 0.6315\n",
            "Epoch 106/200\n",
            "226/226 [==============================] - 12s 52ms/step - loss: 0.7045 - accuracy: 0.7426 - val_loss: 1.0468 - val_accuracy: 0.6387\n",
            "Epoch 107/200\n",
            "226/226 [==============================] - 12s 52ms/step - loss: 0.6995 - accuracy: 0.7507 - val_loss: 1.0589 - val_accuracy: 0.6344\n",
            "Epoch 108/200\n",
            "226/226 [==============================] - 12s 52ms/step - loss: 0.6970 - accuracy: 0.7488 - val_loss: 1.0540 - val_accuracy: 0.6357\n",
            "Epoch 109/200\n",
            "226/226 [==============================] - 12s 52ms/step - loss: 0.6947 - accuracy: 0.7481 - val_loss: 1.0525 - val_accuracy: 0.6337\n",
            "Epoch 110/200\n",
            "226/226 [==============================] - 12s 52ms/step - loss: 0.6893 - accuracy: 0.7492 - val_loss: 1.0441 - val_accuracy: 0.6401\n",
            "Epoch 111/200\n",
            "226/226 [==============================] - 12s 52ms/step - loss: 0.6843 - accuracy: 0.7523 - val_loss: 1.0635 - val_accuracy: 0.6329\n",
            "Epoch 112/200\n",
            "226/226 [==============================] - 13s 55ms/step - loss: 0.6788 - accuracy: 0.7568 - val_loss: 1.0498 - val_accuracy: 0.6342\n",
            "Epoch 113/200\n",
            "226/226 [==============================] - 12s 53ms/step - loss: 0.6738 - accuracy: 0.7570 - val_loss: 1.0642 - val_accuracy: 0.6374\n",
            "Epoch 114/200\n",
            "226/226 [==============================] - 12s 53ms/step - loss: 0.6654 - accuracy: 0.7602 - val_loss: 1.0349 - val_accuracy: 0.6381\n",
            "Epoch 115/200\n",
            "226/226 [==============================] - 12s 52ms/step - loss: 0.6768 - accuracy: 0.7564 - val_loss: 1.0431 - val_accuracy: 0.6363\n",
            "Epoch 116/200\n",
            "226/226 [==============================] - 12s 55ms/step - loss: 0.6746 - accuracy: 0.7587 - val_loss: 1.0395 - val_accuracy: 0.6371\n",
            "Epoch 117/200\n",
            "226/226 [==============================] - 12s 55ms/step - loss: 0.6630 - accuracy: 0.7619 - val_loss: 1.0464 - val_accuracy: 0.6322\n",
            "Epoch 118/200\n",
            "226/226 [==============================] - 12s 55ms/step - loss: 0.6679 - accuracy: 0.7636 - val_loss: 1.0481 - val_accuracy: 0.6410\n",
            "Epoch 119/200\n",
            "226/226 [==============================] - 12s 52ms/step - loss: 0.6587 - accuracy: 0.7637 - val_loss: 1.0642 - val_accuracy: 0.6404\n",
            "Epoch 120/200\n",
            "226/226 [==============================] - 12s 52ms/step - loss: 0.6584 - accuracy: 0.7627 - val_loss: 1.0668 - val_accuracy: 0.6353\n",
            "Epoch 121/200\n",
            "226/226 [==============================] - 12s 52ms/step - loss: 0.6467 - accuracy: 0.7685 - val_loss: 1.0537 - val_accuracy: 0.6333\n",
            "Epoch 122/200\n",
            "226/226 [==============================] - 12s 52ms/step - loss: 0.6521 - accuracy: 0.7644 - val_loss: 1.0470 - val_accuracy: 0.6303\n",
            "Epoch 123/200\n",
            "226/226 [==============================] - 12s 52ms/step - loss: 0.6480 - accuracy: 0.7689 - val_loss: 1.0537 - val_accuracy: 0.6418\n",
            "Epoch 124/200\n",
            "226/226 [==============================] - 12s 52ms/step - loss: 0.6568 - accuracy: 0.7654 - val_loss: 1.0409 - val_accuracy: 0.6370\n",
            "Epoch 125/200\n",
            "226/226 [==============================] - 12s 52ms/step - loss: 0.6553 - accuracy: 0.7663 - val_loss: 1.0638 - val_accuracy: 0.6315\n",
            "Epoch 126/200\n",
            "226/226 [==============================] - 12s 52ms/step - loss: 0.6460 - accuracy: 0.7674 - val_loss: 1.0477 - val_accuracy: 0.6376\n",
            "Epoch 127/200\n",
            "226/226 [==============================] - 12s 52ms/step - loss: 0.6360 - accuracy: 0.7716 - val_loss: 1.0609 - val_accuracy: 0.6346\n",
            "Epoch 128/200\n",
            "226/226 [==============================] - 12s 52ms/step - loss: 0.6366 - accuracy: 0.7697 - val_loss: 1.0503 - val_accuracy: 0.6337\n",
            "Epoch 129/200\n",
            "226/226 [==============================] - 12s 55ms/step - loss: 0.6364 - accuracy: 0.7743 - val_loss: 1.0515 - val_accuracy: 0.6373\n",
            "Epoch 130/200\n",
            "226/226 [==============================] - 12s 55ms/step - loss: 0.6316 - accuracy: 0.7749 - val_loss: 1.0603 - val_accuracy: 0.6383\n",
            "Epoch 131/200\n",
            "226/226 [==============================] - 12s 55ms/step - loss: 0.6218 - accuracy: 0.7800 - val_loss: 1.0608 - val_accuracy: 0.6394\n",
            "Epoch 132/200\n",
            "226/226 [==============================] - 12s 55ms/step - loss: 0.6274 - accuracy: 0.7762 - val_loss: 1.0556 - val_accuracy: 0.6353\n",
            "Epoch 133/200\n",
            "226/226 [==============================] - 12s 55ms/step - loss: 0.6256 - accuracy: 0.7747 - val_loss: 1.0674 - val_accuracy: 0.6294\n",
            "Epoch 134/200\n",
            "226/226 [==============================] - 12s 55ms/step - loss: 0.6214 - accuracy: 0.7815 - val_loss: 1.0398 - val_accuracy: 0.6414\n",
            "Epoch 135/200\n",
            "226/226 [==============================] - 12s 55ms/step - loss: 0.6036 - accuracy: 0.7832 - val_loss: 1.0489 - val_accuracy: 0.6414\n",
            "Epoch 136/200\n",
            "226/226 [==============================] - 12s 55ms/step - loss: 0.6115 - accuracy: 0.7810 - val_loss: 1.0686 - val_accuracy: 0.6349\n",
            "Epoch 137/200\n",
            "226/226 [==============================] - 12s 55ms/step - loss: 0.6165 - accuracy: 0.7823 - val_loss: 1.0658 - val_accuracy: 0.6422\n",
            "Epoch 138/200\n",
            "226/226 [==============================] - 12s 55ms/step - loss: 0.6056 - accuracy: 0.7809 - val_loss: 1.0791 - val_accuracy: 0.6367\n",
            "Epoch 139/200\n",
            "226/226 [==============================] - 12s 55ms/step - loss: 0.6122 - accuracy: 0.7810 - val_loss: 1.0719 - val_accuracy: 0.6357\n",
            "Epoch 140/200\n",
            "226/226 [==============================] - 12s 52ms/step - loss: 0.6027 - accuracy: 0.7860 - val_loss: 1.0593 - val_accuracy: 0.6387\n",
            "Epoch 141/200\n",
            "226/226 [==============================] - 12s 52ms/step - loss: 0.6010 - accuracy: 0.7849 - val_loss: 1.0656 - val_accuracy: 0.6405\n",
            "Epoch 142/200\n",
            "226/226 [==============================] - 12s 52ms/step - loss: 0.5995 - accuracy: 0.7882 - val_loss: 1.0682 - val_accuracy: 0.6374\n",
            "Epoch 143/200\n",
            "226/226 [==============================] - 12s 52ms/step - loss: 0.5977 - accuracy: 0.7891 - val_loss: 1.0679 - val_accuracy: 0.6374\n",
            "Epoch 144/200\n",
            "226/226 [==============================] - 12s 52ms/step - loss: 0.6005 - accuracy: 0.7882 - val_loss: 1.0918 - val_accuracy: 0.6357\n",
            "Epoch 145/200\n",
            "226/226 [==============================] - 12s 52ms/step - loss: 0.5988 - accuracy: 0.7895 - val_loss: 1.0742 - val_accuracy: 0.6391\n",
            "Epoch 146/200\n",
            "226/226 [==============================] - 12s 52ms/step - loss: 0.5873 - accuracy: 0.7927 - val_loss: 1.0969 - val_accuracy: 0.6404\n",
            "Epoch 147/200\n",
            "226/226 [==============================] - 12s 52ms/step - loss: 0.5956 - accuracy: 0.7884 - val_loss: 1.0890 - val_accuracy: 0.6374\n",
            "Epoch 148/200\n",
            "226/226 [==============================] - 12s 52ms/step - loss: 0.5867 - accuracy: 0.7919 - val_loss: 1.0803 - val_accuracy: 0.6364\n",
            "Epoch 149/200\n",
            "226/226 [==============================] - 12s 52ms/step - loss: 0.5869 - accuracy: 0.7918 - val_loss: 1.0685 - val_accuracy: 0.6378\n",
            "Epoch 150/200\n",
            "226/226 [==============================] - 12s 55ms/step - loss: 0.5802 - accuracy: 0.7943 - val_loss: 1.0823 - val_accuracy: 0.6414\n",
            "Epoch 151/200\n",
            "226/226 [==============================] - 12s 55ms/step - loss: 0.5779 - accuracy: 0.7939 - val_loss: 1.0878 - val_accuracy: 0.6415\n",
            "Epoch 152/200\n",
            "226/226 [==============================] - 12s 55ms/step - loss: 0.5840 - accuracy: 0.7947 - val_loss: 1.0567 - val_accuracy: 0.6347\n",
            "Epoch 153/200\n",
            "226/226 [==============================] - 12s 52ms/step - loss: 0.5791 - accuracy: 0.7953 - val_loss: 1.0859 - val_accuracy: 0.6352\n",
            "Epoch 154/200\n",
            "226/226 [==============================] - 12s 52ms/step - loss: 0.5663 - accuracy: 0.8011 - val_loss: 1.0933 - val_accuracy: 0.6332\n",
            "Epoch 155/200\n",
            "226/226 [==============================] - 12s 52ms/step - loss: 0.5777 - accuracy: 0.7960 - val_loss: 1.0974 - val_accuracy: 0.6374\n",
            "Epoch 156/200\n",
            "226/226 [==============================] - 12s 52ms/step - loss: 0.5616 - accuracy: 0.8037 - val_loss: 1.0856 - val_accuracy: 0.6323\n",
            "Epoch 157/200\n",
            "226/226 [==============================] - 12s 52ms/step - loss: 0.5675 - accuracy: 0.8029 - val_loss: 1.0767 - val_accuracy: 0.6353\n",
            "Epoch 158/200\n",
            "226/226 [==============================] - 12s 52ms/step - loss: 0.5642 - accuracy: 0.8003 - val_loss: 1.1239 - val_accuracy: 0.6384\n",
            "Epoch 159/200\n",
            "226/226 [==============================] - 12s 52ms/step - loss: 0.5641 - accuracy: 0.8012 - val_loss: 1.0728 - val_accuracy: 0.6418\n",
            "Epoch 160/200\n",
            "226/226 [==============================] - 12s 52ms/step - loss: 0.5598 - accuracy: 0.8059 - val_loss: 1.0919 - val_accuracy: 0.6335\n",
            "Epoch 161/200\n",
            "226/226 [==============================] - 12s 52ms/step - loss: 0.5649 - accuracy: 0.8006 - val_loss: 1.0750 - val_accuracy: 0.6398\n",
            "Epoch 162/200\n",
            "226/226 [==============================] - 12s 52ms/step - loss: 0.5529 - accuracy: 0.8043 - val_loss: 1.1031 - val_accuracy: 0.6350\n",
            "Epoch 163/200\n",
            "226/226 [==============================] - 12s 55ms/step - loss: 0.5558 - accuracy: 0.8061 - val_loss: 1.0781 - val_accuracy: 0.6394\n",
            "Epoch 164/200\n",
            "226/226 [==============================] - 12s 55ms/step - loss: 0.5606 - accuracy: 0.8019 - val_loss: 1.0761 - val_accuracy: 0.6363\n",
            "Epoch 165/200\n",
            "226/226 [==============================] - 12s 54ms/step - loss: 0.5496 - accuracy: 0.8064 - val_loss: 1.0938 - val_accuracy: 0.6369\n",
            "Epoch 166/200\n",
            "226/226 [==============================] - 12s 52ms/step - loss: 0.5534 - accuracy: 0.8080 - val_loss: 1.0933 - val_accuracy: 0.6320\n",
            "Epoch 167/200\n",
            "226/226 [==============================] - 12s 52ms/step - loss: 0.5490 - accuracy: 0.8045 - val_loss: 1.0991 - val_accuracy: 0.6386\n",
            "Epoch 168/200\n",
            "226/226 [==============================] - 12s 52ms/step - loss: 0.5566 - accuracy: 0.8050 - val_loss: 1.0992 - val_accuracy: 0.6388\n",
            "Epoch 169/200\n",
            "226/226 [==============================] - 12s 52ms/step - loss: 0.5406 - accuracy: 0.8102 - val_loss: 1.0921 - val_accuracy: 0.6397\n",
            "Epoch 170/200\n",
            "226/226 [==============================] - 12s 52ms/step - loss: 0.5409 - accuracy: 0.8092 - val_loss: 1.0947 - val_accuracy: 0.6395\n",
            "Epoch 171/200\n",
            "226/226 [==============================] - 12s 52ms/step - loss: 0.5510 - accuracy: 0.8084 - val_loss: 1.1289 - val_accuracy: 0.6349\n",
            "Epoch 172/200\n",
            "226/226 [==============================] - 12s 52ms/step - loss: 0.5368 - accuracy: 0.8113 - val_loss: 1.1150 - val_accuracy: 0.6342\n",
            "Epoch 173/200\n",
            "226/226 [==============================] - 12s 52ms/step - loss: 0.5428 - accuracy: 0.8089 - val_loss: 1.0848 - val_accuracy: 0.6408\n",
            "Epoch 174/200\n",
            "226/226 [==============================] - 12s 55ms/step - loss: 0.5256 - accuracy: 0.8165 - val_loss: 1.1002 - val_accuracy: 0.6412\n",
            "Epoch 175/200\n",
            "226/226 [==============================] - 12s 55ms/step - loss: 0.5341 - accuracy: 0.8148 - val_loss: 1.1001 - val_accuracy: 0.6320\n",
            "Epoch 176/200\n",
            "226/226 [==============================] - 12s 55ms/step - loss: 0.5298 - accuracy: 0.8137 - val_loss: 1.1313 - val_accuracy: 0.6407\n",
            "Epoch 177/200\n",
            "226/226 [==============================] - 12s 52ms/step - loss: 0.5356 - accuracy: 0.8121 - val_loss: 1.1068 - val_accuracy: 0.6395\n",
            "Epoch 178/200\n",
            "226/226 [==============================] - 12s 55ms/step - loss: 0.5317 - accuracy: 0.8154 - val_loss: 1.0942 - val_accuracy: 0.6417\n",
            "Epoch 179/200\n",
            "226/226 [==============================] - 12s 55ms/step - loss: 0.5291 - accuracy: 0.8140 - val_loss: 1.1275 - val_accuracy: 0.6339\n",
            "Epoch 180/200\n",
            "226/226 [==============================] - 12s 52ms/step - loss: 0.5291 - accuracy: 0.8171 - val_loss: 1.0895 - val_accuracy: 0.6376\n",
            "Epoch 181/200\n",
            "226/226 [==============================] - 12s 52ms/step - loss: 0.5246 - accuracy: 0.8188 - val_loss: 1.0902 - val_accuracy: 0.6359\n",
            "Epoch 182/200\n",
            "226/226 [==============================] - 12s 52ms/step - loss: 0.5271 - accuracy: 0.8179 - val_loss: 1.0991 - val_accuracy: 0.6384\n",
            "Epoch 183/200\n",
            "226/226 [==============================] - 12s 52ms/step - loss: 0.5244 - accuracy: 0.8183 - val_loss: 1.1051 - val_accuracy: 0.6350\n",
            "Epoch 184/200\n",
            "226/226 [==============================] - 12s 52ms/step - loss: 0.5182 - accuracy: 0.8214 - val_loss: 1.0861 - val_accuracy: 0.6386\n",
            "Epoch 185/200\n",
            "226/226 [==============================] - 12s 52ms/step - loss: 0.5108 - accuracy: 0.8228 - val_loss: 1.0951 - val_accuracy: 0.6369\n",
            "Epoch 186/200\n",
            "226/226 [==============================] - 12s 52ms/step - loss: 0.5078 - accuracy: 0.8250 - val_loss: 1.1123 - val_accuracy: 0.6402\n",
            "Epoch 187/200\n",
            "226/226 [==============================] - 12s 52ms/step - loss: 0.5169 - accuracy: 0.8169 - val_loss: 1.1042 - val_accuracy: 0.6366\n",
            "Epoch 188/200\n",
            "226/226 [==============================] - 12s 52ms/step - loss: 0.5040 - accuracy: 0.8252 - val_loss: 1.1323 - val_accuracy: 0.6390\n",
            "Epoch 189/200\n",
            "226/226 [==============================] - 12s 54ms/step - loss: 0.5118 - accuracy: 0.8232 - val_loss: 1.1076 - val_accuracy: 0.6414\n",
            "Epoch 190/200\n",
            "226/226 [==============================] - 12s 52ms/step - loss: 0.5078 - accuracy: 0.8246 - val_loss: 1.0966 - val_accuracy: 0.6381\n",
            "Epoch 191/200\n",
            "226/226 [==============================] - 12s 52ms/step - loss: 0.5067 - accuracy: 0.8252 - val_loss: 1.0945 - val_accuracy: 0.6436\n",
            "Epoch 192/200\n",
            "226/226 [==============================] - 12s 52ms/step - loss: 0.5031 - accuracy: 0.8253 - val_loss: 1.1007 - val_accuracy: 0.6436\n",
            "Epoch 193/200\n",
            "226/226 [==============================] - 12s 52ms/step - loss: 0.4990 - accuracy: 0.8266 - val_loss: 1.1165 - val_accuracy: 0.6418\n",
            "Epoch 194/200\n",
            "226/226 [==============================] - 12s 52ms/step - loss: 0.5036 - accuracy: 0.8241 - val_loss: 1.1209 - val_accuracy: 0.6381\n",
            "Epoch 195/200\n",
            "226/226 [==============================] - 12s 52ms/step - loss: 0.5087 - accuracy: 0.8271 - val_loss: 1.0917 - val_accuracy: 0.6370\n",
            "Epoch 196/200\n",
            "226/226 [==============================] - 12s 52ms/step - loss: 0.4993 - accuracy: 0.8275 - val_loss: 1.1362 - val_accuracy: 0.6414\n",
            "Epoch 197/200\n",
            "226/226 [==============================] - 12s 52ms/step - loss: 0.4997 - accuracy: 0.8274 - val_loss: 1.1105 - val_accuracy: 0.6405\n",
            "Epoch 198/200\n",
            "226/226 [==============================] - 12s 52ms/step - loss: 0.5042 - accuracy: 0.8270 - val_loss: 1.0926 - val_accuracy: 0.6393\n",
            "Epoch 199/200\n",
            "226/226 [==============================] - 12s 52ms/step - loss: 0.5075 - accuracy: 0.8261 - val_loss: 1.0945 - val_accuracy: 0.6432\n",
            "Epoch 200/200\n",
            "226/226 [==============================] - 12s 52ms/step - loss: 0.4979 - accuracy: 0.8296 - val_loss: 1.1490 - val_accuracy: 0.6350\n"
          ]
        },
        {
          "output_type": "execute_result",
          "data": {
            "text/plain": [
              "<keras.src.callbacks.History at 0x7f8f841703a0>"
            ]
          },
          "metadata": {},
          "execution_count": 22
        }
      ],
      "source": [
        "model.fit(x= x_train,y = y_train, batch_size = 128, epochs = 200, validation_data = (x_test,y_test))"
      ]
    },
    {
      "cell_type": "code",
      "source": [
        "from sklearn.metrics import classification_report\n",
        "\n",
        "y_pred = np.argmax(model.predict(x_test),axis = -1)\n",
        "report = classification_report(np.argmax(y_test, axis=1), y_pred)\n",
        "print(\"Classification Report:\\n\", report)"
      ],
      "metadata": {
        "colab": {
          "base_uri": "https://localhost:8080/"
        },
        "id": "1AcdaY2Smwva",
        "outputId": "4a2f5b09-04ed-49da-a733-1f09be4bd64c"
      },
      "execution_count": null,
      "outputs": [
        {
          "output_type": "stream",
          "name": "stdout",
          "text": [
            "221/221 [==============================] - 1s 6ms/step\n",
            "Classification Report:\n",
            "               precision    recall  f1-score   support\n",
            "\n",
            "           0       0.59      0.51      0.55       960\n",
            "           1       0.87      0.59      0.70       111\n",
            "           2       0.55      0.44      0.49      1018\n",
            "           3       0.83      0.83      0.83      1825\n",
            "           4       0.53      0.59      0.56      1216\n",
            "           5       0.47      0.57      0.51      1139\n",
            "           6       0.77      0.76      0.77       797\n",
            "\n",
            "    accuracy                           0.64      7066\n",
            "   macro avg       0.66      0.61      0.63      7066\n",
            "weighted avg       0.64      0.64      0.64      7066\n",
            "\n"
          ]
        }
      ]
    },
    {
      "cell_type": "code",
      "source": [
        "from sklearn.metrics import confusion_matrix\n",
        "\n",
        "y_pred = np.argmax(model.predict(x_test),axis = -1)\n",
        "confusion = confusion_matrix(np.argmax(y_test, axis=1), y_pred)\n",
        "print(\"Confusion Matrix:\\n\", confusion)"
      ],
      "metadata": {
        "colab": {
          "base_uri": "https://localhost:8080/"
        },
        "id": "-vFKy14nmwr_",
        "outputId": "53453809-d6ad-436c-b107-b3796d337c1a"
      },
      "execution_count": null,
      "outputs": [
        {
          "output_type": "stream",
          "name": "stdout",
          "text": [
            "221/221 [==============================] - 1s 6ms/step\n",
            "Confusion Matrix:\n",
            " [[ 486    4   94   54  143  159   20]\n",
            " [  16   65   10    3    5    8    4]\n",
            " [ 105    2  451   42  123  208   87]\n",
            " [  36    0   37 1509  103   98   42]\n",
            " [  73    0   60  104  717  247   15]\n",
            " [  90    3  100   58  223  652   13]\n",
            " [  13    1   61   53   32   30  607]]\n"
          ]
        }
      ]
    },
    {
      "cell_type": "code",
      "source": [
        "first_layer  = model.layers[0].get_weights()[0]\n",
        "plt.figure(figsize = (10,10))\n",
        "sns.heatmap(first_layer[:,:,0,0], cmap = \"viridis\", annot = True)\n",
        "plt.title(\"Heatmap\")\n",
        "plt.show()"
      ],
      "metadata": {
        "colab": {
          "base_uri": "https://localhost:8080/",
          "height": 861
        },
        "id": "EJALHjVR49lj",
        "outputId": "8ac12274-f011-4bff-fc1c-3dca98e626a7"
      },
      "execution_count": null,
      "outputs": [
        {
          "output_type": "display_data",
          "data": {
            "text/plain": [
              "<Figure size 1000x1000 with 2 Axes>"
            ],
            "image/png": "[encoded data removed]"
          },
          "metadata": {}
        }
      ]
    },
    {
      "cell_type": "code",
      "execution_count": null,
      "metadata": {
        "colab": {
          "base_uri": "https://localhost:8080/"
        },
        "id": "zvFk3nl871fI",
        "outputId": "ccbfaa9a-4748-4993-cb3a-32496e578ea9"
      },
      "outputs": [
        {
          "output_type": "stream",
          "name": "stderr",
          "text": [
            "/usr/local/lib/python3.10/dist-packages/keras/src/engine/training.py:3000: UserWarning: You are saving your model as an HDF5 file via `model.save()`. This file format is considered legacy. We recommend using instead the native Keras format, e.g. `model.save('my_model.keras')`.\n",
            "  saving_api.save_model(\n"
          ]
        }
      ],
      "source": [
        "model_json = model.to_json()\n",
        "with open(\"emotiondetector.json\",'w') as json_file:\n",
        "    json_file.write(model_json)\n",
        "model.save(\"emotiondetector.h5\")"
      ]
    },
    {
      "cell_type": "code",
      "source": [
        "\n",
        "import shutil\n",
        "source=\"emotiondetector.json\"\n",
        "destination=\"/content/drive/MyDrive/Teachmint split_config.xxhdpi.apk (Unzipped Files)/Dlpro/images\"\n",
        "shutil.copy(source,destination)\n",
        "\n"
      ],
      "metadata": {
        "colab": {
          "base_uri": "https://localhost:8080/",
          "height": 35
        },
        "id": "jKrxwlzmIRjx",
        "outputId": "1048a024-89ba-4e0c-a657-5314dd4c7de1"
      },
      "execution_count": null,
      "outputs": [
        {
          "output_type": "execute_result",
          "data": {
            "text/plain": [
              "'/content/drive/MyDrive/Teachmint split_config.xxhdpi.apk (Unzipped Files)/Dlpro/images/emotiondetector.json'"
            ],
            "application/vnd.google.colaboratory.intrinsic+json": {
              "type": "string"
            }
          },
          "metadata": {},
          "execution_count": 24
        }
      ]
    },
    {
      "cell_type": "code",
      "source": [
        "\n",
        "import shutil\n",
        "source=\"emotiondetector.h5\"\n",
        "destination=\"/content/drive/MyDrive/Teachmint split_config.xxhdpi.apk (Unzipped Files)/Dlpro/images\"\n",
        "shutil.copy(source,destination)"
      ],
      "metadata": {
        "colab": {
          "base_uri": "https://localhost:8080/",
          "height": 35
        },
        "id": "xbNtnFjpI11K",
        "outputId": "d162176f-1de3-4bc9-e1e6-0b58859a1b5b"
      },
      "execution_count": null,
      "outputs": [
        {
          "output_type": "execute_result",
          "data": {
            "text/plain": [
              "'/content/drive/MyDrive/Teachmint split_config.xxhdpi.apk (Unzipped Files)/Dlpro/images/emotiondetector.h5'"
            ],
            "application/vnd.google.colaboratory.intrinsic+json": {
              "type": "string"
            }
          },
          "metadata": {},
          "execution_count": 25
        }
      ]
    },
    {
      "cell_type": "code",
      "execution_count": null,
      "metadata": {
        "id": "GEhOC4r48ja3"
      },
      "outputs": [],
      "source": [
        "from keras.models import model_from_json\n",
        "\n",
        "json_file = open(\"/content/drive/MyDrive/Teachmint split_config.xxhdpi.apk (Unzipped Files)/Dlpro/images/emotiondetector.json\", \"r\")\n",
        "model_json = json_file.read()\n",
        "json_file.close()\n",
        "model = model_from_json(model_json)\n",
        "model.load_weights(\"/content/drive/MyDrive/Teachmint split_config.xxhdpi.apk (Unzipped Files)/Dlpro/images/emotiondetector.h5\")"
      ]
    },
    {
      "cell_type": "code",
      "execution_count": null,
      "metadata": {
        "id": "p2ucXi858jX9"
      },
      "outputs": [],
      "source": [
        "label = ['angry','disgust','fear','happy','neutral','sad','surprise']"
      ]
    },
    {
      "cell_type": "code",
      "execution_count": null,
      "metadata": {
        "id": "qJbUCJlz8jU1"
      },
      "outputs": [],
      "source": [
        "def ef(image):\n",
        "    img = load_img(image,grayscale =  True )\n",
        "    feature = np.array(img)\n",
        "    feature = feature.reshape(1,48,48,1)\n",
        "    return feature/255.0"
      ]
    },
    {
      "cell_type": "code",
      "execution_count": null,
      "metadata": {
        "id": "jynvW32HETQ8"
      },
      "outputs": [],
      "source": [
        "import matplotlib.pyplot as plt\n",
        "%matplotlib inline"
      ]
    },
    {
      "cell_type": "code",
      "execution_count": null,
      "metadata": {
        "colab": {
          "base_uri": "https://localhost:8080/",
          "height": 553
        },
        "id": "CajEpue28jR2",
        "outputId": "ff1701f7-960e-4518-90ad-adf71c8435dc"
      },
      "outputs": [
        {
          "output_type": "stream",
          "name": "stdout",
          "text": [
            "original image is of sad\n"
          ]
        },
        {
          "output_type": "stream",
          "name": "stderr",
          "text": [
            "/usr/local/lib/python3.10/dist-packages/keras/src/utils/image_utils.py:409: UserWarning: grayscale is deprecated. Please use color_mode = \"grayscale\"\n",
            "  warnings.warn(\n"
          ]
        },
        {
          "output_type": "stream",
          "name": "stdout",
          "text": [
            "1/1 [==============================] - 0s 298ms/step\n",
            "model prediction is  sad\n"
          ]
        },
        {
          "output_type": "execute_result",
          "data": {
            "text/plain": [
              "<matplotlib.image.AxesImage at 0x7f8f787e2ad0>"
            ]
          },
          "metadata": {},
          "execution_count": 29
        },
        {
          "output_type": "display_data",
          "data": {
            "text/plain": [
              "<Figure size 640x480 with 1 Axes>"
            ],
            "image/png": "[encoded data removed]"
          },
          "metadata": {}
        }
      ],
      "source": [
        "image = '/content/drive/MyDrive/Teachmint split_config.xxhdpi.apk (Unzipped Files)/Dlpro/42.jpg'\n",
        "print(\"original image is of sad\")\n",
        "img = ef(image)\n",
        "pred = model.predict(img)\n",
        "pred_label = label[pred.argmax()]\n",
        "print(\"model prediction is \",pred_label)\n",
        "plt.imshow(img.reshape(48,48),cmap='gray')"
      ]
    },
    {
      "cell_type": "code",
      "execution_count": null,
      "metadata": {
        "id": "2lSTAcVq9EuF",
        "colab": {
          "base_uri": "https://localhost:8080/",
          "height": 499
        },
        "outputId": "6bda2993-c314-41f0-f798-d025c02ca187"
      },
      "outputs": [
        {
          "output_type": "stream",
          "name": "stdout",
          "text": [
            "original image is of fear\n",
            "1/1 [==============================] - 0s 97ms/step\n",
            "model prediction is  fear\n"
          ]
        },
        {
          "output_type": "execute_result",
          "data": {
            "text/plain": [
              "<matplotlib.image.AxesImage at 0x7f8efa341150>"
            ]
          },
          "metadata": {},
          "execution_count": 30
        },
        {
          "output_type": "display_data",
          "data": {
            "text/plain": [
              "<Figure size 640x480 with 1 Axes>"
            ],
            "image/png": "[encoded data removed]"
          },
          "metadata": {}
        }
      ],
      "source": [
        "image = '/content/drive/MyDrive/190.jpg'\n",
        "print(\"original image is of fear\")\n",
        "img = ef(image)\n",
        "pred = model.predict(img)\n",
        "pred_label = label[pred.argmax()]\n",
        "print(\"model prediction is \",pred_label)\n",
        "plt.imshow(img.reshape(48,48),cmap='gray')"
      ]
    },
    {
      "cell_type": "code",
      "execution_count": null,
      "metadata": {
        "id": "YD54KRE-9Eqk",
        "colab": {
          "base_uri": "https://localhost:8080/",
          "height": 499
        },
        "outputId": "8c1800bb-4c19-4908-d7f2-b2a98b8276d1"
      },
      "outputs": [
        {
          "output_type": "stream",
          "name": "stdout",
          "text": [
            "original image is of disgust\n",
            "1/1 [==============================] - 0s 20ms/step\n",
            "model prediction is  disgust\n"
          ]
        },
        {
          "output_type": "execute_result",
          "data": {
            "text/plain": [
              "<matplotlib.image.AxesImage at 0x7f8efa3adf30>"
            ]
          },
          "metadata": {},
          "execution_count": 31
        },
        {
          "output_type": "display_data",
          "data": {
            "text/plain": [
              "<Figure size 640x480 with 1 Axes>"
            ],
            "image/png": "[encoded data removed]"
          },
          "metadata": {}
        }
      ],
      "source": [
        "image = '/content/drive/MyDrive/299.jpg'\n",
        "print(\"original image is of disgust\")\n",
        "img = ef(image)\n",
        "pred = model.predict(img)\n",
        "pred_label = label[pred.argmax()]\n",
        "print(\"model prediction is \",pred_label)\n",
        "plt.imshow(img.reshape(48,48),cmap='gray')"
      ]
    },
    {
      "cell_type": "code",
      "execution_count": null,
      "metadata": {
        "id": "eAjlmeHx9JxC",
        "colab": {
          "base_uri": "https://localhost:8080/",
          "height": 499
        },
        "outputId": "7fac6243-3c10-4a71-b073-fbf6a8444006"
      },
      "outputs": [
        {
          "output_type": "stream",
          "name": "stdout",
          "text": [
            "original image is of happy\n",
            "1/1 [==============================] - 0s 20ms/step\n",
            "model prediction is  happy\n"
          ]
        },
        {
          "output_type": "execute_result",
          "data": {
            "text/plain": [
              "<matplotlib.image.AxesImage at 0x7f8efa211ae0>"
            ]
          },
          "metadata": {},
          "execution_count": 32
        },
        {
          "output_type": "display_data",
          "data": {
            "text/plain": [
              "<Figure size 640x480 with 1 Axes>"
            ],
            "image/png": "[encoded data removed]"
          },
          "metadata": {}
        }
      ],
      "source": [
        "image = '/content/drive/MyDrive/7.jpg'\n",
        "print(\"original image is of happy\")\n",
        "img = ef(image)\n",
        "pred = model.predict(img)\n",
        "pred_label = label[pred.argmax()]\n",
        "print(\"model prediction is \",pred_label)\n",
        "plt.imshow(img.reshape(48,48),cmap='gray')"
      ]
    },
    {
      "cell_type": "code",
      "execution_count": null,
      "metadata": {
        "id": "UZfhSO7g9Jth",
        "colab": {
          "base_uri": "https://localhost:8080/",
          "height": 499
        },
        "outputId": "5d7b2dcf-029a-4d21-ba0b-11b07d72c353"
      },
      "outputs": [
        {
          "output_type": "stream",
          "name": "stdout",
          "text": [
            "original image is of surprise\n",
            "1/1 [==============================] - 0s 18ms/step\n",
            "model prediction is  surprise\n"
          ]
        },
        {
          "output_type": "execute_result",
          "data": {
            "text/plain": [
              "<matplotlib.image.AxesImage at 0x7f8f73ff60b0>"
            ]
          },
          "metadata": {},
          "execution_count": 33
        },
        {
          "output_type": "display_data",
          "data": {
            "text/plain": [
              "<Figure size 640x480 with 1 Axes>"
            ],
            "image/png": "[encoded data removed]"
          },
          "metadata": {}
        }
      ],
      "source": [
        "image = '/content/drive/MyDrive/15.jpg'\n",
        "print(\"original image is of surprise\")\n",
        "img = ef(image)\n",
        "pred = model.predict(img)\n",
        "pred_label = label[pred.argmax()]\n",
        "print(\"model prediction is \",pred_label)\n",
        "plt.imshow(img.reshape(48,48),cmap='gray')"
      ]
    },
    {
      "cell_type": "markdown",
      "source": [],
      "metadata": {
        "id": "PiOOz3hkHFK-"
      }
    },
    {
      "cell_type": "code",
      "source": [
        "train.head()"
      ],
      "metadata": {
        "colab": {
          "base_uri": "https://localhost:8080/",
          "height": 204
        },
        "id": "rZdWBevIHGpn",
        "outputId": "3cd74adc-4cf1-42e5-9747-d37aaa251976"
      },
      "execution_count": null,
      "outputs": [
        {
          "output_type": "execute_result",
          "data": {
            "text/plain": [
              "                                               image     label\n",
              "0  /content/drive/MyDrive/Teachmint split_config....  surprise\n",
              "1  /content/drive/MyDrive/Teachmint split_config....  surprise\n",
              "2  /content/drive/MyDrive/Teachmint split_config....  surprise\n",
              "3  /content/drive/MyDrive/Teachmint split_config....  surprise\n",
              "4  /content/drive/MyDrive/Teachmint split_config....  surprise"
            ],
            "text/html": [
              "\n",
              "  <div id=\"df-19194c4c-a31e-4864-a823-dc4a96ea3213\" class=\"colab-df-container\">\n",
              "    <div>\n",
              "<style scoped>\n",
              "    .dataframe tbody tr th:only-of-type {\n",
              "        vertical-align: middle;\n",
              "    }\n",
              "\n",
              "    .dataframe tbody tr th {\n",
              "        vertical-align: top;\n",
              "    }\n",
              "\n",
              "    .dataframe thead th {\n",
              "        text-align: right;\n",
              "    }\n",
              "</style>\n",
              "<table border=\"1\" class=\"dataframe\">\n",
              "  <thead>\n",
              "    <tr style=\"text-align: right;\">\n",
              "      <th></th>\n",
              "      <th>image</th>\n",
              "      <th>label</th>\n",
              "    </tr>\n",
              "  </thead>\n",
              "  <tbody>\n",
              "    <tr>\n",
              "      <th>0</th>\n",
              "      <td>/content/drive/MyDrive/Teachmint split_config....</td>\n",
              "      <td>surprise</td>\n",
              "    </tr>\n",
              "    <tr>\n",
              "      <th>1</th>\n",
              "      <td>/content/drive/MyDrive/Teachmint split_config....</td>\n",
              "      <td>surprise</td>\n",
              "    </tr>\n",
              "    <tr>\n",
              "      <th>2</th>\n",
              "      <td>/content/drive/MyDrive/Teachmint split_config....</td>\n",
              "      <td>surprise</td>\n",
              "    </tr>\n",
              "    <tr>\n",
              "      <th>3</th>\n",
              "      <td>/content/drive/MyDrive/Teachmint split_config....</td>\n",
              "      <td>surprise</td>\n",
              "    </tr>\n",
              "    <tr>\n",
              "      <th>4</th>\n",
              "      <td>/content/drive/MyDrive/Teachmint split_config....</td>\n",
              "      <td>surprise</td>\n",
              "    </tr>\n",
              "  </tbody>\n",
              "</table>\n",
              "</div>\n",
              "    <div class=\"colab-df-buttons\">\n",
              "\n",
              "  <div class=\"colab-df-container\">\n",
              "    <button class=\"colab-df-convert\" onclick=\"convertToInteractive('df-19194c4c-a31e-4864-a823-dc4a96ea3213')\"\n",
              "            title=\"Convert this dataframe to an interactive table.\"\n",
              "            style=\"display:none;\">\n",
              "\n",
              "  <svg xmlns=\"http://www.w3.org/2000/svg\" height=\"24px\" viewBox=\"0 -960 960 960\">\n",
              "    <path d=\"M120-120v-720h720v720H120Zm60-500h600v-160H180v160Zm220 220h160v-160H400v160Zm0 220h160v-160H400v160ZM180-400h160v-160H180v160Zm440 0h160v-160H620v160ZM180-180h160v-160H180v160Zm440 0h160v-160H620v160Z\"/>\n",
              "  </svg>\n",
              "    </button>\n",
              "\n",
              "  <style>\n",
              "    .colab-df-container {\n",
              "      display:flex;\n",
              "      gap: 12px;\n",
              "    }\n",
              "\n",
              "    .colab-df-convert {\n",
              "      background-color: #E8F0FE;\n",
              "      border: none;\n",
              "      border-radius: 50%;\n",
              "      cursor: pointer;\n",
              "      display: none;\n",
              "      fill: #1967D2;\n",
              "      height: 32px;\n",
              "      padding: 0 0 0 0;\n",
              "      width: 32px;\n",
              "    }\n",
              "\n",
              "    .colab-df-convert:hover {\n",
              "      background-color: #E2EBFA;\n",
              "      box-shadow: 0px 1px 2px rgba(60, 64, 67, 0.3), 0px 1px 3px 1px rgba(60, 64, 67, 0.15);\n",
              "      fill: #174EA6;\n",
              "    }\n",
              "\n",
              "    .colab-df-buttons div {\n",
              "      margin-bottom: 4px;\n",
              "    }\n",
              "\n",
              "    [theme=dark] .colab-df-convert {\n",
              "      background-color: #3B4455;\n",
              "      fill: #D2E3FC;\n",
              "    }\n",
              "\n",
              "    [theme=dark] .colab-df-convert:hover {\n",
              "      background-color: #434B5C;\n",
              "      box-shadow: 0px 1px 3px 1px rgba(0, 0, 0, 0.15);\n",
              "      filter: drop-shadow(0px 1px 2px rgba(0, 0, 0, 0.3));\n",
              "      fill: #FFFFFF;\n",
              "    }\n",
              "  </style>\n",
              "\n",
              "    <script>\n",
              "      const buttonEl =\n",
              "        document.querySelector('#df-19194c4c-a31e-4864-a823-dc4a96ea3213 button.colab-df-convert');\n",
              "      buttonEl.style.display =\n",
              "        google.colab.kernel.accessAllowed ? 'block' : 'none';\n",
              "\n",
              "      async function convertToInteractive(key) {\n",
              "        const element = document.querySelector('#df-19194c4c-a31e-4864-a823-dc4a96ea3213');\n",
              "        const dataTable =\n",
              "          await google.colab.kernel.invokeFunction('convertToInteractive',\n",
              "                                                    [key], {});\n",
              "        if (!dataTable) return;\n",
              "\n",
              "        const docLinkHtml = 'Like what you see? Visit the ' +\n",
              "          '<a target=\"_blank\" href=https://colab.research.google.com/notebooks/data_table.ipynb>data table notebook</a>'\n",
              "          + ' to learn more about interactive tables.';\n",
              "        element.innerHTML = '';\n",
              "        dataTable['output_type'] = 'display_data';\n",
              "        await google.colab.output.renderOutput(dataTable, element);\n",
              "        const docLink = document.createElement('div');\n",
              "        docLink.innerHTML = docLinkHtml;\n",
              "        element.appendChild(docLink);\n",
              "      }\n",
              "    </script>\n",
              "  </div>\n",
              "\n",
              "\n",
              "<div id=\"df-14e6d67b-30b8-433a-9ebb-c73f1b09c516\">\n",
              "  <button class=\"colab-df-quickchart\" onclick=\"quickchart('df-14e6d67b-30b8-433a-9ebb-c73f1b09c516')\"\n",
              "            title=\"Suggest charts.\"\n",
              "            style=\"display:none;\">\n",
              "\n",
              "<svg xmlns=\"http://www.w3.org/2000/svg\" height=\"24px\"viewBox=\"0 0 24 24\"\n",
              "     width=\"24px\">\n",
              "    <g>\n",
              "        <path d=\"M19 3H5c-1.1 0-2 .9-2 2v14c0 1.1.9 2 2 2h14c1.1 0 2-.9 2-2V5c0-1.1-.9-2-2-2zM9 17H7v-7h2v7zm4 0h-2V7h2v10zm4 0h-2v-4h2v4z\"/>\n",
              "    </g>\n",
              "</svg>\n",
              "  </button>\n",
              "\n",
              "<style>\n",
              "  .colab-df-quickchart {\n",
              "      --bg-color: #E8F0FE;\n",
              "      --fill-color: #1967D2;\n",
              "      --hover-bg-color: #E2EBFA;\n",
              "      --hover-fill-color: #174EA6;\n",
              "      --disabled-fill-color: #AAA;\n",
              "      --disabled-bg-color: #DDD;\n",
              "  }\n",
              "\n",
              "  [theme=dark] .colab-df-quickchart {\n",
              "      --bg-color: #3B4455;\n",
              "      --fill-color: #D2E3FC;\n",
              "      --hover-bg-color: #434B5C;\n",
              "      --hover-fill-color: #FFFFFF;\n",
              "      --disabled-bg-color: #3B4455;\n",
              "      --disabled-fill-color: #666;\n",
              "  }\n",
              "\n",
              "  .colab-df-quickchart {\n",
              "    background-color: var(--bg-color);\n",
              "    border: none;\n",
              "    border-radius: 50%;\n",
              "    cursor: pointer;\n",
              "    display: none;\n",
              "    fill: var(--fill-color);\n",
              "    height: 32px;\n",
              "    padding: 0;\n",
              "    width: 32px;\n",
              "  }\n",
              "\n",
              "  .colab-df-quickchart:hover {\n",
              "    background-color: var(--hover-bg-color);\n",
              "    box-shadow: 0 1px 2px rgba(60, 64, 67, 0.3), 0 1px 3px 1px rgba(60, 64, 67, 0.15);\n",
              "    fill: var(--button-hover-fill-color);\n",
              "  }\n",
              "\n",
              "  .colab-df-quickchart-complete:disabled,\n",
              "  .colab-df-quickchart-complete:disabled:hover {\n",
              "    background-color: var(--disabled-bg-color);\n",
              "    fill: var(--disabled-fill-color);\n",
              "    box-shadow: none;\n",
              "  }\n",
              "\n",
              "  .colab-df-spinner {\n",
              "    border: 2px solid var(--fill-color);\n",
              "    border-color: transparent;\n",
              "    border-bottom-color: var(--fill-color);\n",
              "    animation:\n",
              "      spin 1s steps(1) infinite;\n",
              "  }\n",
              "\n",
              "  @keyframes spin {\n",
              "    0% {\n",
              "      border-color: transparent;\n",
              "      border-bottom-color: var(--fill-color);\n",
              "      border-left-color: var(--fill-color);\n",
              "    }\n",
              "    20% {\n",
              "      border-color: transparent;\n",
              "      border-left-color: var(--fill-color);\n",
              "      border-top-color: var(--fill-color);\n",
              "    }\n",
              "    30% {\n",
              "      border-color: transparent;\n",
              "      border-left-color: var(--fill-color);\n",
              "      border-top-color: var(--fill-color);\n",
              "      border-right-color: var(--fill-color);\n",
              "    }\n",
              "    40% {\n",
              "      border-color: transparent;\n",
              "      border-right-color: var(--fill-color);\n",
              "      border-top-color: var(--fill-color);\n",
              "    }\n",
              "    60% {\n",
              "      border-color: transparent;\n",
              "      border-right-color: var(--fill-color);\n",
              "    }\n",
              "    80% {\n",
              "      border-color: transparent;\n",
              "      border-right-color: var(--fill-color);\n",
              "      border-bottom-color: var(--fill-color);\n",
              "    }\n",
              "    90% {\n",
              "      border-color: transparent;\n",
              "      border-bottom-color: var(--fill-color);\n",
              "    }\n",
              "  }\n",
              "</style>\n",
              "\n",
              "  <script>\n",
              "    async function quickchart(key) {\n",
              "      const quickchartButtonEl =\n",
              "        document.querySelector('#' + key + ' button');\n",
              "      quickchartButtonEl.disabled = true;  // To prevent multiple clicks.\n",
              "      quickchartButtonEl.classList.add('colab-df-spinner');\n",
              "      try {\n",
              "        const charts = await google.colab.kernel.invokeFunction(\n",
              "            'suggestCharts', [key], {});\n",
              "      } catch (error) {\n",
              "        console.error('Error during call to suggestCharts:', error);\n",
              "      }\n",
              "      quickchartButtonEl.classList.remove('colab-df-spinner');\n",
              "      quickchartButtonEl.classList.add('colab-df-quickchart-complete');\n",
              "    }\n",
              "    (() => {\n",
              "      let quickchartButtonEl =\n",
              "        document.querySelector('#df-14e6d67b-30b8-433a-9ebb-c73f1b09c516 button');\n",
              "      quickchartButtonEl.style.display =\n",
              "        google.colab.kernel.accessAllowed ? 'block' : 'none';\n",
              "    })();\n",
              "  </script>\n",
              "</div>\n",
              "    </div>\n",
              "  </div>\n"
            ]
          },
          "metadata": {},
          "execution_count": 34
        }
      ]
    },
    {
      "cell_type": "code",
      "source": [
        "import nltk\n",
        "from nltk.sentiment.vader import SentimentIntensityAnalyzer\n",
        "\n",
        "# Download the VADER lexicon (if you haven't already)\n",
        "nltk.download('vader_lexicon')\n",
        "\n",
        "# Initialize the SentimentIntensityAnalyzer\n",
        "sia = SentimentIntensityAnalyzer()\n"
      ],
      "metadata": {
        "colab": {
          "base_uri": "https://localhost:8080/"
        },
        "id": "OW7nStjkHGmM",
        "outputId": "10a138e6-e35a-4686-892a-3ace979e242d"
      },
      "execution_count": null,
      "outputs": [
        {
          "output_type": "stream",
          "name": "stderr",
          "text": [
            "[nltk_data] Downloading package vader_lexicon to /root/nltk_data...\n"
          ]
        }
      ]
    },
    {
      "cell_type": "code",
      "source": [
        "def map_emotion_to_sentiment_vader(emotion):\n",
        "    sentiment_scores = sia.polarity_scores(emotion.lower())\n",
        "\n",
        "    # Determine sentiment based on compound score\n",
        "    compound_score = sentiment_scores['compound']\n",
        "\n",
        "    if compound_score >= 0.05:\n",
        "        return 'positive'\n",
        "    elif compound_score <= -0.05:\n",
        "        return 'negative'\n",
        "    else:\n",
        "        return 'neutral'\n",
        "\n",
        "\n",
        "\n",
        "train['sentiment'] = train['label'].apply(map_emotion_to_sentiment_vader)\n",
        "\n",
        "# Display the updated DataFrame\n",
        "print(train)\n"
      ],
      "metadata": {
        "id": "bEudaBo-3Fe7",
        "colab": {
          "base_uri": "https://localhost:8080/"
        },
        "outputId": "d18d1759-8c16-4c65-e3d7-75cf157d4795"
      },
      "execution_count": null,
      "outputs": [
        {
          "output_type": "stream",
          "name": "stdout",
          "text": [
            "                                                   image     label sentiment\n",
            "0      /content/drive/MyDrive/Teachmint split_config....  surprise  positive\n",
            "1      /content/drive/MyDrive/Teachmint split_config....  surprise  positive\n",
            "2      /content/drive/MyDrive/Teachmint split_config....  surprise  positive\n",
            "3      /content/drive/MyDrive/Teachmint split_config....  surprise  positive\n",
            "4      /content/drive/MyDrive/Teachmint split_config....  surprise  positive\n",
            "...                                                  ...       ...       ...\n",
            "28877  /content/drive/MyDrive/Teachmint split_config....     angry  negative\n",
            "28878  /content/drive/MyDrive/Teachmint split_config....     angry  negative\n",
            "28879  /content/drive/MyDrive/Teachmint split_config....     angry  negative\n",
            "28880  /content/drive/MyDrive/Teachmint split_config....     angry  negative\n",
            "28881  /content/drive/MyDrive/Teachmint split_config....     angry  negative\n",
            "\n",
            "[28882 rows x 3 columns]\n"
          ]
        }
      ]
    },
    {
      "cell_type": "code",
      "source": [
        "temp = train.groupby(\"sentiment\").count().reset_index().sort_values(by=\"label\", ascending=False)\n",
        "\n",
        "temp"
      ],
      "metadata": {
        "colab": {
          "base_uri": "https://localhost:8080/",
          "height": 142
        },
        "id": "GDP3GmOAHOVx",
        "outputId": "bfdb8d58-bdd7-4ff3-f422-69276dafd0a0"
      },
      "execution_count": null,
      "outputs": [
        {
          "output_type": "execute_result",
          "data": {
            "text/plain": [
              "  sentiment  image  label\n",
              "0  negative  13481  13481\n",
              "2  positive  10419  10419\n",
              "1   neutral   4982   4982"
            ],
            "text/html": [
              "\n",
              "  <div id=\"df-6fa1325e-0b99-4768-a749-4c7f48536ea6\" class=\"colab-df-container\">\n",
              "    <div>\n",
              "<style scoped>\n",
              "    .dataframe tbody tr th:only-of-type {\n",
              "        vertical-align: middle;\n",
              "    }\n",
              "\n",
              "    .dataframe tbody tr th {\n",
              "        vertical-align: top;\n",
              "    }\n",
              "\n",
              "    .dataframe thead th {\n",
              "        text-align: right;\n",
              "    }\n",
              "</style>\n",
              "<table border=\"1\" class=\"dataframe\">\n",
              "  <thead>\n",
              "    <tr style=\"text-align: right;\">\n",
              "      <th></th>\n",
              "      <th>sentiment</th>\n",
              "      <th>image</th>\n",
              "      <th>label</th>\n",
              "    </tr>\n",
              "  </thead>\n",
              "  <tbody>\n",
              "    <tr>\n",
              "      <th>0</th>\n",
              "      <td>negative</td>\n",
              "      <td>13481</td>\n",
              "      <td>13481</td>\n",
              "    </tr>\n",
              "    <tr>\n",
              "      <th>2</th>\n",
              "      <td>positive</td>\n",
              "      <td>10419</td>\n",
              "      <td>10419</td>\n",
              "    </tr>\n",
              "    <tr>\n",
              "      <th>1</th>\n",
              "      <td>neutral</td>\n",
              "      <td>4982</td>\n",
              "      <td>4982</td>\n",
              "    </tr>\n",
              "  </tbody>\n",
              "</table>\n",
              "</div>\n",
              "    <div class=\"colab-df-buttons\">\n",
              "\n",
              "  <div class=\"colab-df-container\">\n",
              "    <button class=\"colab-df-convert\" onclick=\"convertToInteractive('df-6fa1325e-0b99-4768-a749-4c7f48536ea6')\"\n",
              "            title=\"Convert this dataframe to an interactive table.\"\n",
              "            style=\"display:none;\">\n",
              "\n",
              "  <svg xmlns=\"http://www.w3.org/2000/svg\" height=\"24px\" viewBox=\"0 -960 960 960\">\n",
              "    <path d=\"M120-120v-720h720v720H120Zm60-500h600v-160H180v160Zm220 220h160v-160H400v160Zm0 220h160v-160H400v160ZM180-400h160v-160H180v160Zm440 0h160v-160H620v160ZM180-180h160v-160H180v160Zm440 0h160v-160H620v160Z\"/>\n",
              "  </svg>\n",
              "    </button>\n",
              "\n",
              "  <style>\n",
              "    .colab-df-container {\n",
              "      display:flex;\n",
              "      gap: 12px;\n",
              "    }\n",
              "\n",
              "    .colab-df-convert {\n",
              "      background-color: #E8F0FE;\n",
              "      border: none;\n",
              "      border-radius: 50%;\n",
              "      cursor: pointer;\n",
              "      display: none;\n",
              "      fill: #1967D2;\n",
              "      height: 32px;\n",
              "      padding: 0 0 0 0;\n",
              "      width: 32px;\n",
              "    }\n",
              "\n",
              "    .colab-df-convert:hover {\n",
              "      background-color: #E2EBFA;\n",
              "      box-shadow: 0px 1px 2px rgba(60, 64, 67, 0.3), 0px 1px 3px 1px rgba(60, 64, 67, 0.15);\n",
              "      fill: #174EA6;\n",
              "    }\n",
              "\n",
              "    .colab-df-buttons div {\n",
              "      margin-bottom: 4px;\n",
              "    }\n",
              "\n",
              "    [theme=dark] .colab-df-convert {\n",
              "      background-color: #3B4455;\n",
              "      fill: #D2E3FC;\n",
              "    }\n",
              "\n",
              "    [theme=dark] .colab-df-convert:hover {\n",
              "      background-color: #434B5C;\n",
              "      box-shadow: 0px 1px 3px 1px rgba(0, 0, 0, 0.15);\n",
              "      filter: drop-shadow(0px 1px 2px rgba(0, 0, 0, 0.3));\n",
              "      fill: #FFFFFF;\n",
              "    }\n",
              "  </style>\n",
              "\n",
              "    <script>\n",
              "      const buttonEl =\n",
              "        document.querySelector('#df-6fa1325e-0b99-4768-a749-4c7f48536ea6 button.colab-df-convert');\n",
              "      buttonEl.style.display =\n",
              "        google.colab.kernel.accessAllowed ? 'block' : 'none';\n",
              "\n",
              "      async function convertToInteractive(key) {\n",
              "        const element = document.querySelector('#df-6fa1325e-0b99-4768-a749-4c7f48536ea6');\n",
              "        const dataTable =\n",
              "          await google.colab.kernel.invokeFunction('convertToInteractive',\n",
              "                                                    [key], {});\n",
              "        if (!dataTable) return;\n",
              "\n",
              "        const docLinkHtml = 'Like what you see? Visit the ' +\n",
              "          '<a target=\"_blank\" href=https://colab.research.google.com/notebooks/data_table.ipynb>data table notebook</a>'\n",
              "          + ' to learn more about interactive tables.';\n",
              "        element.innerHTML = '';\n",
              "        dataTable['output_type'] = 'display_data';\n",
              "        await google.colab.output.renderOutput(dataTable, element);\n",
              "        const docLink = document.createElement('div');\n",
              "        docLink.innerHTML = docLinkHtml;\n",
              "        element.appendChild(docLink);\n",
              "      }\n",
              "    </script>\n",
              "  </div>\n",
              "\n",
              "\n",
              "<div id=\"df-ad106dba-fb15-4b70-8b8d-47d981bff58e\">\n",
              "  <button class=\"colab-df-quickchart\" onclick=\"quickchart('df-ad106dba-fb15-4b70-8b8d-47d981bff58e')\"\n",
              "            title=\"Suggest charts.\"\n",
              "            style=\"display:none;\">\n",
              "\n",
              "<svg xmlns=\"http://www.w3.org/2000/svg\" height=\"24px\"viewBox=\"0 0 24 24\"\n",
              "     width=\"24px\">\n",
              "    <g>\n",
              "        <path d=\"M19 3H5c-1.1 0-2 .9-2 2v14c0 1.1.9 2 2 2h14c1.1 0 2-.9 2-2V5c0-1.1-.9-2-2-2zM9 17H7v-7h2v7zm4 0h-2V7h2v10zm4 0h-2v-4h2v4z\"/>\n",
              "    </g>\n",
              "</svg>\n",
              "  </button>\n",
              "\n",
              "<style>\n",
              "  .colab-df-quickchart {\n",
              "      --bg-color: #E8F0FE;\n",
              "      --fill-color: #1967D2;\n",
              "      --hover-bg-color: #E2EBFA;\n",
              "      --hover-fill-color: #174EA6;\n",
              "      --disabled-fill-color: #AAA;\n",
              "      --disabled-bg-color: #DDD;\n",
              "  }\n",
              "\n",
              "  [theme=dark] .colab-df-quickchart {\n",
              "      --bg-color: #3B4455;\n",
              "      --fill-color: #D2E3FC;\n",
              "      --hover-bg-color: #434B5C;\n",
              "      --hover-fill-color: #FFFFFF;\n",
              "      --disabled-bg-color: #3B4455;\n",
              "      --disabled-fill-color: #666;\n",
              "  }\n",
              "\n",
              "  .colab-df-quickchart {\n",
              "    background-color: var(--bg-color);\n",
              "    border: none;\n",
              "    border-radius: 50%;\n",
              "    cursor: pointer;\n",
              "    display: none;\n",
              "    fill: var(--fill-color);\n",
              "    height: 32px;\n",
              "    padding: 0;\n",
              "    width: 32px;\n",
              "  }\n",
              "\n",
              "  .colab-df-quickchart:hover {\n",
              "    background-color: var(--hover-bg-color);\n",
              "    box-shadow: 0 1px 2px rgba(60, 64, 67, 0.3), 0 1px 3px 1px rgba(60, 64, 67, 0.15);\n",
              "    fill: var(--button-hover-fill-color);\n",
              "  }\n",
              "\n",
              "  .colab-df-quickchart-complete:disabled,\n",
              "  .colab-df-quickchart-complete:disabled:hover {\n",
              "    background-color: var(--disabled-bg-color);\n",
              "    fill: var(--disabled-fill-color);\n",
              "    box-shadow: none;\n",
              "  }\n",
              "\n",
              "  .colab-df-spinner {\n",
              "    border: 2px solid var(--fill-color);\n",
              "    border-color: transparent;\n",
              "    border-bottom-color: var(--fill-color);\n",
              "    animation:\n",
              "      spin 1s steps(1) infinite;\n",
              "  }\n",
              "\n",
              "  @keyframes spin {\n",
              "    0% {\n",
              "      border-color: transparent;\n",
              "      border-bottom-color: var(--fill-color);\n",
              "      border-left-color: var(--fill-color);\n",
              "    }\n",
              "    20% {\n",
              "      border-color: transparent;\n",
              "      border-left-color: var(--fill-color);\n",
              "      border-top-color: var(--fill-color);\n",
              "    }\n",
              "    30% {\n",
              "      border-color: transparent;\n",
              "      border-left-color: var(--fill-color);\n",
              "      border-top-color: var(--fill-color);\n",
              "      border-right-color: var(--fill-color);\n",
              "    }\n",
              "    40% {\n",
              "      border-color: transparent;\n",
              "      border-right-color: var(--fill-color);\n",
              "      border-top-color: var(--fill-color);\n",
              "    }\n",
              "    60% {\n",
              "      border-color: transparent;\n",
              "      border-right-color: var(--fill-color);\n",
              "    }\n",
              "    80% {\n",
              "      border-color: transparent;\n",
              "      border-right-color: var(--fill-color);\n",
              "      border-bottom-color: var(--fill-color);\n",
              "    }\n",
              "    90% {\n",
              "      border-color: transparent;\n",
              "      border-bottom-color: var(--fill-color);\n",
              "    }\n",
              "  }\n",
              "</style>\n",
              "\n",
              "  <script>\n",
              "    async function quickchart(key) {\n",
              "      const quickchartButtonEl =\n",
              "        document.querySelector('#' + key + ' button');\n",
              "      quickchartButtonEl.disabled = true;  // To prevent multiple clicks.\n",
              "      quickchartButtonEl.classList.add('colab-df-spinner');\n",
              "      try {\n",
              "        const charts = await google.colab.kernel.invokeFunction(\n",
              "            'suggestCharts', [key], {});\n",
              "      } catch (error) {\n",
              "        console.error('Error during call to suggestCharts:', error);\n",
              "      }\n",
              "      quickchartButtonEl.classList.remove('colab-df-spinner');\n",
              "      quickchartButtonEl.classList.add('colab-df-quickchart-complete');\n",
              "    }\n",
              "    (() => {\n",
              "      let quickchartButtonEl =\n",
              "        document.querySelector('#df-ad106dba-fb15-4b70-8b8d-47d981bff58e button');\n",
              "      quickchartButtonEl.style.display =\n",
              "        google.colab.kernel.accessAllowed ? 'block' : 'none';\n",
              "    })();\n",
              "  </script>\n",
              "</div>\n",
              "    </div>\n",
              "  </div>\n"
            ]
          },
          "metadata": {},
          "execution_count": 37
        }
      ]
    },
    {
      "cell_type": "code",
      "source": [
        "plt.style.use('default')\n",
        "a1 = sns.barplot(x=\"sentiment\", y=\"image\", data = temp)\n",
        "a1.bar_label(a1.containers[0], )\n",
        "\n",
        "plt.title(\"Count of sentiments\")\n",
        "plt.show()"
      ],
      "metadata": {
        "colab": {
          "base_uri": "https://localhost:8080/",
          "height": 472
        },
        "id": "OsjRr2feHZPM",
        "outputId": "3fb821ea-60ac-47fc-d9b0-efc29c8fde86"
      },
      "execution_count": null,
      "outputs": [
        {
          "output_type": "display_data",
          "data": {
            "text/plain": [
              "<Figure size 640x480 with 1 Axes>"
            ],
            "image/png": "[encoded data removed]"
          },
          "metadata": {}
        }
      ]
    },
    {
      "cell_type": "code",
      "source": [
        "fig = go.Figure(go.Funnelarea(text=temp.sentiment, values=temp.image, title={\"position\": \"top center\", \"text\": \"Funnel-Chart of Sentiment Distribution\"}))"
      ],
      "metadata": {
        "id": "K-_8DGwcaFHk"
      },
      "execution_count": null,
      "outputs": []
    },
    {
      "cell_type": "code",
      "source": [
        "fig.show(renderer='colab')"
      ],
      "metadata": {
        "colab": {
          "base_uri": "https://localhost:8080/",
          "height": 542
        },
        "id": "Uu6hwnQxJdGi",
        "outputId": "e8252053-5ab7-4e4f-fe8e-751c34e0232c"
      },
      "execution_count": null,
      "outputs": [
        {
          "output_type": "display_data",
          "data": {
            "text/html": [
              "<html>\n",
              "<head><meta charset=\"utf-8\" /></head>\n",
              "<body>\n",
              "    <div>            <script src=\"https://cdnjs.cloudflare.com/ajax/libs/mathjax/2.7.5/MathJax.js?config=TeX-AMS-MML_SVG\"></script><script type=\"text/javascript\">if (window.MathJax && window.MathJax.Hub && window.MathJax.Hub.Config) {window.MathJax.Hub.Config({SVG: {font: \"STIX-Web\"}});}</script>                <script type=\"text/javascript\">window.PlotlyConfig = {MathJaxConfig: 'local'};</script>\n",
              "        <script charset=\"utf-8\" src=\"https://cdn.plot.ly/plotly-2.24.1.min.js\"></script>                <div id=\"c558de31-e003-418a-a5e6-0b1d823b8ed0\" class=\"plotly-graph-div\" style=\"height:525px; width:100%;\"></div>            <script type=\"text/javascript\">                                    window.PLOTLYENV=window.PLOTLYENV || {};                                    if (document.getElementById(\"c558de31-e003-418a-a5e6-0b1d823b8ed0\")) {                    Plotly.newPlot(                        \"c558de31-e003-418a-a5e6-0b1d823b8ed0\",                        [{\"text\":[\"negative\",\"positive\",\"neutral\"],\"title\":{\"position\":\"top center\",\"text\":\"Funnel-Chart of Sentiment Distribution\"},\"values\":[13481,10419,4982],\"type\":\"funnelarea\"}],                        {\"template\":{\"data\":{\"histogram2dcontour\":[{\"type\":\"histogram2dcontour\",\"colorbar\":{\"outlinewidth\":0,\"ticks\":\"\"},\"colorscale\":[[0.0,\"#0d0887\"],[0.1111111111111111,\"#46039f\"],[0.2222222222222222,\"#7201a8\"],[0.3333333333333333,\"#9c179e\"],[0.4444444444444444,\"#bd3786\"],[0.5555555555555556,\"#d8576b\"],[0.6666666666666666,\"#ed7953\"],[0.7777777777777778,\"#fb9f3a\"],[0.8888888888888888,\"#fdca26\"],[1.0,\"#f0f921\"]]}],\"choropleth\":[{\"type\":\"choropleth\",\"colorbar\":{\"outlinewidth\":0,\"ticks\":\"\"}}],\"histogram2d\":[{\"type\":\"histogram2d\",\"colorbar\":{\"outlinewidth\":0,\"ticks\":\"\"},\"colorscale\":[[0.0,\"#0d0887\"],[0.1111111111111111,\"#46039f\"],[0.2222222222222222,\"#7201a8\"],[0.3333333333333333,\"#9c179e\"],[0.4444444444444444,\"#bd3786\"],[0.5555555555555556,\"#d8576b\"],[0.6666666666666666,\"#ed7953\"],[0.7777777777777778,\"#fb9f3a\"],[0.8888888888888888,\"#fdca26\"],[1.0,\"#f0f921\"]]}],\"heatmap\":[{\"type\":\"heatmap\",\"colorbar\":{\"outlinewidth\":0,\"ticks\":\"\"},\"colorscale\":[[0.0,\"#0d0887\"],[0.1111111111111111,\"#46039f\"],[0.2222222222222222,\"#7201a8\"],[0.3333333333333333,\"#9c179e\"],[0.4444444444444444,\"#bd3786\"],[0.5555555555555556,\"#d8576b\"],[0.6666666666666666,\"#ed7953\"],[0.7777777777777778,\"#fb9f3a\"],[0.8888888888888888,\"#fdca26\"],[1.0,\"#f0f921\"]]}],\"heatmapgl\":[{\"type\":\"heatmapgl\",\"colorbar\":{\"outlinewidth\":0,\"ticks\":\"\"},\"colorscale\":[[0.0,\"#0d0887\"],[0.1111111111111111,\"#46039f\"],[0.2222222222222222,\"#7201a8\"],[0.3333333333333333,\"#9c179e\"],[0.4444444444444444,\"#bd3786\"],[0.5555555555555556,\"#d8576b\"],[0.6666666666666666,\"#ed7953\"],[0.7777777777777778,\"#fb9f3a\"],[0.8888888888888888,\"#fdca26\"],[1.0,\"#f0f921\"]]}],\"contourcarpet\":[{\"type\":\"contourcarpet\",\"colorbar\":{\"outlinewidth\":0,\"ticks\":\"\"}}],\"contour\":[{\"type\":\"contour\",\"colorbar\":{\"outlinewidth\":0,\"ticks\":\"\"},\"colorscale\":[[0.0,\"#0d0887\"],[0.1111111111111111,\"#46039f\"],[0.2222222222222222,\"#7201a8\"],[0.3333333333333333,\"#9c179e\"],[0.4444444444444444,\"#bd3786\"],[0.5555555555555556,\"#d8576b\"],[0.6666666666666666,\"#ed7953\"],[0.7777777777777778,\"#fb9f3a\"],[0.8888888888888888,\"#fdca26\"],[1.0,\"#f0f921\"]]}],\"surface\":[{\"type\":\"surface\",\"colorbar\":{\"outlinewidth\":0,\"ticks\":\"\"},\"colorscale\":[[0.0,\"#0d0887\"],[0.1111111111111111,\"#46039f\"],[0.2222222222222222,\"#7201a8\"],[0.3333333333333333,\"#9c179e\"],[0.4444444444444444,\"#bd3786\"],[0.5555555555555556,\"#d8576b\"],[0.6666666666666666,\"#ed7953\"],[0.7777777777777778,\"#fb9f3a\"],[0.8888888888888888,\"#fdca26\"],[1.0,\"#f0f921\"]]}],\"mesh3d\":[{\"type\":\"mesh3d\",\"colorbar\":{\"outlinewidth\":0,\"ticks\":\"\"}}],\"scatter\":[{\"fillpattern\":{\"fillmode\":\"overlay\",\"size\":10,\"solidity\":0.2},\"type\":\"scatter\"}],\"parcoords\":[{\"type\":\"parcoords\",\"line\":{\"colorbar\":{\"outlinewidth\":0,\"ticks\":\"\"}}}],\"scatterpolargl\":[{\"type\":\"scatterpolargl\",\"marker\":{\"colorbar\":{\"outlinewidth\":0,\"ticks\":\"\"}}}],\"bar\":[{\"error_x\":{\"color\":\"#2a3f5f\"},\"error_y\":{\"color\":\"#2a3f5f\"},\"marker\":{\"line\":{\"color\":\"#E5ECF6\",\"width\":0.5},\"pattern\":{\"fillmode\":\"overlay\",\"size\":10,\"solidity\":0.2}},\"type\":\"bar\"}],\"scattergeo\":[{\"type\":\"scattergeo\",\"marker\":{\"colorbar\":{\"outlinewidth\":0,\"ticks\":\"\"}}}],\"scatterpolar\":[{\"type\":\"scatterpolar\",\"marker\":{\"colorbar\":{\"outlinewidth\":0,\"ticks\":\"\"}}}],\"histogram\":[{\"marker\":{\"pattern\":{\"fillmode\":\"overlay\",\"size\":10,\"solidity\":0.2}},\"type\":\"histogram\"}],\"scattergl\":[{\"type\":\"scattergl\",\"marker\":{\"colorbar\":{\"outlinewidth\":0,\"ticks\":\"\"}}}],\"scatter3d\":[{\"type\":\"scatter3d\",\"line\":{\"colorbar\":{\"outlinewidth\":0,\"ticks\":\"\"}},\"marker\":{\"colorbar\":{\"outlinewidth\":0,\"ticks\":\"\"}}}],\"scattermapbox\":[{\"type\":\"scattermapbox\",\"marker\":{\"colorbar\":{\"outlinewidth\":0,\"ticks\":\"\"}}}],\"scatterternary\":[{\"type\":\"scatterternary\",\"marker\":{\"colorbar\":{\"outlinewidth\":0,\"ticks\":\"\"}}}],\"scattercarpet\":[{\"type\":\"scattercarpet\",\"marker\":{\"colorbar\":{\"outlinewidth\":0,\"ticks\":\"\"}}}],\"carpet\":[{\"aaxis\":{\"endlinecolor\":\"#2a3f5f\",\"gridcolor\":\"white\",\"linecolor\":\"white\",\"minorgridcolor\":\"white\",\"startlinecolor\":\"#2a3f5f\"},\"baxis\":{\"endlinecolor\":\"#2a3f5f\",\"gridcolor\":\"white\",\"linecolor\":\"white\",\"minorgridcolor\":\"white\",\"startlinecolor\":\"#2a3f5f\"},\"type\":\"carpet\"}],\"table\":[{\"cells\":{\"fill\":{\"color\":\"#EBF0F8\"},\"line\":{\"color\":\"white\"}},\"header\":{\"fill\":{\"color\":\"#C8D4E3\"},\"line\":{\"color\":\"white\"}},\"type\":\"table\"}],\"barpolar\":[{\"marker\":{\"line\":{\"color\":\"#E5ECF6\",\"width\":0.5},\"pattern\":{\"fillmode\":\"overlay\",\"size\":10,\"solidity\":0.2}},\"type\":\"barpolar\"}],\"pie\":[{\"automargin\":true,\"type\":\"pie\"}]},\"layout\":{\"autotypenumbers\":\"strict\",\"colorway\":[\"#636efa\",\"#EF553B\",\"#00cc96\",\"#ab63fa\",\"#FFA15A\",\"#19d3f3\",\"#FF6692\",\"#B6E880\",\"#FF97FF\",\"#FECB52\"],\"font\":{\"color\":\"#2a3f5f\"},\"hovermode\":\"closest\",\"hoverlabel\":{\"align\":\"left\"},\"paper_bgcolor\":\"white\",\"plot_bgcolor\":\"#E5ECF6\",\"polar\":{\"bgcolor\":\"#E5ECF6\",\"angularaxis\":{\"gridcolor\":\"white\",\"linecolor\":\"white\",\"ticks\":\"\"},\"radialaxis\":{\"gridcolor\":\"white\",\"linecolor\":\"white\",\"ticks\":\"\"}},\"ternary\":{\"bgcolor\":\"#E5ECF6\",\"aaxis\":{\"gridcolor\":\"white\",\"linecolor\":\"white\",\"ticks\":\"\"},\"baxis\":{\"gridcolor\":\"white\",\"linecolor\":\"white\",\"ticks\":\"\"},\"caxis\":{\"gridcolor\":\"white\",\"linecolor\":\"white\",\"ticks\":\"\"}},\"coloraxis\":{\"colorbar\":{\"outlinewidth\":0,\"ticks\":\"\"}},\"colorscale\":{\"sequential\":[[0.0,\"#0d0887\"],[0.1111111111111111,\"#46039f\"],[0.2222222222222222,\"#7201a8\"],[0.3333333333333333,\"#9c179e\"],[0.4444444444444444,\"#bd3786\"],[0.5555555555555556,\"#d8576b\"],[0.6666666666666666,\"#ed7953\"],[0.7777777777777778,\"#fb9f3a\"],[0.8888888888888888,\"#fdca26\"],[1.0,\"#f0f921\"]],\"sequentialminus\":[[0.0,\"#0d0887\"],[0.1111111111111111,\"#46039f\"],[0.2222222222222222,\"#7201a8\"],[0.3333333333333333,\"#9c179e\"],[0.4444444444444444,\"#bd3786\"],[0.5555555555555556,\"#d8576b\"],[0.6666666666666666,\"#ed7953\"],[0.7777777777777778,\"#fb9f3a\"],[0.8888888888888888,\"#fdca26\"],[1.0,\"#f0f921\"]],\"diverging\":[[0,\"#8e0152\"],[0.1,\"#c51b7d\"],[0.2,\"#de77ae\"],[0.3,\"#f1b6da\"],[0.4,\"#fde0ef\"],[0.5,\"#f7f7f7\"],[0.6,\"#e6f5d0\"],[0.7,\"#b8e186\"],[0.8,\"#7fbc41\"],[0.9,\"#4d9221\"],[1,\"#276419\"]]},\"xaxis\":{\"gridcolor\":\"white\",\"linecolor\":\"white\",\"ticks\":\"\",\"title\":{\"standoff\":15},\"zerolinecolor\":\"white\",\"automargin\":true,\"zerolinewidth\":2},\"yaxis\":{\"gridcolor\":\"white\",\"linecolor\":\"white\",\"ticks\":\"\",\"title\":{\"standoff\":15},\"zerolinecolor\":\"white\",\"automargin\":true,\"zerolinewidth\":2},\"scene\":{\"xaxis\":{\"backgroundcolor\":\"#E5ECF6\",\"gridcolor\":\"white\",\"linecolor\":\"white\",\"showbackground\":true,\"ticks\":\"\",\"zerolinecolor\":\"white\",\"gridwidth\":2},\"yaxis\":{\"backgroundcolor\":\"#E5ECF6\",\"gridcolor\":\"white\",\"linecolor\":\"white\",\"showbackground\":true,\"ticks\":\"\",\"zerolinecolor\":\"white\",\"gridwidth\":2},\"zaxis\":{\"backgroundcolor\":\"#E5ECF6\",\"gridcolor\":\"white\",\"linecolor\":\"white\",\"showbackground\":true,\"ticks\":\"\",\"zerolinecolor\":\"white\",\"gridwidth\":2}},\"shapedefaults\":{\"line\":{\"color\":\"#2a3f5f\"}},\"annotationdefaults\":{\"arrowcolor\":\"#2a3f5f\",\"arrowhead\":0,\"arrowwidth\":1},\"geo\":{\"bgcolor\":\"white\",\"landcolor\":\"#E5ECF6\",\"subunitcolor\":\"white\",\"showland\":true,\"showlakes\":true,\"lakecolor\":\"white\"},\"title\":{\"x\":0.05},\"mapbox\":{\"style\":\"light\"}}}},                        {\"responsive\": true}                    ).then(function(){\n",
              "                            \n",
              "var gd = document.getElementById('c558de31-e003-418a-a5e6-0b1d823b8ed0');\n",
              "var x = new MutationObserver(function (mutations, observer) {{\n",
              "        var display = window.getComputedStyle(gd).display;\n",
              "        if (!display || display === 'none') {{\n",
              "            console.log([gd, 'removed!']);\n",
              "            Plotly.purge(gd);\n",
              "            observer.disconnect();\n",
              "        }}\n",
              "}});\n",
              "\n",
              "// Listen for the removal of the full notebook cells\n",
              "var notebookContainer = gd.closest('#notebook-container');\n",
              "if (notebookContainer) {{\n",
              "    x.observe(notebookContainer, {childList: true});\n",
              "}}\n",
              "\n",
              "// Listen for the clearing of the current output cell\n",
              "var outputEl = gd.closest('.output');\n",
              "if (outputEl) {{\n",
              "    x.observe(outputEl, {childList: true});\n",
              "}}\n",
              "\n",
              "                        })                };                            </script>        </div>\n",
              "</body>\n",
              "</html>"
            ]
          },
          "metadata": {}
        }
      ]
    },
    {
      "cell_type": "code",
      "source": [
        "temp1 = train.groupby(\"label\").count().reset_index().sort_values(by=\"image\", ascending=False)\n",
        "\n",
        "temp1"
      ],
      "metadata": {
        "colab": {
          "base_uri": "https://localhost:8080/",
          "height": 266
        },
        "id": "TOrjHBU2Jm5t",
        "outputId": "562b9028-eeaa-40d8-c134-bdd2c388874f"
      },
      "execution_count": null,
      "outputs": [
        {
          "output_type": "execute_result",
          "data": {
            "text/plain": [
              "      label  image  sentiment\n",
              "3     happy   7214       7214\n",
              "4   neutral   4982       4982\n",
              "5       sad   4938       4938\n",
              "2      fear   4103       4103\n",
              "0     angry   4004       4004\n",
              "6  surprise   3205       3205\n",
              "1   disgust    436        436"
            ],
            "text/html": [
              "\n",
              "  <div id=\"df-75bdfc04-5a3f-4538-a76e-8558f093841e\" class=\"colab-df-container\">\n",
              "    <div>\n",
              "<style scoped>\n",
              "    .dataframe tbody tr th:only-of-type {\n",
              "        vertical-align: middle;\n",
              "    }\n",
              "\n",
              "    .dataframe tbody tr th {\n",
              "        vertical-align: top;\n",
              "    }\n",
              "\n",
              "    .dataframe thead th {\n",
              "        text-align: right;\n",
              "    }\n",
              "</style>\n",
              "<table border=\"1\" class=\"dataframe\">\n",
              "  <thead>\n",
              "    <tr style=\"text-align: right;\">\n",
              "      <th></th>\n",
              "      <th>label</th>\n",
              "      <th>image</th>\n",
              "      <th>sentiment</th>\n",
              "    </tr>\n",
              "  </thead>\n",
              "  <tbody>\n",
              "    <tr>\n",
              "      <th>3</th>\n",
              "      <td>happy</td>\n",
              "      <td>7214</td>\n",
              "      <td>7214</td>\n",
              "    </tr>\n",
              "    <tr>\n",
              "      <th>4</th>\n",
              "      <td>neutral</td>\n",
              "      <td>4982</td>\n",
              "      <td>4982</td>\n",
              "    </tr>\n",
              "    <tr>\n",
              "      <th>5</th>\n",
              "      <td>sad</td>\n",
              "      <td>4938</td>\n",
              "      <td>4938</td>\n",
              "    </tr>\n",
              "    <tr>\n",
              "      <th>2</th>\n",
              "      <td>fear</td>\n",
              "      <td>4103</td>\n",
              "      <td>4103</td>\n",
              "    </tr>\n",
              "    <tr>\n",
              "      <th>0</th>\n",
              "      <td>angry</td>\n",
              "      <td>4004</td>\n",
              "      <td>4004</td>\n",
              "    </tr>\n",
              "    <tr>\n",
              "      <th>6</th>\n",
              "      <td>surprise</td>\n",
              "      <td>3205</td>\n",
              "      <td>3205</td>\n",
              "    </tr>\n",
              "    <tr>\n",
              "      <th>1</th>\n",
              "      <td>disgust</td>\n",
              "      <td>436</td>\n",
              "      <td>436</td>\n",
              "    </tr>\n",
              "  </tbody>\n",
              "</table>\n",
              "</div>\n",
              "    <div class=\"colab-df-buttons\">\n",
              "\n",
              "  <div class=\"colab-df-container\">\n",
              "    <button class=\"colab-df-convert\" onclick=\"convertToInteractive('df-75bdfc04-5a3f-4538-a76e-8558f093841e')\"\n",
              "            title=\"Convert this dataframe to an interactive table.\"\n",
              "            style=\"display:none;\">\n",
              "\n",
              "  <svg xmlns=\"http://www.w3.org/2000/svg\" height=\"24px\" viewBox=\"0 -960 960 960\">\n",
              "    <path d=\"M120-120v-720h720v720H120Zm60-500h600v-160H180v160Zm220 220h160v-160H400v160Zm0 220h160v-160H400v160ZM180-400h160v-160H180v160Zm440 0h160v-160H620v160ZM180-180h160v-160H180v160Zm440 0h160v-160H620v160Z\"/>\n",
              "  </svg>\n",
              "    </button>\n",
              "\n",
              "  <style>\n",
              "    .colab-df-container {\n",
              "      display:flex;\n",
              "      gap: 12px;\n",
              "    }\n",
              "\n",
              "    .colab-df-convert {\n",
              "      background-color: #E8F0FE;\n",
              "      border: none;\n",
              "      border-radius: 50%;\n",
              "      cursor: pointer;\n",
              "      display: none;\n",
              "      fill: #1967D2;\n",
              "      height: 32px;\n",
              "      padding: 0 0 0 0;\n",
              "      width: 32px;\n",
              "    }\n",
              "\n",
              "    .colab-df-convert:hover {\n",
              "      background-color: #E2EBFA;\n",
              "      box-shadow: 0px 1px 2px rgba(60, 64, 67, 0.3), 0px 1px 3px 1px rgba(60, 64, 67, 0.15);\n",
              "      fill: #174EA6;\n",
              "    }\n",
              "\n",
              "    .colab-df-buttons div {\n",
              "      margin-bottom: 4px;\n",
              "    }\n",
              "\n",
              "    [theme=dark] .colab-df-convert {\n",
              "      background-color: #3B4455;\n",
              "      fill: #D2E3FC;\n",
              "    }\n",
              "\n",
              "    [theme=dark] .colab-df-convert:hover {\n",
              "      background-color: #434B5C;\n",
              "      box-shadow: 0px 1px 3px 1px rgba(0, 0, 0, 0.15);\n",
              "      filter: drop-shadow(0px 1px 2px rgba(0, 0, 0, 0.3));\n",
              "      fill: #FFFFFF;\n",
              "    }\n",
              "  </style>\n",
              "\n",
              "    <script>\n",
              "      const buttonEl =\n",
              "        document.querySelector('#df-75bdfc04-5a3f-4538-a76e-8558f093841e button.colab-df-convert');\n",
              "      buttonEl.style.display =\n",
              "        google.colab.kernel.accessAllowed ? 'block' : 'none';\n",
              "\n",
              "      async function convertToInteractive(key) {\n",
              "        const element = document.querySelector('#df-75bdfc04-5a3f-4538-a76e-8558f093841e');\n",
              "        const dataTable =\n",
              "          await google.colab.kernel.invokeFunction('convertToInteractive',\n",
              "                                                    [key], {});\n",
              "        if (!dataTable) return;\n",
              "\n",
              "        const docLinkHtml = 'Like what you see? Visit the ' +\n",
              "          '<a target=\"_blank\" href=https://colab.research.google.com/notebooks/data_table.ipynb>data table notebook</a>'\n",
              "          + ' to learn more about interactive tables.';\n",
              "        element.innerHTML = '';\n",
              "        dataTable['output_type'] = 'display_data';\n",
              "        await google.colab.output.renderOutput(dataTable, element);\n",
              "        const docLink = document.createElement('div');\n",
              "        docLink.innerHTML = docLinkHtml;\n",
              "        element.appendChild(docLink);\n",
              "      }\n",
              "    </script>\n",
              "  </div>\n",
              "\n",
              "\n",
              "<div id=\"df-f81a5116-1ef3-4254-a49a-af2f8ccf8bfe\">\n",
              "  <button class=\"colab-df-quickchart\" onclick=\"quickchart('df-f81a5116-1ef3-4254-a49a-af2f8ccf8bfe')\"\n",
              "            title=\"Suggest charts.\"\n",
              "            style=\"display:none;\">\n",
              "\n",
              "<svg xmlns=\"http://www.w3.org/2000/svg\" height=\"24px\"viewBox=\"0 0 24 24\"\n",
              "     width=\"24px\">\n",
              "    <g>\n",
              "        <path d=\"M19 3H5c-1.1 0-2 .9-2 2v14c0 1.1.9 2 2 2h14c1.1 0 2-.9 2-2V5c0-1.1-.9-2-2-2zM9 17H7v-7h2v7zm4 0h-2V7h2v10zm4 0h-2v-4h2v4z\"/>\n",
              "    </g>\n",
              "</svg>\n",
              "  </button>\n",
              "\n",
              "<style>\n",
              "  .colab-df-quickchart {\n",
              "      --bg-color: #E8F0FE;\n",
              "      --fill-color: #1967D2;\n",
              "      --hover-bg-color: #E2EBFA;\n",
              "      --hover-fill-color: #174EA6;\n",
              "      --disabled-fill-color: #AAA;\n",
              "      --disabled-bg-color: #DDD;\n",
              "  }\n",
              "\n",
              "  [theme=dark] .colab-df-quickchart {\n",
              "      --bg-color: #3B4455;\n",
              "      --fill-color: #D2E3FC;\n",
              "      --hover-bg-color: #434B5C;\n",
              "      --hover-fill-color: #FFFFFF;\n",
              "      --disabled-bg-color: #3B4455;\n",
              "      --disabled-fill-color: #666;\n",
              "  }\n",
              "\n",
              "  .colab-df-quickchart {\n",
              "    background-color: var(--bg-color);\n",
              "    border: none;\n",
              "    border-radius: 50%;\n",
              "    cursor: pointer;\n",
              "    display: none;\n",
              "    fill: var(--fill-color);\n",
              "    height: 32px;\n",
              "    padding: 0;\n",
              "    width: 32px;\n",
              "  }\n",
              "\n",
              "  .colab-df-quickchart:hover {\n",
              "    background-color: var(--hover-bg-color);\n",
              "    box-shadow: 0 1px 2px rgba(60, 64, 67, 0.3), 0 1px 3px 1px rgba(60, 64, 67, 0.15);\n",
              "    fill: var(--button-hover-fill-color);\n",
              "  }\n",
              "\n",
              "  .colab-df-quickchart-complete:disabled,\n",
              "  .colab-df-quickchart-complete:disabled:hover {\n",
              "    background-color: var(--disabled-bg-color);\n",
              "    fill: var(--disabled-fill-color);\n",
              "    box-shadow: none;\n",
              "  }\n",
              "\n",
              "  .colab-df-spinner {\n",
              "    border: 2px solid var(--fill-color);\n",
              "    border-color: transparent;\n",
              "    border-bottom-color: var(--fill-color);\n",
              "    animation:\n",
              "      spin 1s steps(1) infinite;\n",
              "  }\n",
              "\n",
              "  @keyframes spin {\n",
              "    0% {\n",
              "      border-color: transparent;\n",
              "      border-bottom-color: var(--fill-color);\n",
              "      border-left-color: var(--fill-color);\n",
              "    }\n",
              "    20% {\n",
              "      border-color: transparent;\n",
              "      border-left-color: var(--fill-color);\n",
              "      border-top-color: var(--fill-color);\n",
              "    }\n",
              "    30% {\n",
              "      border-color: transparent;\n",
              "      border-left-color: var(--fill-color);\n",
              "      border-top-color: var(--fill-color);\n",
              "      border-right-color: var(--fill-color);\n",
              "    }\n",
              "    40% {\n",
              "      border-color: transparent;\n",
              "      border-right-color: var(--fill-color);\n",
              "      border-top-color: var(--fill-color);\n",
              "    }\n",
              "    60% {\n",
              "      border-color: transparent;\n",
              "      border-right-color: var(--fill-color);\n",
              "    }\n",
              "    80% {\n",
              "      border-color: transparent;\n",
              "      border-right-color: var(--fill-color);\n",
              "      border-bottom-color: var(--fill-color);\n",
              "    }\n",
              "    90% {\n",
              "      border-color: transparent;\n",
              "      border-bottom-color: var(--fill-color);\n",
              "    }\n",
              "  }\n",
              "</style>\n",
              "\n",
              "  <script>\n",
              "    async function quickchart(key) {\n",
              "      const quickchartButtonEl =\n",
              "        document.querySelector('#' + key + ' button');\n",
              "      quickchartButtonEl.disabled = true;  // To prevent multiple clicks.\n",
              "      quickchartButtonEl.classList.add('colab-df-spinner');\n",
              "      try {\n",
              "        const charts = await google.colab.kernel.invokeFunction(\n",
              "            'suggestCharts', [key], {});\n",
              "      } catch (error) {\n",
              "        console.error('Error during call to suggestCharts:', error);\n",
              "      }\n",
              "      quickchartButtonEl.classList.remove('colab-df-spinner');\n",
              "      quickchartButtonEl.classList.add('colab-df-quickchart-complete');\n",
              "    }\n",
              "    (() => {\n",
              "      let quickchartButtonEl =\n",
              "        document.querySelector('#df-f81a5116-1ef3-4254-a49a-af2f8ccf8bfe button');\n",
              "      quickchartButtonEl.style.display =\n",
              "        google.colab.kernel.accessAllowed ? 'block' : 'none';\n",
              "    })();\n",
              "  </script>\n",
              "</div>\n",
              "    </div>\n",
              "  </div>\n"
            ]
          },
          "metadata": {},
          "execution_count": 42
        }
      ]
    },
    {
      "cell_type": "code",
      "source": [
        "plt.style.use('default')\n",
        "a1 = sns.barplot(x=\"label\", y=\"image\", data = temp1)\n",
        "a1.bar_label(a1.containers[0], )\n",
        "\n",
        "plt.title(\"Count of sentiments\")\n",
        "plt.show()"
      ],
      "metadata": {
        "colab": {
          "base_uri": "https://localhost:8080/",
          "height": 472
        },
        "id": "tycXXAWbJrLi",
        "outputId": "7176c917-ee2f-4206-af97-6cda10432a48"
      },
      "execution_count": null,
      "outputs": [
        {
          "output_type": "display_data",
          "data": {
            "text/plain": [
              "<Figure size 640x480 with 1 Axes>"
            ],
            "image/png": "[encoded data removed]"
          },
          "metadata": {}
        }
      ]
    },
    {
      "cell_type": "code",
      "source": [
        "fig1 = go.Figure(go.Funnelarea(text=temp1.label, values=temp1.image, title={\"position\": \"top center\", \"text\": \"Funnel-Chart of Sentiment Distribution\"}))"
      ],
      "metadata": {
        "id": "eamBdL8_oO8o"
      },
      "execution_count": null,
      "outputs": []
    },
    {
      "cell_type": "code",
      "source": [
        "fig1.show(renderer='colab')"
      ],
      "metadata": {
        "colab": {
          "base_uri": "https://localhost:8080/",
          "height": 542
        },
        "id": "bOFdNuT7oU70",
        "outputId": "88f42765-24a1-497d-d3b9-f8e649759d05"
      },
      "execution_count": null,
      "outputs": [
        {
          "output_type": "display_data",
          "data": {
            "text/html": [
              "<html>\n",
              "<head><meta charset=\"utf-8\" /></head>\n",
              "<body>\n",
              "    <div>            <script src=\"https://cdnjs.cloudflare.com/ajax/libs/mathjax/2.7.5/MathJax.js?config=TeX-AMS-MML_SVG\"></script><script type=\"text/javascript\">if (window.MathJax && window.MathJax.Hub && window.MathJax.Hub.Config) {window.MathJax.Hub.Config({SVG: {font: \"STIX-Web\"}});}</script>                <script type=\"text/javascript\">window.PlotlyConfig = {MathJaxConfig: 'local'};</script>\n",
              "        <script charset=\"utf-8\" src=\"https://cdn.plot.ly/plotly-2.24.1.min.js\"></script>                <div id=\"81a36eae-e97d-42cd-af2f-e0dfba05e477\" class=\"plotly-graph-div\" style=\"height:525px; width:100%;\"></div>            <script type=\"text/javascript\">                                    window.PLOTLYENV=window.PLOTLYENV || {};                                    if (document.getElementById(\"81a36eae-e97d-42cd-af2f-e0dfba05e477\")) {                    Plotly.newPlot(                        \"81a36eae-e97d-42cd-af2f-e0dfba05e477\",                        [{\"text\":[\"happy\",\"neutral\",\"sad\",\"fear\",\"angry\",\"surprise\",\"disgust\"],\"title\":{\"position\":\"top center\",\"text\":\"Funnel-Chart of Sentiment Distribution\"},\"values\":[7214,4982,4938,4103,4004,3205,436],\"type\":\"funnelarea\"}],                        {\"template\":{\"data\":{\"histogram2dcontour\":[{\"type\":\"histogram2dcontour\",\"colorbar\":{\"outlinewidth\":0,\"ticks\":\"\"},\"colorscale\":[[0.0,\"#0d0887\"],[0.1111111111111111,\"#46039f\"],[0.2222222222222222,\"#7201a8\"],[0.3333333333333333,\"#9c179e\"],[0.4444444444444444,\"#bd3786\"],[0.5555555555555556,\"#d8576b\"],[0.6666666666666666,\"#ed7953\"],[0.7777777777777778,\"#fb9f3a\"],[0.8888888888888888,\"#fdca26\"],[1.0,\"#f0f921\"]]}],\"choropleth\":[{\"type\":\"choropleth\",\"colorbar\":{\"outlinewidth\":0,\"ticks\":\"\"}}],\"histogram2d\":[{\"type\":\"histogram2d\",\"colorbar\":{\"outlinewidth\":0,\"ticks\":\"\"},\"colorscale\":[[0.0,\"#0d0887\"],[0.1111111111111111,\"#46039f\"],[0.2222222222222222,\"#7201a8\"],[0.3333333333333333,\"#9c179e\"],[0.4444444444444444,\"#bd3786\"],[0.5555555555555556,\"#d8576b\"],[0.6666666666666666,\"#ed7953\"],[0.7777777777777778,\"#fb9f3a\"],[0.8888888888888888,\"#fdca26\"],[1.0,\"#f0f921\"]]}],\"heatmap\":[{\"type\":\"heatmap\",\"colorbar\":{\"outlinewidth\":0,\"ticks\":\"\"},\"colorscale\":[[0.0,\"#0d0887\"],[0.1111111111111111,\"#46039f\"],[0.2222222222222222,\"#7201a8\"],[0.3333333333333333,\"#9c179e\"],[0.4444444444444444,\"#bd3786\"],[0.5555555555555556,\"#d8576b\"],[0.6666666666666666,\"#ed7953\"],[0.7777777777777778,\"#fb9f3a\"],[0.8888888888888888,\"#fdca26\"],[1.0,\"#f0f921\"]]}],\"heatmapgl\":[{\"type\":\"heatmapgl\",\"colorbar\":{\"outlinewidth\":0,\"ticks\":\"\"},\"colorscale\":[[0.0,\"#0d0887\"],[0.1111111111111111,\"#46039f\"],[0.2222222222222222,\"#7201a8\"],[0.3333333333333333,\"#9c179e\"],[0.4444444444444444,\"#bd3786\"],[0.5555555555555556,\"#d8576b\"],[0.6666666666666666,\"#ed7953\"],[0.7777777777777778,\"#fb9f3a\"],[0.8888888888888888,\"#fdca26\"],[1.0,\"#f0f921\"]]}],\"contourcarpet\":[{\"type\":\"contourcarpet\",\"colorbar\":{\"outlinewidth\":0,\"ticks\":\"\"}}],\"contour\":[{\"type\":\"contour\",\"colorbar\":{\"outlinewidth\":0,\"ticks\":\"\"},\"colorscale\":[[0.0,\"#0d0887\"],[0.1111111111111111,\"#46039f\"],[0.2222222222222222,\"#7201a8\"],[0.3333333333333333,\"#9c179e\"],[0.4444444444444444,\"#bd3786\"],[0.5555555555555556,\"#d8576b\"],[0.6666666666666666,\"#ed7953\"],[0.7777777777777778,\"#fb9f3a\"],[0.8888888888888888,\"#fdca26\"],[1.0,\"#f0f921\"]]}],\"surface\":[{\"type\":\"surface\",\"colorbar\":{\"outlinewidth\":0,\"ticks\":\"\"},\"colorscale\":[[0.0,\"#0d0887\"],[0.1111111111111111,\"#46039f\"],[0.2222222222222222,\"#7201a8\"],[0.3333333333333333,\"#9c179e\"],[0.4444444444444444,\"#bd3786\"],[0.5555555555555556,\"#d8576b\"],[0.6666666666666666,\"#ed7953\"],[0.7777777777777778,\"#fb9f3a\"],[0.8888888888888888,\"#fdca26\"],[1.0,\"#f0f921\"]]}],\"mesh3d\":[{\"type\":\"mesh3d\",\"colorbar\":{\"outlinewidth\":0,\"ticks\":\"\"}}],\"scatter\":[{\"fillpattern\":{\"fillmode\":\"overlay\",\"size\":10,\"solidity\":0.2},\"type\":\"scatter\"}],\"parcoords\":[{\"type\":\"parcoords\",\"line\":{\"colorbar\":{\"outlinewidth\":0,\"ticks\":\"\"}}}],\"scatterpolargl\":[{\"type\":\"scatterpolargl\",\"marker\":{\"colorbar\":{\"outlinewidth\":0,\"ticks\":\"\"}}}],\"bar\":[{\"error_x\":{\"color\":\"#2a3f5f\"},\"error_y\":{\"color\":\"#2a3f5f\"},\"marker\":{\"line\":{\"color\":\"#E5ECF6\",\"width\":0.5},\"pattern\":{\"fillmode\":\"overlay\",\"size\":10,\"solidity\":0.2}},\"type\":\"bar\"}],\"scattergeo\":[{\"type\":\"scattergeo\",\"marker\":{\"colorbar\":{\"outlinewidth\":0,\"ticks\":\"\"}}}],\"scatterpolar\":[{\"type\":\"scatterpolar\",\"marker\":{\"colorbar\":{\"outlinewidth\":0,\"ticks\":\"\"}}}],\"histogram\":[{\"marker\":{\"pattern\":{\"fillmode\":\"overlay\",\"size\":10,\"solidity\":0.2}},\"type\":\"histogram\"}],\"scattergl\":[{\"type\":\"scattergl\",\"marker\":{\"colorbar\":{\"outlinewidth\":0,\"ticks\":\"\"}}}],\"scatter3d\":[{\"type\":\"scatter3d\",\"line\":{\"colorbar\":{\"outlinewidth\":0,\"ticks\":\"\"}},\"marker\":{\"colorbar\":{\"outlinewidth\":0,\"ticks\":\"\"}}}],\"scattermapbox\":[{\"type\":\"scattermapbox\",\"marker\":{\"colorbar\":{\"outlinewidth\":0,\"ticks\":\"\"}}}],\"scatterternary\":[{\"type\":\"scatterternary\",\"marker\":{\"colorbar\":{\"outlinewidth\":0,\"ticks\":\"\"}}}],\"scattercarpet\":[{\"type\":\"scattercarpet\",\"marker\":{\"colorbar\":{\"outlinewidth\":0,\"ticks\":\"\"}}}],\"carpet\":[{\"aaxis\":{\"endlinecolor\":\"#2a3f5f\",\"gridcolor\":\"white\",\"linecolor\":\"white\",\"minorgridcolor\":\"white\",\"startlinecolor\":\"#2a3f5f\"},\"baxis\":{\"endlinecolor\":\"#2a3f5f\",\"gridcolor\":\"white\",\"linecolor\":\"white\",\"minorgridcolor\":\"white\",\"startlinecolor\":\"#2a3f5f\"},\"type\":\"carpet\"}],\"table\":[{\"cells\":{\"fill\":{\"color\":\"#EBF0F8\"},\"line\":{\"color\":\"white\"}},\"header\":{\"fill\":{\"color\":\"#C8D4E3\"},\"line\":{\"color\":\"white\"}},\"type\":\"table\"}],\"barpolar\":[{\"marker\":{\"line\":{\"color\":\"#E5ECF6\",\"width\":0.5},\"pattern\":{\"fillmode\":\"overlay\",\"size\":10,\"solidity\":0.2}},\"type\":\"barpolar\"}],\"pie\":[{\"automargin\":true,\"type\":\"pie\"}]},\"layout\":{\"autotypenumbers\":\"strict\",\"colorway\":[\"#636efa\",\"#EF553B\",\"#00cc96\",\"#ab63fa\",\"#FFA15A\",\"#19d3f3\",\"#FF6692\",\"#B6E880\",\"#FF97FF\",\"#FECB52\"],\"font\":{\"color\":\"#2a3f5f\"},\"hovermode\":\"closest\",\"hoverlabel\":{\"align\":\"left\"},\"paper_bgcolor\":\"white\",\"plot_bgcolor\":\"#E5ECF6\",\"polar\":{\"bgcolor\":\"#E5ECF6\",\"angularaxis\":{\"gridcolor\":\"white\",\"linecolor\":\"white\",\"ticks\":\"\"},\"radialaxis\":{\"gridcolor\":\"white\",\"linecolor\":\"white\",\"ticks\":\"\"}},\"ternary\":{\"bgcolor\":\"#E5ECF6\",\"aaxis\":{\"gridcolor\":\"white\",\"linecolor\":\"white\",\"ticks\":\"\"},\"baxis\":{\"gridcolor\":\"white\",\"linecolor\":\"white\",\"ticks\":\"\"},\"caxis\":{\"gridcolor\":\"white\",\"linecolor\":\"white\",\"ticks\":\"\"}},\"coloraxis\":{\"colorbar\":{\"outlinewidth\":0,\"ticks\":\"\"}},\"colorscale\":{\"sequential\":[[0.0,\"#0d0887\"],[0.1111111111111111,\"#46039f\"],[0.2222222222222222,\"#7201a8\"],[0.3333333333333333,\"#9c179e\"],[0.4444444444444444,\"#bd3786\"],[0.5555555555555556,\"#d8576b\"],[0.6666666666666666,\"#ed7953\"],[0.7777777777777778,\"#fb9f3a\"],[0.8888888888888888,\"#fdca26\"],[1.0,\"#f0f921\"]],\"sequentialminus\":[[0.0,\"#0d0887\"],[0.1111111111111111,\"#46039f\"],[0.2222222222222222,\"#7201a8\"],[0.3333333333333333,\"#9c179e\"],[0.4444444444444444,\"#bd3786\"],[0.5555555555555556,\"#d8576b\"],[0.6666666666666666,\"#ed7953\"],[0.7777777777777778,\"#fb9f3a\"],[0.8888888888888888,\"#fdca26\"],[1.0,\"#f0f921\"]],\"diverging\":[[0,\"#8e0152\"],[0.1,\"#c51b7d\"],[0.2,\"#de77ae\"],[0.3,\"#f1b6da\"],[0.4,\"#fde0ef\"],[0.5,\"#f7f7f7\"],[0.6,\"#e6f5d0\"],[0.7,\"#b8e186\"],[0.8,\"#7fbc41\"],[0.9,\"#4d9221\"],[1,\"#276419\"]]},\"xaxis\":{\"gridcolor\":\"white\",\"linecolor\":\"white\",\"ticks\":\"\",\"title\":{\"standoff\":15},\"zerolinecolor\":\"white\",\"automargin\":true,\"zerolinewidth\":2},\"yaxis\":{\"gridcolor\":\"white\",\"linecolor\":\"white\",\"ticks\":\"\",\"title\":{\"standoff\":15},\"zerolinecolor\":\"white\",\"automargin\":true,\"zerolinewidth\":2},\"scene\":{\"xaxis\":{\"backgroundcolor\":\"#E5ECF6\",\"gridcolor\":\"white\",\"linecolor\":\"white\",\"showbackground\":true,\"ticks\":\"\",\"zerolinecolor\":\"white\",\"gridwidth\":2},\"yaxis\":{\"backgroundcolor\":\"#E5ECF6\",\"gridcolor\":\"white\",\"linecolor\":\"white\",\"showbackground\":true,\"ticks\":\"\",\"zerolinecolor\":\"white\",\"gridwidth\":2},\"zaxis\":{\"backgroundcolor\":\"#E5ECF6\",\"gridcolor\":\"white\",\"linecolor\":\"white\",\"showbackground\":true,\"ticks\":\"\",\"zerolinecolor\":\"white\",\"gridwidth\":2}},\"shapedefaults\":{\"line\":{\"color\":\"#2a3f5f\"}},\"annotationdefaults\":{\"arrowcolor\":\"#2a3f5f\",\"arrowhead\":0,\"arrowwidth\":1},\"geo\":{\"bgcolor\":\"white\",\"landcolor\":\"#E5ECF6\",\"subunitcolor\":\"white\",\"showland\":true,\"showlakes\":true,\"lakecolor\":\"white\"},\"title\":{\"x\":0.05},\"mapbox\":{\"style\":\"light\"}}}},                        {\"responsive\": true}                    ).then(function(){\n",
              "                            \n",
              "var gd = document.getElementById('81a36eae-e97d-42cd-af2f-e0dfba05e477');\n",
              "var x = new MutationObserver(function (mutations, observer) {{\n",
              "        var display = window.getComputedStyle(gd).display;\n",
              "        if (!display || display === 'none') {{\n",
              "            console.log([gd, 'removed!']);\n",
              "            Plotly.purge(gd);\n",
              "            observer.disconnect();\n",
              "        }}\n",
              "}});\n",
              "\n",
              "// Listen for the removal of the full notebook cells\n",
              "var notebookContainer = gd.closest('#notebook-container');\n",
              "if (notebookContainer) {{\n",
              "    x.observe(notebookContainer, {childList: true});\n",
              "}}\n",
              "\n",
              "// Listen for the clearing of the current output cell\n",
              "var outputEl = gd.closest('.output');\n",
              "if (outputEl) {{\n",
              "    x.observe(outputEl, {childList: true});\n",
              "}}\n",
              "\n",
              "                        })                };                            </script>        </div>\n",
              "</body>\n",
              "</html>"
            ]
          },
          "metadata": {}
        }
      ]
    },
    {
      "cell_type": "code",
      "source": [
        "from PIL import Image"
      ],
      "metadata": {
        "id": "CKtLg2RnN5SS"
      },
      "execution_count": null,
      "outputs": []
    },
    {
      "cell_type": "code",
      "source": [
        "import pandas as pd\n",
        "from PIL import Image\n",
        "import matplotlib.pyplot as plt\n",
        "\n",
        "def display_highest_emotion_images(df, emotion_column, image_column, num_images=5):\n",
        "    # Sort the DataFrame by emotion scores in descending order\n",
        "    sorted_df = df.sort_values(by=emotion_column, ascending=False)\n",
        "\n",
        "    # Use a set to keep track of unique emotion scores\n",
        "    unique_emotions = set()\n",
        "\n",
        "    # Display the selected images, skipping duplicates\n",
        "    displayed_images = 0\n",
        "    for index, row in sorted_df.iterrows():\n",
        "        if displayed_images >= num_images:\n",
        "            break  # Stop when the desired number of images is displayed\n",
        "        emotion_score = row[emotion_column]\n",
        "\n",
        "        # Skip duplicates\n",
        "        if emotion_score in unique_emotions:\n",
        "            continue\n",
        "\n",
        "        image_path = row[image_column]\n",
        "\n",
        "        # Open and display the image\n",
        "        image = Image.open(image_path)\n",
        "        plt.imshow(image)\n",
        "        plt.title(f'Emotion: {emotion_score}')\n",
        "        plt.axis('off')\n",
        "        plt.show()\n",
        "\n",
        "        unique_emotions.add(emotion_score)\n",
        "        displayed_images += 1\n",
        "\n",
        "# Example usage:\n",
        "# Assuming your DataFrame is 'train' with columns 'label' for emotion and 'image' for image paths\n",
        "display_highest_emotion_images(train, 'label', 'image', num_images=5)\n",
        "\n",
        "\n"
      ],
      "metadata": {
        "colab": {
          "base_uri": "https://localhost:8080/",
          "height": 1000
        },
        "id": "xFJKbRe0i_yT",
        "outputId": "2e78af84-5ebb-499e-f364-89b0290f57e8"
      },
      "execution_count": null,
      "outputs": [
        {
          "output_type": "display_data",
          "data": {
            "text/plain": [
              "<Figure size 640x480 with 1 Axes>"
            ],
            "image/png": "[encoded data removed]"
          },
          "metadata": {}
        },
        {
          "output_type": "display_data",
          "data": {
            "text/plain": [
              "<Figure size 640x480 with 1 Axes>"
            ],
            "image/png": "[encoded data removed]"
          },
          "metadata": {}
        },
        {
          "output_type": "display_data",
          "data": {
            "text/plain": [
              "<Figure size 640x480 with 1 Axes>"
            ],
            "image/png": "[encoded data removed]"
          },
          "metadata": {}
        },
        {
          "output_type": "display_data",
          "data": {
            "text/plain": [
              "<Figure size 640x480 with 1 Axes>"
            ],
            "image/png": "[encoded data removed]"
          },
          "metadata": {}
        },
        {
          "output_type": "display_data",
          "data": {
            "text/plain": [
              "<Figure size 640x480 with 1 Axes>"
            ],
            "image/png": "[encoded data removed]"
          },
          "metadata": {}
        }
      ]
    }
  ],
  "metadata": {
    "colab": {
      "provenance": [],
      "gpuType": "T4"
    },
    "kernelspec": {
      "display_name": "Python 3",
      "name": "python3"
    },
    "language_info": {
      "name": "python"
    },
    "widgets": {
      "application/vnd.jupyter.widget-state+json": {
        "c8ed1b0f04464f3c960fede2f6c5ff67": {
          "model_module": "@jupyter-widgets/controls",
          "model_name": "HBoxModel",
          "model_module_version": "1.5.0",
          "state": {
            "_dom_classes": [],
            "_model_module": "@jupyter-widgets/controls",
            "_model_module_version": "1.5.0",
            "_model_name": "HBoxModel",
            "_view_count": null,
            "_view_module": "@jupyter-widgets/controls",
            "_view_module_version": "1.5.0",
            "_view_name": "HBoxView",
            "box_style": "",
            "children": [
              "IPY_MODEL_6fec17e88b014f8bb604ca56ae8f2731",
              "IPY_MODEL_d0b7b88a98944d71a8ec9e2cc179d58f",
              "IPY_MODEL_20217aad2bfe44d8a488842fffbfd25c"
            ],
            "layout": "IPY_MODEL_cb7f4c07822a401fbe7b7941c022f5c9"
          }
        },
        "6fec17e88b014f8bb604ca56ae8f2731": {
          "model_module": "@jupyter-widgets/controls",
          "model_name": "HTMLModel",
          "model_module_version": "1.5.0",
          "state": {
            "_dom_classes": [],
            "_model_module": "@jupyter-widgets/controls",
            "_model_module_version": "1.5.0",
            "_model_name": "HTMLModel",
            "_view_count": null,
            "_view_module": "@jupyter-widgets/controls",
            "_view_module_version": "1.5.0",
            "_view_name": "HTMLView",
            "description": "",
            "description_tooltip": null,
            "layout": "IPY_MODEL_19a480df14ff4bdf9b731ddbe7153654",
            "placeholder": "​",
            "style": "IPY_MODEL_694d996c9fc14163ab3c5b103d17eae6",
            "value": "100%"
          }
        },
        "d0b7b88a98944d71a8ec9e2cc179d58f": {
          "model_module": "@jupyter-widgets/controls",
          "model_name": "FloatProgressModel",
          "model_module_version": "1.5.0",
          "state": {
            "_dom_classes": [],
            "_model_module": "@jupyter-widgets/controls",
            "_model_module_version": "1.5.0",
            "_model_name": "FloatProgressModel",
            "_view_count": null,
            "_view_module": "@jupyter-widgets/controls",
            "_view_module_version": "1.5.0",
            "_view_name": "ProgressView",
            "bar_style": "success",
            "description": "",
            "description_tooltip": null,
            "layout": "IPY_MODEL_0475e20b9a014f11ae286638570ecdc1",
            "max": 28882,
            "min": 0,
            "orientation": "horizontal",
            "style": "IPY_MODEL_9572d553ca8a46aaa0b82aa9caa6b85b",
            "value": 28882
          }
        },
        "20217aad2bfe44d8a488842fffbfd25c": {
          "model_module": "@jupyter-widgets/controls",
          "model_name": "HTMLModel",
          "model_module_version": "1.5.0",
          "state": {
            "_dom_classes": [],
            "_model_module": "@jupyter-widgets/controls",
            "_model_module_version": "1.5.0",
            "_model_name": "HTMLModel",
            "_view_count": null,
            "_view_module": "@jupyter-widgets/controls",
            "_view_module_version": "1.5.0",
            "_view_name": "HTMLView",
            "description": "",
            "description_tooltip": null,
            "layout": "IPY_MODEL_0626170b6d274f91869e9fa1b5d22201",
            "placeholder": "​",
            "style": "IPY_MODEL_b1c705fa55ab4b4a833c14ff0558120d",
            "value": " 28882/28882 [1:20:24&lt;00:00,  5.21it/s]"
          }
        },
        "cb7f4c07822a401fbe7b7941c022f5c9": {
          "model_module": "@jupyter-widgets/base",
          "model_name": "LayoutModel",
          "model_module_version": "1.2.0",
          "state": {
            "_model_module": "@jupyter-widgets/base",
            "_model_module_version": "1.2.0",
            "_model_name": "LayoutModel",
            "_view_count": null,
            "_view_module": "@jupyter-widgets/base",
            "_view_module_version": "1.2.0",
            "_view_name": "LayoutView",
            "align_content": null,
            "align_items": null,
            "align_self": null,
            "border": null,
            "bottom": null,
            "display": null,
            "flex": null,
            "flex_flow": null,
            "grid_area": null,
            "grid_auto_columns": null,
            "grid_auto_flow": null,
            "grid_auto_rows": null,
            "grid_column": null,
            "grid_gap": null,
            "grid_row": null,
            "grid_template_areas": null,
            "grid_template_columns": null,
            "grid_template_rows": null,
            "height": null,
            "justify_content": null,
            "justify_items": null,
            "left": null,
            "margin": null,
            "max_height": null,
            "max_width": null,
            "min_height": null,
            "min_width": null,
            "object_fit": null,
            "object_position": null,
            "order": null,
            "overflow": null,
            "overflow_x": null,
            "overflow_y": null,
            "padding": null,
            "right": null,
            "top": null,
            "visibility": null,
            "width": null
          }
        },
        "19a480df14ff4bdf9b731ddbe7153654": {
          "model_module": "@jupyter-widgets/base",
          "model_name": "LayoutModel",
          "model_module_version": "1.2.0",
          "state": {
            "_model_module": "@jupyter-widgets/base",
            "_model_module_version": "1.2.0",
            "_model_name": "LayoutModel",
            "_view_count": null,
            "_view_module": "@jupyter-widgets/base",
            "_view_module_version": "1.2.0",
            "_view_name": "LayoutView",
            "align_content": null,
            "align_items": null,
            "align_self": null,
            "border": null,
            "bottom": null,
            "display": null,
            "flex": null,
            "flex_flow": null,
            "grid_area": null,
            "grid_auto_columns": null,
            "grid_auto_flow": null,
            "grid_auto_rows": null,
            "grid_column": null,
            "grid_gap": null,
            "grid_row": null,
            "grid_template_areas": null,
            "grid_template_columns": null,
            "grid_template_rows": null,
            "height": null,
            "justify_content": null,
            "justify_items": null,
            "left": null,
            "margin": null,
            "max_height": null,
            "max_width": null,
            "min_height": null,
            "min_width": null,
            "object_fit": null,
            "object_position": null,
            "order": null,
            "overflow": null,
            "overflow_x": null,
            "overflow_y": null,
            "padding": null,
            "right": null,
            "top": null,
            "visibility": null,
            "width": null
          }
        },
        "694d996c9fc14163ab3c5b103d17eae6": {
          "model_module": "@jupyter-widgets/controls",
          "model_name": "DescriptionStyleModel",
          "model_module_version": "1.5.0",
          "state": {
            "_model_module": "@jupyter-widgets/controls",
            "_model_module_version": "1.5.0",
            "_model_name": "DescriptionStyleModel",
            "_view_count": null,
            "_view_module": "@jupyter-widgets/base",
            "_view_module_version": "1.2.0",
            "_view_name": "StyleView",
            "description_width": ""
          }
        },
        "0475e20b9a014f11ae286638570ecdc1": {
          "model_module": "@jupyter-widgets/base",
          "model_name": "LayoutModel",
          "model_module_version": "1.2.0",
          "state": {
            "_model_module": "@jupyter-widgets/base",
            "_model_module_version": "1.2.0",
            "_model_name": "LayoutModel",
            "_view_count": null,
            "_view_module": "@jupyter-widgets/base",
            "_view_module_version": "1.2.0",
            "_view_name": "LayoutView",
            "align_content": null,
            "align_items": null,
            "align_self": null,
            "border": null,
            "bottom": null,
            "display": null,
            "flex": null,
            "flex_flow": null,
            "grid_area": null,
            "grid_auto_columns": null,
            "grid_auto_flow": null,
            "grid_auto_rows": null,
            "grid_column": null,
            "grid_gap": null,
            "grid_row": null,
            "grid_template_areas": null,
            "grid_template_columns": null,
            "grid_template_rows": null,
            "height": null,
            "justify_content": null,
            "justify_items": null,
            "left": null,
            "margin": null,
            "max_height": null,
            "max_width": null,
            "min_height": null,
            "min_width": null,
            "object_fit": null,
            "object_position": null,
            "order": null,
            "overflow": null,
            "overflow_x": null,
            "overflow_y": null,
            "padding": null,
            "right": null,
            "top": null,
            "visibility": null,
            "width": null
          }
        },
        "9572d553ca8a46aaa0b82aa9caa6b85b": {
          "model_module": "@jupyter-widgets/controls",
          "model_name": "ProgressStyleModel",
          "model_module_version": "1.5.0",
          "state": {
            "_model_module": "@jupyter-widgets/controls",
            "_model_module_version": "1.5.0",
            "_model_name": "ProgressStyleModel",
            "_view_count": null,
            "_view_module": "@jupyter-widgets/base",
            "_view_module_version": "1.2.0",
            "_view_name": "StyleView",
            "bar_color": null,
            "description_width": ""
          }
        },
        "0626170b6d274f91869e9fa1b5d22201": {
          "model_module": "@jupyter-widgets/base",
          "model_name": "LayoutModel",
          "model_module_version": "1.2.0",
          "state": {
            "_model_module": "@jupyter-widgets/base",
            "_model_module_version": "1.2.0",
            "_model_name": "LayoutModel",
            "_view_count": null,
            "_view_module": "@jupyter-widgets/base",
            "_view_module_version": "1.2.0",
            "_view_name": "LayoutView",
            "align_content": null,
            "align_items": null,
            "align_self": null,
            "border": null,
            "bottom": null,
            "display": null,
            "flex": null,
            "flex_flow": null,
            "grid_area": null,
            "grid_auto_columns": null,
            "grid_auto_flow": null,
            "grid_auto_rows": null,
            "grid_column": null,
            "grid_gap": null,
            "grid_row": null,
            "grid_template_areas": null,
            "grid_template_columns": null,
            "grid_template_rows": null,
            "height": null,
            "justify_content": null,
            "justify_items": null,
            "left": null,
            "margin": null,
            "max_height": null,
            "max_width": null,
            "min_height": null,
            "min_width": null,
            "object_fit": null,
            "object_position": null,
            "order": null,
            "overflow": null,
            "overflow_x": null,
            "overflow_y": null,
            "padding": null,
            "right": null,
            "top": null,
            "visibility": null,
            "width": null
          }
        },
        "b1c705fa55ab4b4a833c14ff0558120d": {
          "model_module": "@jupyter-widgets/controls",
          "model_name": "DescriptionStyleModel",
          "model_module_version": "1.5.0",
          "state": {
            "_model_module": "@jupyter-widgets/controls",
            "_model_module_version": "1.5.0",
            "_model_name": "DescriptionStyleModel",
            "_view_count": null,
            "_view_module": "@jupyter-widgets/base",
            "_view_module_version": "1.2.0",
            "_view_name": "StyleView",
            "description_width": ""
          }
        },
        "b82fad2819db48dfb8f41faba2a8d93e": {
          "model_module": "@jupyter-widgets/controls",
          "model_name": "HBoxModel",
          "model_module_version": "1.5.0",
          "state": {
            "_dom_classes": [],
            "_model_module": "@jupyter-widgets/controls",
            "_model_module_version": "1.5.0",
            "_model_name": "HBoxModel",
            "_view_count": null,
            "_view_module": "@jupyter-widgets/controls",
            "_view_module_version": "1.5.0",
            "_view_name": "HBoxView",
            "box_style": "",
            "children": [
              "IPY_MODEL_0af80db2144d48ec81702275d715279b",
              "IPY_MODEL_b5dc82ad359c434a8e63465204cc764e",
              "IPY_MODEL_72f80aa3a6324ac4b9f502e77e441c3c"
            ],
            "layout": "IPY_MODEL_43fa7ce9e02f485297b70c0a337272e5"
          }
        },
        "0af80db2144d48ec81702275d715279b": {
          "model_module": "@jupyter-widgets/controls",
          "model_name": "HTMLModel",
          "model_module_version": "1.5.0",
          "state": {
            "_dom_classes": [],
            "_model_module": "@jupyter-widgets/controls",
            "_model_module_version": "1.5.0",
            "_model_name": "HTMLModel",
            "_view_count": null,
            "_view_module": "@jupyter-widgets/controls",
            "_view_module_version": "1.5.0",
            "_view_name": "HTMLView",
            "description": "",
            "description_tooltip": null,
            "layout": "IPY_MODEL_73756881d4e24a84bc71dea143737689",
            "placeholder": "​",
            "style": "IPY_MODEL_7a0cc1bd56464cd0bf05e9ba8ad58e3f",
            "value": "100%"
          }
        },
        "b5dc82ad359c434a8e63465204cc764e": {
          "model_module": "@jupyter-widgets/controls",
          "model_name": "FloatProgressModel",
          "model_module_version": "1.5.0",
          "state": {
            "_dom_classes": [],
            "_model_module": "@jupyter-widgets/controls",
            "_model_module_version": "1.5.0",
            "_model_name": "FloatProgressModel",
            "_view_count": null,
            "_view_module": "@jupyter-widgets/controls",
            "_view_module_version": "1.5.0",
            "_view_name": "ProgressView",
            "bar_style": "success",
            "description": "",
            "description_tooltip": null,
            "layout": "IPY_MODEL_4b87974a8e7049a4865fba8890146cec",
            "max": 7066,
            "min": 0,
            "orientation": "horizontal",
            "style": "IPY_MODEL_3786cdc7535b41098999cf97db5380fb",
            "value": 7066
          }
        },
        "72f80aa3a6324ac4b9f502e77e441c3c": {
          "model_module": "@jupyter-widgets/controls",
          "model_name": "HTMLModel",
          "model_module_version": "1.5.0",
          "state": {
            "_dom_classes": [],
            "_model_module": "@jupyter-widgets/controls",
            "_model_module_version": "1.5.0",
            "_model_name": "HTMLModel",
            "_view_count": null,
            "_view_module": "@jupyter-widgets/controls",
            "_view_module_version": "1.5.0",
            "_view_name": "HTMLView",
            "description": "",
            "description_tooltip": null,
            "layout": "IPY_MODEL_c8c677fe97f94bf8ba058560dd24387c",
            "placeholder": "​",
            "style": "IPY_MODEL_3d46a11d44a54f9882b6b0f0c9a6864b",
            "value": " 7066/7066 [22:18&lt;00:00,  6.15it/s]"
          }
        },
        "43fa7ce9e02f485297b70c0a337272e5": {
          "model_module": "@jupyter-widgets/base",
          "model_name": "LayoutModel",
          "model_module_version": "1.2.0",
          "state": {
            "_model_module": "@jupyter-widgets/base",
            "_model_module_version": "1.2.0",
            "_model_name": "LayoutModel",
            "_view_count": null,
            "_view_module": "@jupyter-widgets/base",
            "_view_module_version": "1.2.0",
            "_view_name": "LayoutView",
            "align_content": null,
            "align_items": null,
            "align_self": null,
            "border": null,
            "bottom": null,
            "display": null,
            "flex": null,
            "flex_flow": null,
            "grid_area": null,
            "grid_auto_columns": null,
            "grid_auto_flow": null,
            "grid_auto_rows": null,
            "grid_column": null,
            "grid_gap": null,
            "grid_row": null,
            "grid_template_areas": null,
            "grid_template_columns": null,
            "grid_template_rows": null,
            "height": null,
            "justify_content": null,
            "justify_items": null,
            "left": null,
            "margin": null,
            "max_height": null,
            "max_width": null,
            "min_height": null,
            "min_width": null,
            "object_fit": null,
            "object_position": null,
            "order": null,
            "overflow": null,
            "overflow_x": null,
            "overflow_y": null,
            "padding": null,
            "right": null,
            "top": null,
            "visibility": null,
            "width": null
          }
        },
        "73756881d4e24a84bc71dea143737689": {
          "model_module": "@jupyter-widgets/base",
          "model_name": "LayoutModel",
          "model_module_version": "1.2.0",
          "state": {
            "_model_module": "@jupyter-widgets/base",
            "_model_module_version": "1.2.0",
            "_model_name": "LayoutModel",
            "_view_count": null,
            "_view_module": "@jupyter-widgets/base",
            "_view_module_version": "1.2.0",
            "_view_name": "LayoutView",
            "align_content": null,
            "align_items": null,
            "align_self": null,
            "border": null,
            "bottom": null,
            "display": null,
            "flex": null,
            "flex_flow": null,
            "grid_area": null,
            "grid_auto_columns": null,
            "grid_auto_flow": null,
            "grid_auto_rows": null,
            "grid_column": null,
            "grid_gap": null,
            "grid_row": null,
            "grid_template_areas": null,
            "grid_template_columns": null,
            "grid_template_rows": null,
            "height": null,
            "justify_content": null,
            "justify_items": null,
            "left": null,
            "margin": null,
            "max_height": null,
            "max_width": null,
            "min_height": null,
            "min_width": null,
            "object_fit": null,
            "object_position": null,
            "order": null,
            "overflow": null,
            "overflow_x": null,
            "overflow_y": null,
            "padding": null,
            "right": null,
            "top": null,
            "visibility": null,
            "width": null
          }
        },
        "7a0cc1bd56464cd0bf05e9ba8ad58e3f": {
          "model_module": "@jupyter-widgets/controls",
          "model_name": "DescriptionStyleModel",
          "model_module_version": "1.5.0",
          "state": {
            "_model_module": "@jupyter-widgets/controls",
            "_model_module_version": "1.5.0",
            "_model_name": "DescriptionStyleModel",
            "_view_count": null,
            "_view_module": "@jupyter-widgets/base",
            "_view_module_version": "1.2.0",
            "_view_name": "StyleView",
            "description_width": ""
          }
        },
        "4b87974a8e7049a4865fba8890146cec": {
          "model_module": "@jupyter-widgets/base",
          "model_name": "LayoutModel",
          "model_module_version": "1.2.0",
          "state": {
            "_model_module": "@jupyter-widgets/base",
            "_model_module_version": "1.2.0",
            "_model_name": "LayoutModel",
            "_view_count": null,
            "_view_module": "@jupyter-widgets/base",
            "_view_module_version": "1.2.0",
            "_view_name": "LayoutView",
            "align_content": null,
            "align_items": null,
            "align_self": null,
            "border": null,
            "bottom": null,
            "display": null,
            "flex": null,
            "flex_flow": null,
            "grid_area": null,
            "grid_auto_columns": null,
            "grid_auto_flow": null,
            "grid_auto_rows": null,
            "grid_column": null,
            "grid_gap": null,
            "grid_row": null,
            "grid_template_areas": null,
            "grid_template_columns": null,
            "grid_template_rows": null,
            "height": null,
            "justify_content": null,
            "justify_items": null,
            "left": null,
            "margin": null,
            "max_height": null,
            "max_width": null,
            "min_height": null,
            "min_width": null,
            "object_fit": null,
            "object_position": null,
            "order": null,
            "overflow": null,
            "overflow_x": null,
            "overflow_y": null,
            "padding": null,
            "right": null,
            "top": null,
            "visibility": null,
            "width": null
          }
        },
        "3786cdc7535b41098999cf97db5380fb": {
          "model_module": "@jupyter-widgets/controls",
          "model_name": "ProgressStyleModel",
          "model_module_version": "1.5.0",
          "state": {
            "_model_module": "@jupyter-widgets/controls",
            "_model_module_version": "1.5.0",
            "_model_name": "ProgressStyleModel",
            "_view_count": null,
            "_view_module": "@jupyter-widgets/base",
            "_view_module_version": "1.2.0",
            "_view_name": "StyleView",
            "bar_color": null,
            "description_width": ""
          }
        },
        "c8c677fe97f94bf8ba058560dd24387c": {
          "model_module": "@jupyter-widgets/base",
          "model_name": "LayoutModel",
          "model_module_version": "1.2.0",
          "state": {
            "_model_module": "@jupyter-widgets/base",
            "_model_module_version": "1.2.0",
            "_model_name": "LayoutModel",
            "_view_count": null,
            "_view_module": "@jupyter-widgets/base",
            "_view_module_version": "1.2.0",
            "_view_name": "LayoutView",
            "align_content": null,
            "align_items": null,
            "align_self": null,
            "border": null,
            "bottom": null,
            "display": null,
            "flex": null,
            "flex_flow": null,
            "grid_area": null,
            "grid_auto_columns": null,
            "grid_auto_flow": null,
            "grid_auto_rows": null,
            "grid_column": null,
            "grid_gap": null,
            "grid_row": null,
            "grid_template_areas": null,
            "grid_template_columns": null,
            "grid_template_rows": null,
            "height": null,
            "justify_content": null,
            "justify_items": null,
            "left": null,
            "margin": null,
            "max_height": null,
            "max_width": null,
            "min_height": null,
            "min_width": null,
            "object_fit": null,
            "object_position": null,
            "order": null,
            "overflow": null,
            "overflow_x": null,
            "overflow_y": null,
            "padding": null,
            "right": null,
            "top": null,
            "visibility": null,
            "width": null
          }
        },
        "3d46a11d44a54f9882b6b0f0c9a6864b": {
          "model_module": "@jupyter-widgets/controls",
          "model_name": "DescriptionStyleModel",
          "model_module_version": "1.5.0",
          "state": {
            "_model_module": "@jupyter-widgets/controls",
            "_model_module_version": "1.5.0",
            "_model_name": "DescriptionStyleModel",
            "_view_count": null,
            "_view_module": "@jupyter-widgets/base",
            "_view_module_version": "1.2.0",
            "_view_name": "StyleView",
            "description_width": ""
          }
        }
      }
    },
    "accelerator": "GPU"
  },
  "nbformat": 4,
  "nbformat_minor": 0
}