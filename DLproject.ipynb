{
  "cells": [
    {
      "cell_type": "code",
      "execution_count": 1,
      "metadata": {
        "id": "4-T41k33rBMb"
      },
      "outputs": [],
      "source": [
        "from keras.utils import to_categorical\n",
        "from keras.preprocessing.image import load_img\n",
        "from keras.models import Sequential\n",
        "from keras.layers import Dense, Conv2D, Dropout, Flatten, MaxPooling2D\n",
        "import os\n",
        "import pandas as pd\n",
        "import numpy as np"
      ]
    },
    {
      "cell_type": "code",
      "execution_count": 2,
      "metadata": {
        "id": "N0XTOuF5y2zl"
      },
      "outputs": [],
      "source": [
        "TRAIN_DIR = '/content/drive/MyDrive/Dlpro/train'\n",
        "TEST_DIR = '/content/drive/MyDrive/Dlpro/validation'"
      ]
    },
    {
      "cell_type": "code",
      "execution_count": 3,
      "metadata": {
        "id": "tX-AB0GS7A9l"
      },
      "outputs": [],
      "source": [
        "def createdataframe(dir):\n",
        "    image_paths = []\n",
        "    labels = []\n",
        "    for label in os.listdir(dir):\n",
        "        for imagename in os.listdir(os.path.join(dir,label)):\n",
        "            image_paths.append(os.path.join(dir,label,imagename))\n",
        "            labels.append(label)\n",
        "        print(label, \"completed\")\n",
        "    return image_paths,labels"
      ]
    },
    {
      "cell_type": "code",
      "execution_count": 4,
      "metadata": {
        "colab": {
          "base_uri": "https://localhost:8080/"
        },
        "id": "VvuJYPqP7EE3",
        "outputId": "20f3286e-8a1b-43de-d065-101a5007275a"
      },
      "outputs": [
        {
          "output_type": "stream",
          "name": "stdout",
          "text": [
            "disgust completed\n",
            "happy completed\n",
            "angry completed\n",
            "sad completed\n",
            "surprise completed\n",
            "fear completed\n",
            "neutral completed\n"
          ]
        }
      ],
      "source": [
        "train = pd.DataFrame()\n",
        "train['image'], train['label'] = createdataframe(TRAIN_DIR)"
      ]
    },
    {
      "cell_type": "code",
      "execution_count": 5,
      "metadata": {
        "colab": {
          "base_uri": "https://localhost:8080/"
        },
        "id": "OGycJPV07Idh",
        "outputId": "5ec92daf-c2d4-41cc-b283-d729d37d6841"
      },
      "outputs": [
        {
          "output_type": "stream",
          "name": "stdout",
          "text": [
            "                                                  image     label\n",
            "0      /content/drive/MyDrive/Dlpro/train/sad/11945.jpg       sad\n",
            "1      /content/drive/MyDrive/Dlpro/train/sad/12083.jpg       sad\n",
            "2      /content/drive/MyDrive/Dlpro/train/sad/11996.jpg       sad\n",
            "3      /content/drive/MyDrive/Dlpro/train/sad/12057.jpg       sad\n",
            "4      /content/drive/MyDrive/Dlpro/train/sad/12006.jpg       sad\n",
            "...                                                 ...       ...\n",
            "4522  /content/drive/MyDrive/Dlpro/train/surprise/12...  surprise\n",
            "4523  /content/drive/MyDrive/Dlpro/train/surprise/12...  surprise\n",
            "4524  /content/drive/MyDrive/Dlpro/train/surprise/12...  surprise\n",
            "4525  /content/drive/MyDrive/Dlpro/train/surprise/12...  surprise\n",
            "4526  /content/drive/MyDrive/Dlpro/train/surprise/12...  surprise\n",
            "\n",
            "[4527 rows x 2 columns]\n"
          ]
        }
      ],
      "source": [
        "print(train)"
      ]
    },
    {
      "cell_type": "code",
      "execution_count": 6,
      "metadata": {
        "colab": {
          "base_uri": "https://localhost:8080/"
        },
        "id": "sBaNLwwy7I2M",
        "outputId": "21a7a35f-ad5f-42c9-e67c-65ddc95bc6d6"
      },
      "outputs": [
        {
          "output_type": "stream",
          "name": "stdout",
          "text": [
            "surprise completed\n",
            "sad completed\n",
            "neutral completed\n",
            "angry completed\n",
            "happy completed\n",
            "fear completed\n",
            "disgust completed\n"
          ]
        }
      ],
      "source": [
        "test = pd.DataFrame()\n",
        "test['image'], test['label'] = createdataframe(TEST_DIR)"
      ]
    },
    {
      "cell_type": "code",
      "execution_count": 7,
      "metadata": {
        "colab": {
          "base_uri": "https://localhost:8080/"
        },
        "id": "7FbfJMtX7MLE",
        "outputId": "b43bd004-06e6-4ddf-ab46-b7e9ea437b3f"
      },
      "outputs": [
        {
          "output_type": "stream",
          "name": "stdout",
          "text": [
            "Empty DataFrame\n",
            "Columns: [image, label]\n",
            "Index: []\n",
            "Series([], Name: image, dtype: float64)\n"
          ]
        }
      ],
      "source": [
        "print(test)\n",
        "print(test['image'])"
      ]
    },
    {
      "cell_type": "code",
      "execution_count": 8,
      "metadata": {
        "id": "lmtpflVE7OEz"
      },
      "outputs": [],
      "source": [
        "from tqdm.notebook import tqdm"
      ]
    },
    {
      "cell_type": "code",
      "execution_count": 9,
      "metadata": {
        "id": "kOTWb-mk7SR4"
      },
      "outputs": [],
      "source": [
        "def extract_features(images):\n",
        "    features = []\n",
        "    for image in tqdm(images):\n",
        "        img = load_img(image,grayscale =  True )\n",
        "        img = np.array(img)\n",
        "        features.append(img)\n",
        "    features = np.array(features)\n",
        "    features = features.reshape(len(features),48,48,1)\n",
        "    return features"
      ]
    },
    {
      "cell_type": "code",
      "execution_count": 10,
      "metadata": {
        "colab": {
          "base_uri": "https://localhost:8080/",
          "height": 104,
          "referenced_widgets": [
            "083f31b056ac46e59897f1116eaf496e",
            "c54104469b8e485d957da21cb1e19744",
            "fb94f7b3b8684f2281b96de925e9abe5",
            "3fc7017f222844529922377db640d11b",
            "3db44143ec014b64a27607c680da2e4f",
            "0877015bc769408b95f1f5bf221590e2",
            "99b0bfc0720c4069bc9ea2a3e8a6ad65",
            "c0780d994cc04290bc8f3be77f30e470",
            "e78bf037048044088428d9eaf83a9239",
            "a36748507f6749ca8428f0215bfc1b3d",
            "22f3f1ecb9894a999b6a410367058153"
          ]
        },
        "id": "f8pOENSt7UAH",
        "outputId": "8ecf8140-19ec-4dbf-de6d-02a20745bcbb"
      },
      "outputs": [
        {
          "output_type": "display_data",
          "data": {
            "text/plain": [
              "  0%|          | 0/4527 [00:00<?, ?it/s]"
            ],
            "application/vnd.jupyter.widget-view+json": {
              "version_major": 2,
              "version_minor": 0,
              "model_id": "083f31b056ac46e59897f1116eaf496e"
            }
          },
          "metadata": {}
        },
        {
          "output_type": "stream",
          "name": "stderr",
          "text": [
            "/usr/local/lib/python3.10/dist-packages/keras/src/utils/image_utils.py:409: UserWarning: grayscale is deprecated. Please use color_mode = \"grayscale\"\n",
            "  warnings.warn(\n"
          ]
        }
      ],
      "source": [
        "train_features = extract_features(train['image'])"
      ]
    },
    {
      "cell_type": "code",
      "execution_count": 11,
      "metadata": {
        "colab": {
          "base_uri": "https://localhost:8080/",
          "height": 49,
          "referenced_widgets": [
            "f46aa14f53754a15ac3fa675fe8799b2",
            "7da2a5f6d0024c02a430e723aaba8b91",
            "1644df099e994548b6f05da6330706b8",
            "d6f4281e8d9e4776bbdcec334b9c56d4",
            "8510f0cad8c74a3885721198a5d23275",
            "366a946d93f34afab2fc9f529850b647",
            "6595da3cb8e0470dbaaadf8e32ab0c0f",
            "bcb5c8ee409345c6b27249ff0b992973",
            "6e31103f1629456f973b0fc6b50ba007",
            "4a1ba832aa9848b39580ff2d4f390724",
            "2d8a053d08914119b2e4367315d23c55"
          ]
        },
        "id": "24tPRXhh7aRE",
        "outputId": "afae3eea-d0b0-4354-8b90-998b82012ff5"
      },
      "outputs": [
        {
          "output_type": "display_data",
          "data": {
            "text/plain": [
              "0it [00:00, ?it/s]"
            ],
            "application/vnd.jupyter.widget-view+json": {
              "version_major": 2,
              "version_minor": 0,
              "model_id": "f46aa14f53754a15ac3fa675fe8799b2"
            }
          },
          "metadata": {}
        }
      ],
      "source": [
        "test_features = extract_features(test['image'])"
      ]
    },
    {
      "cell_type": "code",
      "execution_count": 12,
      "metadata": {
        "id": "2Azy2cCJ7b23"
      },
      "outputs": [],
      "source": [
        "x_train = train_features/255.0\n",
        "x_test = test_features/255.0"
      ]
    },
    {
      "cell_type": "code",
      "execution_count": 13,
      "metadata": {
        "id": "55I4xeSt7eT9"
      },
      "outputs": [],
      "source": [
        "from sklearn.preprocessing import LabelEncoder"
      ]
    },
    {
      "cell_type": "code",
      "execution_count": 14,
      "metadata": {
        "colab": {
          "base_uri": "https://localhost:8080/",
          "height": 74
        },
        "id": "2iaICmk07gKw",
        "outputId": "9b509191-c96d-4170-f22e-76d01c20bbad"
      },
      "outputs": [
        {
          "output_type": "execute_result",
          "data": {
            "text/plain": [
              "LabelEncoder()"
            ],
            "text/html": [
              "<style>#sk-container-id-1 {color: black;background-color: white;}#sk-container-id-1 pre{padding: 0;}#sk-container-id-1 div.sk-toggleable {background-color: white;}#sk-container-id-1 label.sk-toggleable__label {cursor: pointer;display: block;width: 100%;margin-bottom: 0;padding: 0.3em;box-sizing: border-box;text-align: center;}#sk-container-id-1 label.sk-toggleable__label-arrow:before {content: \"▸\";float: left;margin-right: 0.25em;color: #696969;}#sk-container-id-1 label.sk-toggleable__label-arrow:hover:before {color: black;}#sk-container-id-1 div.sk-estimator:hover label.sk-toggleable__label-arrow:before {color: black;}#sk-container-id-1 div.sk-toggleable__content {max-height: 0;max-width: 0;overflow: hidden;text-align: left;background-color: #f0f8ff;}#sk-container-id-1 div.sk-toggleable__content pre {margin: 0.2em;color: black;border-radius: 0.25em;background-color: #f0f8ff;}#sk-container-id-1 input.sk-toggleable__control:checked~div.sk-toggleable__content {max-height: 200px;max-width: 100%;overflow: auto;}#sk-container-id-1 input.sk-toggleable__control:checked~label.sk-toggleable__label-arrow:before {content: \"▾\";}#sk-container-id-1 div.sk-estimator input.sk-toggleable__control:checked~label.sk-toggleable__label {background-color: #d4ebff;}#sk-container-id-1 div.sk-label input.sk-toggleable__control:checked~label.sk-toggleable__label {background-color: #d4ebff;}#sk-container-id-1 input.sk-hidden--visually {border: 0;clip: rect(1px 1px 1px 1px);clip: rect(1px, 1px, 1px, 1px);height: 1px;margin: -1px;overflow: hidden;padding: 0;position: absolute;width: 1px;}#sk-container-id-1 div.sk-estimator {font-family: monospace;background-color: #f0f8ff;border: 1px dotted black;border-radius: 0.25em;box-sizing: border-box;margin-bottom: 0.5em;}#sk-container-id-1 div.sk-estimator:hover {background-color: #d4ebff;}#sk-container-id-1 div.sk-parallel-item::after {content: \"\";width: 100%;border-bottom: 1px solid gray;flex-grow: 1;}#sk-container-id-1 div.sk-label:hover label.sk-toggleable__label {background-color: #d4ebff;}#sk-container-id-1 div.sk-serial::before {content: \"\";position: absolute;border-left: 1px solid gray;box-sizing: border-box;top: 0;bottom: 0;left: 50%;z-index: 0;}#sk-container-id-1 div.sk-serial {display: flex;flex-direction: column;align-items: center;background-color: white;padding-right: 0.2em;padding-left: 0.2em;position: relative;}#sk-container-id-1 div.sk-item {position: relative;z-index: 1;}#sk-container-id-1 div.sk-parallel {display: flex;align-items: stretch;justify-content: center;background-color: white;position: relative;}#sk-container-id-1 div.sk-item::before, #sk-container-id-1 div.sk-parallel-item::before {content: \"\";position: absolute;border-left: 1px solid gray;box-sizing: border-box;top: 0;bottom: 0;left: 50%;z-index: -1;}#sk-container-id-1 div.sk-parallel-item {display: flex;flex-direction: column;z-index: 1;position: relative;background-color: white;}#sk-container-id-1 div.sk-parallel-item:first-child::after {align-self: flex-end;width: 50%;}#sk-container-id-1 div.sk-parallel-item:last-child::after {align-self: flex-start;width: 50%;}#sk-container-id-1 div.sk-parallel-item:only-child::after {width: 0;}#sk-container-id-1 div.sk-dashed-wrapped {border: 1px dashed gray;margin: 0 0.4em 0.5em 0.4em;box-sizing: border-box;padding-bottom: 0.4em;background-color: white;}#sk-container-id-1 div.sk-label label {font-family: monospace;font-weight: bold;display: inline-block;line-height: 1.2em;}#sk-container-id-1 div.sk-label-container {text-align: center;}#sk-container-id-1 div.sk-container {/* jupyter's `normalize.less` sets `[hidden] { display: none; }` but bootstrap.min.css set `[hidden] { display: none !important; }` so we also need the `!important` here to be able to override the default hidden behavior on the sphinx rendered scikit-learn.org. See: https://github.com/scikit-learn/scikit-learn/issues/21755 */display: inline-block !important;position: relative;}#sk-container-id-1 div.sk-text-repr-fallback {display: none;}</style><div id=\"sk-container-id-1\" class=\"sk-top-container\"><div class=\"sk-text-repr-fallback\"><pre>LabelEncoder()</pre><b>In a Jupyter environment, please rerun this cell to show the HTML representation or trust the notebook. <br />On GitHub, the HTML representation is unable to render, please try loading this page with nbviewer.org.</b></div><div class=\"sk-container\" hidden><div class=\"sk-item\"><div class=\"sk-estimator sk-toggleable\"><input class=\"sk-toggleable__control sk-hidden--visually\" id=\"sk-estimator-id-1\" type=\"checkbox\" checked><label for=\"sk-estimator-id-1\" class=\"sk-toggleable__label sk-toggleable__label-arrow\">LabelEncoder</label><div class=\"sk-toggleable__content\"><pre>LabelEncoder()</pre></div></div></div></div></div>"
            ]
          },
          "metadata": {},
          "execution_count": 14
        }
      ],
      "source": [
        "le = LabelEncoder()\n",
        "le.fit(train['label'])"
      ]
    },
    {
      "cell_type": "code",
      "execution_count": 15,
      "metadata": {
        "id": "zMjb7gzD7hrC"
      },
      "outputs": [],
      "source": [
        "y_train = le.transform(train['label'])\n",
        "y_test = le.transform(test['label'])"
      ]
    },
    {
      "cell_type": "code",
      "execution_count": 16,
      "metadata": {
        "id": "Hhrty6rx7joV"
      },
      "outputs": [],
      "source": [
        "y_train = to_categorical(y_train,num_classes = 7)\n",
        "y_test = to_categorical(y_test,num_classes = 7)"
      ]
    },
    {
      "cell_type": "code",
      "execution_count": 17,
      "metadata": {
        "id": "89EcG_3M7lBC"
      },
      "outputs": [],
      "source": [
        "model = Sequential()\n",
        "# convolutional layers\n",
        "model.add(Conv2D(128, kernel_size=(3,3), activation='relu', input_shape=(48,48,1)))\n",
        "model.add(MaxPooling2D(pool_size=(2,2)))\n",
        "model.add(Dropout(0.4))\n",
        "\n",
        "model.add(Conv2D(256, kernel_size=(3,3), activation='relu'))\n",
        "model.add(MaxPooling2D(pool_size=(2,2)))\n",
        "model.add(Dropout(0.4))\n",
        "\n",
        "model.add(Conv2D(512, kernel_size=(3,3), activation='relu'))\n",
        "model.add(MaxPooling2D(pool_size=(2,2)))\n",
        "model.add(Dropout(0.4))\n",
        "\n",
        "model.add(Conv2D(512, kernel_size=(3,3), activation='relu'))\n",
        "model.add(MaxPooling2D(pool_size=(2,2)))\n",
        "model.add(Dropout(0.4))\n",
        "\n",
        "model.add(Flatten())\n",
        "# fully connected layers\n",
        "model.add(Dense(512, activation='relu'))\n",
        "model.add(Dropout(0.4))\n",
        "model.add(Dense(256, activation='relu'))\n",
        "model.add(Dropout(0.3))\n",
        "# output layer\n",
        "model.add(Dense(7, activation='softmax'))"
      ]
    },
    {
      "cell_type": "code",
      "execution_count": 18,
      "metadata": {
        "id": "IHi2qXB37osE"
      },
      "outputs": [],
      "source": [
        "model.compile(optimizer = 'adam', loss = 'categorical_crossentropy', metrics = 'accuracy' )"
      ]
    },
    {
      "cell_type": "code",
      "execution_count": 19,
      "metadata": {
        "colab": {
          "base_uri": "https://localhost:8080/"
        },
        "id": "UymUt5ys7zOA",
        "outputId": "c69e0995-ba04-42f7-9a76-bade9929a21e"
      },
      "outputs": [
        {
          "output_type": "stream",
          "name": "stdout",
          "text": [
            "Epoch 1/100\n",
            "36/36 [==============================] - 15s 70ms/step - loss: 0.7356 - accuracy: 0.6587\n",
            "Epoch 2/100\n",
            "36/36 [==============================] - 2s 51ms/step - loss: 0.5982 - accuracy: 0.7069\n",
            "Epoch 3/100\n",
            "36/36 [==============================] - 2s 52ms/step - loss: 0.5868 - accuracy: 0.7080\n",
            "Epoch 4/100\n",
            "36/36 [==============================] - 2s 53ms/step - loss: 0.5823 - accuracy: 0.7082\n",
            "Epoch 5/100\n",
            "36/36 [==============================] - 2s 54ms/step - loss: 0.5555 - accuracy: 0.7265\n",
            "Epoch 6/100\n",
            "36/36 [==============================] - 2s 52ms/step - loss: 0.4965 - accuracy: 0.7486\n",
            "Epoch 7/100\n",
            "36/36 [==============================] - 2s 51ms/step - loss: 0.4512 - accuracy: 0.7913\n",
            "Epoch 8/100\n",
            "36/36 [==============================] - 2s 51ms/step - loss: 0.3828 - accuracy: 0.8233\n",
            "Epoch 9/100\n",
            "36/36 [==============================] - 2s 52ms/step - loss: 0.3497 - accuracy: 0.8511\n",
            "Epoch 10/100\n",
            "36/36 [==============================] - 2s 51ms/step - loss: 0.3176 - accuracy: 0.8571\n",
            "Epoch 11/100\n",
            "36/36 [==============================] - 2s 52ms/step - loss: 0.3134 - accuracy: 0.8664\n",
            "Epoch 12/100\n",
            "36/36 [==============================] - 2s 54ms/step - loss: 0.2883 - accuracy: 0.8831\n",
            "Epoch 13/100\n",
            "36/36 [==============================] - 2s 55ms/step - loss: 0.2643 - accuracy: 0.8942\n",
            "Epoch 14/100\n",
            "36/36 [==============================] - 2s 52ms/step - loss: 0.2506 - accuracy: 0.8966\n",
            "Epoch 15/100\n",
            "36/36 [==============================] - 2s 52ms/step - loss: 0.2416 - accuracy: 0.8999\n",
            "Epoch 16/100\n",
            "36/36 [==============================] - 2s 52ms/step - loss: 0.2326 - accuracy: 0.9019\n",
            "Epoch 17/100\n",
            "36/36 [==============================] - 2s 52ms/step - loss: 0.2056 - accuracy: 0.9180\n",
            "Epoch 18/100\n",
            "36/36 [==============================] - 2s 53ms/step - loss: 0.2073 - accuracy: 0.9203\n",
            "Epoch 19/100\n",
            "36/36 [==============================] - 2s 54ms/step - loss: 0.2034 - accuracy: 0.9185\n",
            "Epoch 20/100\n",
            "36/36 [==============================] - 2s 55ms/step - loss: 0.1768 - accuracy: 0.9271\n",
            "Epoch 21/100\n",
            "36/36 [==============================] - 2s 54ms/step - loss: 0.1870 - accuracy: 0.9269\n",
            "Epoch 22/100\n",
            "36/36 [==============================] - 2s 53ms/step - loss: 0.1710 - accuracy: 0.9359\n",
            "Epoch 23/100\n",
            "36/36 [==============================] - 2s 52ms/step - loss: 0.1561 - accuracy: 0.9351\n",
            "Epoch 24/100\n",
            "36/36 [==============================] - 2s 52ms/step - loss: 0.1553 - accuracy: 0.9370\n",
            "Epoch 25/100\n",
            "36/36 [==============================] - 2s 53ms/step - loss: 0.1426 - accuracy: 0.9448\n",
            "Epoch 26/100\n",
            "36/36 [==============================] - 2s 54ms/step - loss: 0.1476 - accuracy: 0.9406\n",
            "Epoch 27/100\n",
            "36/36 [==============================] - 2s 56ms/step - loss: 0.1339 - accuracy: 0.9510\n",
            "Epoch 28/100\n",
            "36/36 [==============================] - 2s 55ms/step - loss: 0.1233 - accuracy: 0.9521\n",
            "Epoch 29/100\n",
            "36/36 [==============================] - 2s 53ms/step - loss: 0.1134 - accuracy: 0.9556\n",
            "Epoch 30/100\n",
            "36/36 [==============================] - 2s 53ms/step - loss: 0.1072 - accuracy: 0.9591\n",
            "Epoch 31/100\n",
            "36/36 [==============================] - 2s 53ms/step - loss: 0.1042 - accuracy: 0.9605\n",
            "Epoch 32/100\n",
            "36/36 [==============================] - 2s 53ms/step - loss: 0.1064 - accuracy: 0.9567\n",
            "Epoch 33/100\n",
            "36/36 [==============================] - 2s 54ms/step - loss: 0.0952 - accuracy: 0.9613\n",
            "Epoch 34/100\n",
            "36/36 [==============================] - 2s 55ms/step - loss: 0.0891 - accuracy: 0.9629\n",
            "Epoch 35/100\n",
            "36/36 [==============================] - 2s 56ms/step - loss: 0.0802 - accuracy: 0.9697\n",
            "Epoch 36/100\n",
            "36/36 [==============================] - 2s 54ms/step - loss: 0.0838 - accuracy: 0.9669\n",
            "Epoch 37/100\n",
            "36/36 [==============================] - 2s 54ms/step - loss: 0.0864 - accuracy: 0.9684\n",
            "Epoch 38/100\n",
            "36/36 [==============================] - 2s 54ms/step - loss: 0.0756 - accuracy: 0.9719\n",
            "Epoch 39/100\n",
            "36/36 [==============================] - 2s 54ms/step - loss: 0.0862 - accuracy: 0.9680\n",
            "Epoch 40/100\n",
            "36/36 [==============================] - 2s 54ms/step - loss: 0.0719 - accuracy: 0.9742\n",
            "Epoch 41/100\n",
            "36/36 [==============================] - 2s 56ms/step - loss: 0.0681 - accuracy: 0.9733\n",
            "Epoch 42/100\n",
            "36/36 [==============================] - 2s 57ms/step - loss: 0.0620 - accuracy: 0.9766\n",
            "Epoch 43/100\n",
            "36/36 [==============================] - 2s 55ms/step - loss: 0.0656 - accuracy: 0.9739\n",
            "Epoch 44/100\n",
            "36/36 [==============================] - 2s 55ms/step - loss: 0.0723 - accuracy: 0.9742\n",
            "Epoch 45/100\n",
            "36/36 [==============================] - 2s 55ms/step - loss: 0.0583 - accuracy: 0.9761\n",
            "Epoch 46/100\n",
            "36/36 [==============================] - 2s 55ms/step - loss: 0.0574 - accuracy: 0.9779\n",
            "Epoch 47/100\n",
            "36/36 [==============================] - 2s 55ms/step - loss: 0.0622 - accuracy: 0.9750\n",
            "Epoch 48/100\n",
            "36/36 [==============================] - 2s 57ms/step - loss: 0.0598 - accuracy: 0.9750\n",
            "Epoch 49/100\n",
            "36/36 [==============================] - 2s 58ms/step - loss: 0.0475 - accuracy: 0.9830\n",
            "Epoch 50/100\n",
            "36/36 [==============================] - 2s 55ms/step - loss: 0.0462 - accuracy: 0.9859\n",
            "Epoch 51/100\n",
            "36/36 [==============================] - 2s 55ms/step - loss: 0.0584 - accuracy: 0.9781\n",
            "Epoch 52/100\n",
            "36/36 [==============================] - 2s 54ms/step - loss: 0.0488 - accuracy: 0.9806\n",
            "Epoch 53/100\n",
            "36/36 [==============================] - 2s 54ms/step - loss: 0.0505 - accuracy: 0.9817\n",
            "Epoch 54/100\n",
            "36/36 [==============================] - 2s 54ms/step - loss: 0.0481 - accuracy: 0.9825\n",
            "Epoch 55/100\n",
            "36/36 [==============================] - 2s 55ms/step - loss: 0.0505 - accuracy: 0.9823\n",
            "Epoch 56/100\n",
            "36/36 [==============================] - 2s 56ms/step - loss: 0.0434 - accuracy: 0.9843\n",
            "Epoch 57/100\n",
            "36/36 [==============================] - 2s 55ms/step - loss: 0.0463 - accuracy: 0.9854\n",
            "Epoch 58/100\n",
            "36/36 [==============================] - 2s 54ms/step - loss: 0.0401 - accuracy: 0.9845\n",
            "Epoch 59/100\n",
            "36/36 [==============================] - 2s 54ms/step - loss: 0.0447 - accuracy: 0.9837\n",
            "Epoch 60/100\n",
            "36/36 [==============================] - 2s 62ms/step - loss: 0.0489 - accuracy: 0.9806\n",
            "Epoch 61/100\n",
            "36/36 [==============================] - 2s 58ms/step - loss: 0.0438 - accuracy: 0.9848\n",
            "Epoch 62/100\n",
            "36/36 [==============================] - 2s 57ms/step - loss: 0.0393 - accuracy: 0.9881\n",
            "Epoch 63/100\n",
            "36/36 [==============================] - 2s 56ms/step - loss: 0.0373 - accuracy: 0.9885\n",
            "Epoch 64/100\n",
            "36/36 [==============================] - 2s 55ms/step - loss: 0.0362 - accuracy: 0.9887\n",
            "Epoch 65/100\n",
            "36/36 [==============================] - 2s 54ms/step - loss: 0.0334 - accuracy: 0.9894\n",
            "Epoch 66/100\n",
            "36/36 [==============================] - 2s 54ms/step - loss: 0.0435 - accuracy: 0.9865\n",
            "Epoch 67/100\n",
            "36/36 [==============================] - 2s 54ms/step - loss: 0.0351 - accuracy: 0.9854\n",
            "Epoch 68/100\n",
            "36/36 [==============================] - 2s 54ms/step - loss: 0.0378 - accuracy: 0.9870\n",
            "Epoch 69/100\n",
            "36/36 [==============================] - 2s 55ms/step - loss: 0.0360 - accuracy: 0.9881\n",
            "Epoch 70/100\n",
            "36/36 [==============================] - 2s 56ms/step - loss: 0.0325 - accuracy: 0.9874\n",
            "Epoch 71/100\n",
            "36/36 [==============================] - 2s 55ms/step - loss: 0.0324 - accuracy: 0.9876\n",
            "Epoch 72/100\n",
            "36/36 [==============================] - 2s 54ms/step - loss: 0.0351 - accuracy: 0.9896\n",
            "Epoch 73/100\n",
            "36/36 [==============================] - 2s 54ms/step - loss: 0.0292 - accuracy: 0.9887\n",
            "Epoch 74/100\n",
            "36/36 [==============================] - 2s 54ms/step - loss: 0.0434 - accuracy: 0.9843\n",
            "Epoch 75/100\n",
            "36/36 [==============================] - 2s 54ms/step - loss: 0.0339 - accuracy: 0.9901\n",
            "Epoch 76/100\n",
            "36/36 [==============================] - 2s 55ms/step - loss: 0.0324 - accuracy: 0.9894\n",
            "Epoch 77/100\n",
            "36/36 [==============================] - 2s 57ms/step - loss: 0.0354 - accuracy: 0.9890\n",
            "Epoch 78/100\n",
            "36/36 [==============================] - 2s 58ms/step - loss: 0.0242 - accuracy: 0.9916\n",
            "Epoch 79/100\n",
            "36/36 [==============================] - 2s 54ms/step - loss: 0.0398 - accuracy: 0.9863\n",
            "Epoch 80/100\n",
            "36/36 [==============================] - 2s 54ms/step - loss: 0.0373 - accuracy: 0.9881\n",
            "Epoch 81/100\n",
            "36/36 [==============================] - 2s 54ms/step - loss: 0.0405 - accuracy: 0.9861\n",
            "Epoch 82/100\n",
            "36/36 [==============================] - 2s 54ms/step - loss: 0.0280 - accuracy: 0.9903\n",
            "Epoch 83/100\n",
            "36/36 [==============================] - 2s 54ms/step - loss: 0.0348 - accuracy: 0.9876\n",
            "Epoch 84/100\n",
            "36/36 [==============================] - 2s 56ms/step - loss: 0.0360 - accuracy: 0.9852\n",
            "Epoch 85/100\n",
            "36/36 [==============================] - 2s 56ms/step - loss: 0.0248 - accuracy: 0.9907\n",
            "Epoch 86/100\n",
            "36/36 [==============================] - 2s 55ms/step - loss: 0.0220 - accuracy: 0.9923\n",
            "Epoch 87/100\n",
            "36/36 [==============================] - 2s 54ms/step - loss: 0.0233 - accuracy: 0.9905\n",
            "Epoch 88/100\n",
            "36/36 [==============================] - 2s 54ms/step - loss: 0.0210 - accuracy: 0.9901\n",
            "Epoch 89/100\n",
            "36/36 [==============================] - 2s 54ms/step - loss: 0.0266 - accuracy: 0.9907\n",
            "Epoch 90/100\n",
            "36/36 [==============================] - 2s 54ms/step - loss: 0.0348 - accuracy: 0.9870\n",
            "Epoch 91/100\n",
            "36/36 [==============================] - 2s 55ms/step - loss: 0.0181 - accuracy: 0.9934\n",
            "Epoch 92/100\n",
            "36/36 [==============================] - 2s 55ms/step - loss: 0.0238 - accuracy: 0.9909\n",
            "Epoch 93/100\n",
            "36/36 [==============================] - 2s 57ms/step - loss: 0.0294 - accuracy: 0.9887\n",
            "Epoch 94/100\n",
            "36/36 [==============================] - 2s 55ms/step - loss: 0.0224 - accuracy: 0.9907\n",
            "Epoch 95/100\n",
            "36/36 [==============================] - 2s 54ms/step - loss: 0.0230 - accuracy: 0.9929\n",
            "Epoch 96/100\n",
            "36/36 [==============================] - 2s 54ms/step - loss: 0.0247 - accuracy: 0.9920\n",
            "Epoch 97/100\n",
            "36/36 [==============================] - 2s 54ms/step - loss: 0.0298 - accuracy: 0.9901\n",
            "Epoch 98/100\n",
            "36/36 [==============================] - 2s 55ms/step - loss: 0.0250 - accuracy: 0.9901\n",
            "Epoch 99/100\n",
            "36/36 [==============================] - 2s 65ms/step - loss: 0.0250 - accuracy: 0.9925\n",
            "Epoch 100/100\n",
            "36/36 [==============================] - 2s 63ms/step - loss: 0.0239 - accuracy: 0.9923\n"
          ]
        },
        {
          "output_type": "execute_result",
          "data": {
            "text/plain": [
              "<keras.src.callbacks.History at 0x7bb8e45424d0>"
            ]
          },
          "metadata": {},
          "execution_count": 19
        }
      ],
      "source": [
        "model.fit(x= x_train,y = y_train, batch_size = 128, epochs = 100, validation_data = (x_test,y_test))"
      ]
    },
    {
      "cell_type": "code",
      "execution_count": 20,
      "metadata": {
        "colab": {
          "base_uri": "https://localhost:8080/"
        },
        "id": "zvFk3nl871fI",
        "outputId": "5f176cbe-0aa3-48d2-9ba8-45f1a810b50e"
      },
      "outputs": [
        {
          "output_type": "stream",
          "name": "stderr",
          "text": [
            "/usr/local/lib/python3.10/dist-packages/keras/src/engine/training.py:3000: UserWarning: You are saving your model as an HDF5 file via `model.save()`. This file format is considered legacy. We recommend using instead the native Keras format, e.g. `model.save('my_model.keras')`.\n",
            "  saving_api.save_model(\n"
          ]
        }
      ],
      "source": [
        "model_json = model.to_json()\n",
        "with open(\"emotiondetector.json\",'w') as json_file:\n",
        "    json_file.write(model_json)\n",
        "model.save(\"emotiondetector.h5\")"
      ]
    },
    {
      "cell_type": "code",
      "execution_count": 32,
      "metadata": {
        "id": "GEhOC4r48ja3"
      },
      "outputs": [],
      "source": [
        "json_file = open(\"/content/drive/MyDrive/Dlpro/facialemotionmodel.json\", \"r\")\n",
        "model_json = json_file.read()\n",
        "json_file.close()\n",
        "model = model_from_json(model_json)\n",
        "model.load_weights(\"/content/drive/MyDrive/Dlpro/facialemotionmodel.h5\")"
      ]
    },
    {
      "cell_type": "code",
      "execution_count": 33,
      "metadata": {
        "id": "p2ucXi858jX9"
      },
      "outputs": [],
      "source": [
        "label = ['angry','disgust','fear','happy','neutral','sad','surprise']"
      ]
    },
    {
      "cell_type": "code",
      "execution_count": 34,
      "metadata": {
        "id": "qJbUCJlz8jU1"
      },
      "outputs": [],
      "source": [
        "def ef(image):\n",
        "    img = load_img(image,grayscale =  True )\n",
        "    feature = np.array(img)\n",
        "    feature = feature.reshape(1,48,48,1)\n",
        "    return feature/255.0"
      ]
    },
    {
      "cell_type": "code",
      "execution_count": 35,
      "metadata": {
        "id": "jynvW32HETQ8"
      },
      "outputs": [],
      "source": [
        "import matplotlib.pyplot as plt\n",
        "%matplotlib inline"
      ]
    },
    {
      "cell_type": "code",
      "execution_count": 36,
      "metadata": {
        "colab": {
          "base_uri": "https://localhost:8080/",
          "height": 500
        },
        "id": "CajEpue28jR2",
        "outputId": "4caf498d-d405-4d1e-c479-2c7e552dfbbf"
      },
      "outputs": [
        {
          "output_type": "stream",
          "name": "stdout",
          "text": [
            "original image is of sad\n",
            "1/1 [==============================] - 0s 152ms/step\n",
            "model prediction is  sad\n"
          ]
        },
        {
          "output_type": "execute_result",
          "data": {
            "text/plain": [
              "<matplotlib.image.AxesImage at 0x7bb8ccf5a0b0>"
            ]
          },
          "metadata": {},
          "execution_count": 36
        },
        {
          "output_type": "display_data",
          "data": {
            "text/plain": [
              "<Figure size 640x480 with 1 Axes>"
            ],
            "image/png": "[encoded data removed]"
          },
          "metadata": {}
        }
      ],
      "source": [
        "image = '/content/drive/MyDrive/Dlpro/42.jpg'\n",
        "print(\"original image is of sad\")\n",
        "img = ef(image)\n",
        "pred = model.predict(img)\n",
        "pred_label = label[pred.argmax()]\n",
        "print(\"model prediction is \",pred_label)\n",
        "plt.imshow(img.reshape(48,48),cmap='gray')"
      ]
    },
    {
      "cell_type": "code",
      "execution_count": 37,
      "metadata": {
        "id": "2lSTAcVq9EuF",
        "colab": {
          "base_uri": "https://localhost:8080/",
          "height": 500
        },
        "outputId": "944e4271-c4e6-436c-ffd2-332efe168365"
      },
      "outputs": [
        {
          "output_type": "stream",
          "name": "stdout",
          "text": [
            "original image is of fear\n",
            "1/1 [==============================] - 0s 21ms/step\n",
            "model prediction is  fear\n"
          ]
        },
        {
          "output_type": "execute_result",
          "data": {
            "text/plain": [
              "<matplotlib.image.AxesImage at 0x7bb8cccb6260>"
            ]
          },
          "metadata": {},
          "execution_count": 37
        },
        {
          "output_type": "display_data",
          "data": {
            "text/plain": [
              "<Figure size 640x480 with 1 Axes>"
            ],
            "image/png": "[encoded data removed]"
          },
          "metadata": {}
        }
      ],
      "source": [
        "image = '/content/drive/MyDrive/190.jpg'\n",
        "print(\"original image is of fear\")\n",
        "img = ef(image)\n",
        "pred = model.predict(img)\n",
        "pred_label = label[pred.argmax()]\n",
        "print(\"model prediction is \",pred_label)\n",
        "plt.imshow(img.reshape(48,48),cmap='gray')"
      ]
    },
    {
      "cell_type": "code",
      "execution_count": 38,
      "metadata": {
        "id": "YD54KRE-9Eqk",
        "colab": {
          "base_uri": "https://localhost:8080/",
          "height": 500
        },
        "outputId": "e798acba-ecdb-4fc4-ec19-78573051ba7d"
      },
      "outputs": [
        {
          "output_type": "stream",
          "name": "stdout",
          "text": [
            "original image is of disgust\n",
            "1/1 [==============================] - 0s 18ms/step\n",
            "model prediction is  disgust\n"
          ]
        },
        {
          "output_type": "execute_result",
          "data": {
            "text/plain": [
              "<matplotlib.image.AxesImage at 0x7bb8e5096500>"
            ]
          },
          "metadata": {},
          "execution_count": 38
        },
        {
          "output_type": "display_data",
          "data": {
            "text/plain": [
              "<Figure size 640x480 with 1 Axes>"
            ],
            "image/png": "[encoded data removed]"
          },
          "metadata": {}
        }
      ],
      "source": [
        "image = '/content/drive/MyDrive/299.jpg'\n",
        "print(\"original image is of disgust\")\n",
        "img = ef(image)\n",
        "pred = model.predict(img)\n",
        "pred_label = label[pred.argmax()]\n",
        "print(\"model prediction is \",pred_label)\n",
        "plt.imshow(img.reshape(48,48),cmap='gray')"
      ]
    },
    {
      "cell_type": "code",
      "execution_count": 39,
      "metadata": {
        "id": "eAjlmeHx9JxC",
        "colab": {
          "base_uri": "https://localhost:8080/",
          "height": 500
        },
        "outputId": "71045b0b-0796-45ba-9580-87209b464135"
      },
      "outputs": [
        {
          "output_type": "stream",
          "name": "stdout",
          "text": [
            "original image is of happy\n",
            "1/1 [==============================] - 0s 28ms/step\n",
            "model prediction is  happy\n"
          ]
        },
        {
          "output_type": "execute_result",
          "data": {
            "text/plain": [
              "<matplotlib.image.AxesImage at 0x7bb8cccda9b0>"
            ]
          },
          "metadata": {},
          "execution_count": 39
        },
        {
          "output_type": "display_data",
          "data": {
            "text/plain": [
              "<Figure size 640x480 with 1 Axes>"
            ],
            "image/png": "[encoded data removed]"
          },
          "metadata": {}
        }
      ],
      "source": [
        "image = '/content/drive/MyDrive/7.jpg'\n",
        "print(\"original image is of happy\")\n",
        "img = ef(image)\n",
        "pred = model.predict(img)\n",
        "pred_label = label[pred.argmax()]\n",
        "print(\"model prediction is \",pred_label)\n",
        "plt.imshow(img.reshape(48,48),cmap='gray')"
      ]
    },
    {
      "cell_type": "code",
      "execution_count": 40,
      "metadata": {
        "id": "UZfhSO7g9Jth",
        "colab": {
          "base_uri": "https://localhost:8080/",
          "height": 500
        },
        "outputId": "ee4b9ae5-7479-4b28-cc80-925a1fcc4184"
      },
      "outputs": [
        {
          "output_type": "stream",
          "name": "stdout",
          "text": [
            "original image is of surprise\n",
            "1/1 [==============================] - 0s 114ms/step\n",
            "model prediction is  surprise\n"
          ]
        },
        {
          "output_type": "execute_result",
          "data": {
            "text/plain": [
              "<matplotlib.image.AxesImage at 0x7bb8c1fe4070>"
            ]
          },
          "metadata": {},
          "execution_count": 40
        },
        {
          "output_type": "display_data",
          "data": {
            "text/plain": [
              "<Figure size 640x480 with 1 Axes>"
            ],
            "image/png": "[encoded data removed]"
          },
          "metadata": {}
        }
      ],
      "source": [
        "image = '/content/drive/MyDrive/15.jpg'\n",
        "print(\"original image is of surprise\")\n",
        "img = ef(image)\n",
        "pred = model.predict(img)\n",
        "pred_label = label[pred.argmax()]\n",
        "print(\"model prediction is \",pred_label)\n",
        "plt.imshow(img.reshape(48,48),cmap='gray')"
      ]
    }
  ],
  "metadata": {
    "colab": {
      "provenance": [],
      "gpuType": "T4"
    },
    "kernelspec": {
      "display_name": "Python 3",
      "name": "python3"
    },
    "language_info": {
      "name": "python"
    },
    "widgets": {
      "application/vnd.jupyter.widget-state+json": {
        "083f31b056ac46e59897f1116eaf496e": {
          "model_module": "@jupyter-widgets/controls",
          "model_name": "HBoxModel",
          "model_module_version": "1.5.0",
          "state": {
            "_dom_classes": [],
            "_model_module": "@jupyter-widgets/controls",
            "_model_module_version": "1.5.0",
            "_model_name": "HBoxModel",
            "_view_count": null,
            "_view_module": "@jupyter-widgets/controls",
            "_view_module_version": "1.5.0",
            "_view_name": "HBoxView",
            "box_style": "",
            "children": [
              "IPY_MODEL_c54104469b8e485d957da21cb1e19744",
              "IPY_MODEL_fb94f7b3b8684f2281b96de925e9abe5",
              "IPY_MODEL_3fc7017f222844529922377db640d11b"
            ],
            "layout": "IPY_MODEL_3db44143ec014b64a27607c680da2e4f"
          }
        },
        "c54104469b8e485d957da21cb1e19744": {
          "model_module": "@jupyter-widgets/controls",
          "model_name": "HTMLModel",
          "model_module_version": "1.5.0",
          "state": {
            "_dom_classes": [],
            "_model_module": "@jupyter-widgets/controls",
            "_model_module_version": "1.5.0",
            "_model_name": "HTMLModel",
            "_view_count": null,
            "_view_module": "@jupyter-widgets/controls",
            "_view_module_version": "1.5.0",
            "_view_name": "HTMLView",
            "description": "",
            "description_tooltip": null,
            "layout": "IPY_MODEL_0877015bc769408b95f1f5bf221590e2",
            "placeholder": "​",
            "style": "IPY_MODEL_99b0bfc0720c4069bc9ea2a3e8a6ad65",
            "value": "100%"
          }
        },
        "fb94f7b3b8684f2281b96de925e9abe5": {
          "model_module": "@jupyter-widgets/controls",
          "model_name": "FloatProgressModel",
          "model_module_version": "1.5.0",
          "state": {
            "_dom_classes": [],
            "_model_module": "@jupyter-widgets/controls",
            "_model_module_version": "1.5.0",
            "_model_name": "FloatProgressModel",
            "_view_count": null,
            "_view_module": "@jupyter-widgets/controls",
            "_view_module_version": "1.5.0",
            "_view_name": "ProgressView",
            "bar_style": "success",
            "description": "",
            "description_tooltip": null,
            "layout": "IPY_MODEL_c0780d994cc04290bc8f3be77f30e470",
            "max": 4527,
            "min": 0,
            "orientation": "horizontal",
            "style": "IPY_MODEL_e78bf037048044088428d9eaf83a9239",
            "value": 4527
          }
        },
        "3fc7017f222844529922377db640d11b": {
          "model_module": "@jupyter-widgets/controls",
          "model_name": "HTMLModel",
          "model_module_version": "1.5.0",
          "state": {
            "_dom_classes": [],
            "_model_module": "@jupyter-widgets/controls",
            "_model_module_version": "1.5.0",
            "_model_name": "HTMLModel",
            "_view_count": null,
            "_view_module": "@jupyter-widgets/controls",
            "_view_module_version": "1.5.0",
            "_view_name": "HTMLView",
            "description": "",
            "description_tooltip": null,
            "layout": "IPY_MODEL_a36748507f6749ca8428f0215bfc1b3d",
            "placeholder": "​",
            "style": "IPY_MODEL_22f3f1ecb9894a999b6a410367058153",
            "value": " 4527/4527 [15:35&lt;00:00,  3.73it/s]"
          }
        },
        "3db44143ec014b64a27607c680da2e4f": {
          "model_module": "@jupyter-widgets/base",
          "model_name": "LayoutModel",
          "model_module_version": "1.2.0",
          "state": {
            "_model_module": "@jupyter-widgets/base",
            "_model_module_version": "1.2.0",
            "_model_name": "LayoutModel",
            "_view_count": null,
            "_view_module": "@jupyter-widgets/base",
            "_view_module_version": "1.2.0",
            "_view_name": "LayoutView",
            "align_content": null,
            "align_items": null,
            "align_self": null,
            "border": null,
            "bottom": null,
            "display": null,
            "flex": null,
            "flex_flow": null,
            "grid_area": null,
            "grid_auto_columns": null,
            "grid_auto_flow": null,
            "grid_auto_rows": null,
            "grid_column": null,
            "grid_gap": null,
            "grid_row": null,
            "grid_template_areas": null,
            "grid_template_columns": null,
            "grid_template_rows": null,
            "height": null,
            "justify_content": null,
            "justify_items": null,
            "left": null,
            "margin": null,
            "max_height": null,
            "max_width": null,
            "min_height": null,
            "min_width": null,
            "object_fit": null,
            "object_position": null,
            "order": null,
            "overflow": null,
            "overflow_x": null,
            "overflow_y": null,
            "padding": null,
            "right": null,
            "top": null,
            "visibility": null,
            "width": null
          }
        },
        "0877015bc769408b95f1f5bf221590e2": {
          "model_module": "@jupyter-widgets/base",
          "model_name": "LayoutModel",
          "model_module_version": "1.2.0",
          "state": {
            "_model_module": "@jupyter-widgets/base",
            "_model_module_version": "1.2.0",
            "_model_name": "LayoutModel",
            "_view_count": null,
            "_view_module": "@jupyter-widgets/base",
            "_view_module_version": "1.2.0",
            "_view_name": "LayoutView",
            "align_content": null,
            "align_items": null,
            "align_self": null,
            "border": null,
            "bottom": null,
            "display": null,
            "flex": null,
            "flex_flow": null,
            "grid_area": null,
            "grid_auto_columns": null,
            "grid_auto_flow": null,
            "grid_auto_rows": null,
            "grid_column": null,
            "grid_gap": null,
            "grid_row": null,
            "grid_template_areas": null,
            "grid_template_columns": null,
            "grid_template_rows": null,
            "height": null,
            "justify_content": null,
            "justify_items": null,
            "left": null,
            "margin": null,
            "max_height": null,
            "max_width": null,
            "min_height": null,
            "min_width": null,
            "object_fit": null,
            "object_position": null,
            "order": null,
            "overflow": null,
            "overflow_x": null,
            "overflow_y": null,
            "padding": null,
            "right": null,
            "top": null,
            "visibility": null,
            "width": null
          }
        },
        "99b0bfc0720c4069bc9ea2a3e8a6ad65": {
          "model_module": "@jupyter-widgets/controls",
          "model_name": "DescriptionStyleModel",
          "model_module_version": "1.5.0",
          "state": {
            "_model_module": "@jupyter-widgets/controls",
            "_model_module_version": "1.5.0",
            "_model_name": "DescriptionStyleModel",
            "_view_count": null,
            "_view_module": "@jupyter-widgets/base",
            "_view_module_version": "1.2.0",
            "_view_name": "StyleView",
            "description_width": ""
          }
        },
        "c0780d994cc04290bc8f3be77f30e470": {
          "model_module": "@jupyter-widgets/base",
          "model_name": "LayoutModel",
          "model_module_version": "1.2.0",
          "state": {
            "_model_module": "@jupyter-widgets/base",
            "_model_module_version": "1.2.0",
            "_model_name": "LayoutModel",
            "_view_count": null,
            "_view_module": "@jupyter-widgets/base",
            "_view_module_version": "1.2.0",
            "_view_name": "LayoutView",
            "align_content": null,
            "align_items": null,
            "align_self": null,
            "border": null,
            "bottom": null,
            "display": null,
            "flex": null,
            "flex_flow": null,
            "grid_area": null,
            "grid_auto_columns": null,
            "grid_auto_flow": null,
            "grid_auto_rows": null,
            "grid_column": null,
            "grid_gap": null,
            "grid_row": null,
            "grid_template_areas": null,
            "grid_template_columns": null,
            "grid_template_rows": null,
            "height": null,
            "justify_content": null,
            "justify_items": null,
            "left": null,
            "margin": null,
            "max_height": null,
            "max_width": null,
            "min_height": null,
            "min_width": null,
            "object_fit": null,
            "object_position": null,
            "order": null,
            "overflow": null,
            "overflow_x": null,
            "overflow_y": null,
            "padding": null,
            "right": null,
            "top": null,
            "visibility": null,
            "width": null
          }
        },
        "e78bf037048044088428d9eaf83a9239": {
          "model_module": "@jupyter-widgets/controls",
          "model_name": "ProgressStyleModel",
          "model_module_version": "1.5.0",
          "state": {
            "_model_module": "@jupyter-widgets/controls",
            "_model_module_version": "1.5.0",
            "_model_name": "ProgressStyleModel",
            "_view_count": null,
            "_view_module": "@jupyter-widgets/base",
            "_view_module_version": "1.2.0",
            "_view_name": "StyleView",
            "bar_color": null,
            "description_width": ""
          }
        },
        "a36748507f6749ca8428f0215bfc1b3d": {
          "model_module": "@jupyter-widgets/base",
          "model_name": "LayoutModel",
          "model_module_version": "1.2.0",
          "state": {
            "_model_module": "@jupyter-widgets/base",
            "_model_module_version": "1.2.0",
            "_model_name": "LayoutModel",
            "_view_count": null,
            "_view_module": "@jupyter-widgets/base",
            "_view_module_version": "1.2.0",
            "_view_name": "LayoutView",
            "align_content": null,
            "align_items": null,
            "align_self": null,
            "border": null,
            "bottom": null,
            "display": null,
            "flex": null,
            "flex_flow": null,
            "grid_area": null,
            "grid_auto_columns": null,
            "grid_auto_flow": null,
            "grid_auto_rows": null,
            "grid_column": null,
            "grid_gap": null,
            "grid_row": null,
            "grid_template_areas": null,
            "grid_template_columns": null,
            "grid_template_rows": null,
            "height": null,
            "justify_content": null,
            "justify_items": null,
            "left": null,
            "margin": null,
            "max_height": null,
            "max_width": null,
            "min_height": null,
            "min_width": null,
            "object_fit": null,
            "object_position": null,
            "order": null,
            "overflow": null,
            "overflow_x": null,
            "overflow_y": null,
            "padding": null,
            "right": null,
            "top": null,
            "visibility": null,
            "width": null
          }
        },
        "22f3f1ecb9894a999b6a410367058153": {
          "model_module": "@jupyter-widgets/controls",
          "model_name": "DescriptionStyleModel",
          "model_module_version": "1.5.0",
          "state": {
            "_model_module": "@jupyter-widgets/controls",
            "_model_module_version": "1.5.0",
            "_model_name": "DescriptionStyleModel",
            "_view_count": null,
            "_view_module": "@jupyter-widgets/base",
            "_view_module_version": "1.2.0",
            "_view_name": "StyleView",
            "description_width": ""
          }
        },
        "f46aa14f53754a15ac3fa675fe8799b2": {
          "model_module": "@jupyter-widgets/controls",
          "model_name": "HBoxModel",
          "model_module_version": "1.5.0",
          "state": {
            "_dom_classes": [],
            "_model_module": "@jupyter-widgets/controls",
            "_model_module_version": "1.5.0",
            "_model_name": "HBoxModel",
            "_view_count": null,
            "_view_module": "@jupyter-widgets/controls",
            "_view_module_version": "1.5.0",
            "_view_name": "HBoxView",
            "box_style": "",
            "children": [
              "IPY_MODEL_7da2a5f6d0024c02a430e723aaba8b91",
              "IPY_MODEL_1644df099e994548b6f05da6330706b8",
              "IPY_MODEL_d6f4281e8d9e4776bbdcec334b9c56d4"
            ],
            "layout": "IPY_MODEL_8510f0cad8c74a3885721198a5d23275"
          }
        },
        "7da2a5f6d0024c02a430e723aaba8b91": {
          "model_module": "@jupyter-widgets/controls",
          "model_name": "HTMLModel",
          "model_module_version": "1.5.0",
          "state": {
            "_dom_classes": [],
            "_model_module": "@jupyter-widgets/controls",
            "_model_module_version": "1.5.0",
            "_model_name": "HTMLModel",
            "_view_count": null,
            "_view_module": "@jupyter-widgets/controls",
            "_view_module_version": "1.5.0",
            "_view_name": "HTMLView",
            "description": "",
            "description_tooltip": null,
            "layout": "IPY_MODEL_366a946d93f34afab2fc9f529850b647",
            "placeholder": "​",
            "style": "IPY_MODEL_6595da3cb8e0470dbaaadf8e32ab0c0f",
            "value": ""
          }
        },
        "1644df099e994548b6f05da6330706b8": {
          "model_module": "@jupyter-widgets/controls",
          "model_name": "FloatProgressModel",
          "model_module_version": "1.5.0",
          "state": {
            "_dom_classes": [],
            "_model_module": "@jupyter-widgets/controls",
            "_model_module_version": "1.5.0",
            "_model_name": "FloatProgressModel",
            "_view_count": null,
            "_view_module": "@jupyter-widgets/controls",
            "_view_module_version": "1.5.0",
            "_view_name": "ProgressView",
            "bar_style": "success",
            "description": "",
            "description_tooltip": null,
            "layout": "IPY_MODEL_bcb5c8ee409345c6b27249ff0b992973",
            "max": 1,
            "min": 0,
            "orientation": "horizontal",
            "style": "IPY_MODEL_6e31103f1629456f973b0fc6b50ba007",
            "value": 0
          }
        },
        "d6f4281e8d9e4776bbdcec334b9c56d4": {
          "model_module": "@jupyter-widgets/controls",
          "model_name": "HTMLModel",
          "model_module_version": "1.5.0",
          "state": {
            "_dom_classes": [],
            "_model_module": "@jupyter-widgets/controls",
            "_model_module_version": "1.5.0",
            "_model_name": "HTMLModel",
            "_view_count": null,
            "_view_module": "@jupyter-widgets/controls",
            "_view_module_version": "1.5.0",
            "_view_name": "HTMLView",
            "description": "",
            "description_tooltip": null,
            "layout": "IPY_MODEL_4a1ba832aa9848b39580ff2d4f390724",
            "placeholder": "​",
            "style": "IPY_MODEL_2d8a053d08914119b2e4367315d23c55",
            "value": " 0/0 [00:00&lt;?, ?it/s]"
          }
        },
        "8510f0cad8c74a3885721198a5d23275": {
          "model_module": "@jupyter-widgets/base",
          "model_name": "LayoutModel",
          "model_module_version": "1.2.0",
          "state": {
            "_model_module": "@jupyter-widgets/base",
            "_model_module_version": "1.2.0",
            "_model_name": "LayoutModel",
            "_view_count": null,
            "_view_module": "@jupyter-widgets/base",
            "_view_module_version": "1.2.0",
            "_view_name": "LayoutView",
            "align_content": null,
            "align_items": null,
            "align_self": null,
            "border": null,
            "bottom": null,
            "display": null,
            "flex": null,
            "flex_flow": null,
            "grid_area": null,
            "grid_auto_columns": null,
            "grid_auto_flow": null,
            "grid_auto_rows": null,
            "grid_column": null,
            "grid_gap": null,
            "grid_row": null,
            "grid_template_areas": null,
            "grid_template_columns": null,
            "grid_template_rows": null,
            "height": null,
            "justify_content": null,
            "justify_items": null,
            "left": null,
            "margin": null,
            "max_height": null,
            "max_width": null,
            "min_height": null,
            "min_width": null,
            "object_fit": null,
            "object_position": null,
            "order": null,
            "overflow": null,
            "overflow_x": null,
            "overflow_y": null,
            "padding": null,
            "right": null,
            "top": null,
            "visibility": null,
            "width": null
          }
        },
        "366a946d93f34afab2fc9f529850b647": {
          "model_module": "@jupyter-widgets/base",
          "model_name": "LayoutModel",
          "model_module_version": "1.2.0",
          "state": {
            "_model_module": "@jupyter-widgets/base",
            "_model_module_version": "1.2.0",
            "_model_name": "LayoutModel",
            "_view_count": null,
            "_view_module": "@jupyter-widgets/base",
            "_view_module_version": "1.2.0",
            "_view_name": "LayoutView",
            "align_content": null,
            "align_items": null,
            "align_self": null,
            "border": null,
            "bottom": null,
            "display": null,
            "flex": null,
            "flex_flow": null,
            "grid_area": null,
            "grid_auto_columns": null,
            "grid_auto_flow": null,
            "grid_auto_rows": null,
            "grid_column": null,
            "grid_gap": null,
            "grid_row": null,
            "grid_template_areas": null,
            "grid_template_columns": null,
            "grid_template_rows": null,
            "height": null,
            "justify_content": null,
            "justify_items": null,
            "left": null,
            "margin": null,
            "max_height": null,
            "max_width": null,
            "min_height": null,
            "min_width": null,
            "object_fit": null,
            "object_position": null,
            "order": null,
            "overflow": null,
            "overflow_x": null,
            "overflow_y": null,
            "padding": null,
            "right": null,
            "top": null,
            "visibility": null,
            "width": null
          }
        },
        "6595da3cb8e0470dbaaadf8e32ab0c0f": {
          "model_module": "@jupyter-widgets/controls",
          "model_name": "DescriptionStyleModel",
          "model_module_version": "1.5.0",
          "state": {
            "_model_module": "@jupyter-widgets/controls",
            "_model_module_version": "1.5.0",
            "_model_name": "DescriptionStyleModel",
            "_view_count": null,
            "_view_module": "@jupyter-widgets/base",
            "_view_module_version": "1.2.0",
            "_view_name": "StyleView",
            "description_width": ""
          }
        },
        "bcb5c8ee409345c6b27249ff0b992973": {
          "model_module": "@jupyter-widgets/base",
          "model_name": "LayoutModel",
          "model_module_version": "1.2.0",
          "state": {
            "_model_module": "@jupyter-widgets/base",
            "_model_module_version": "1.2.0",
            "_model_name": "LayoutModel",
            "_view_count": null,
            "_view_module": "@jupyter-widgets/base",
            "_view_module_version": "1.2.0",
            "_view_name": "LayoutView",
            "align_content": null,
            "align_items": null,
            "align_self": null,
            "border": null,
            "bottom": null,
            "display": null,
            "flex": null,
            "flex_flow": null,
            "grid_area": null,
            "grid_auto_columns": null,
            "grid_auto_flow": null,
            "grid_auto_rows": null,
            "grid_column": null,
            "grid_gap": null,
            "grid_row": null,
            "grid_template_areas": null,
            "grid_template_columns": null,
            "grid_template_rows": null,
            "height": null,
            "justify_content": null,
            "justify_items": null,
            "left": null,
            "margin": null,
            "max_height": null,
            "max_width": null,
            "min_height": null,
            "min_width": null,
            "object_fit": null,
            "object_position": null,
            "order": null,
            "overflow": null,
            "overflow_x": null,
            "overflow_y": null,
            "padding": null,
            "right": null,
            "top": null,
            "visibility": null,
            "width": "20px"
          }
        },
        "6e31103f1629456f973b0fc6b50ba007": {
          "model_module": "@jupyter-widgets/controls",
          "model_name": "ProgressStyleModel",
          "model_module_version": "1.5.0",
          "state": {
            "_model_module": "@jupyter-widgets/controls",
            "_model_module_version": "1.5.0",
            "_model_name": "ProgressStyleModel",
            "_view_count": null,
            "_view_module": "@jupyter-widgets/base",
            "_view_module_version": "1.2.0",
            "_view_name": "StyleView",
            "bar_color": null,
            "description_width": ""
          }
        },
        "4a1ba832aa9848b39580ff2d4f390724": {
          "model_module": "@jupyter-widgets/base",
          "model_name": "LayoutModel",
          "model_module_version": "1.2.0",
          "state": {
            "_model_module": "@jupyter-widgets/base",
            "_model_module_version": "1.2.0",
            "_model_name": "LayoutModel",
            "_view_count": null,
            "_view_module": "@jupyter-widgets/base",
            "_view_module_version": "1.2.0",
            "_view_name": "LayoutView",
            "align_content": null,
            "align_items": null,
            "align_self": null,
            "border": null,
            "bottom": null,
            "display": null,
            "flex": null,
            "flex_flow": null,
            "grid_area": null,
            "grid_auto_columns": null,
            "grid_auto_flow": null,
            "grid_auto_rows": null,
            "grid_column": null,
            "grid_gap": null,
            "grid_row": null,
            "grid_template_areas": null,
            "grid_template_columns": null,
            "grid_template_rows": null,
            "height": null,
            "justify_content": null,
            "justify_items": null,
            "left": null,
            "margin": null,
            "max_height": null,
            "max_width": null,
            "min_height": null,
            "min_width": null,
            "object_fit": null,
            "object_position": null,
            "order": null,
            "overflow": null,
            "overflow_x": null,
            "overflow_y": null,
            "padding": null,
            "right": null,
            "top": null,
            "visibility": null,
            "width": null
          }
        },
        "2d8a053d08914119b2e4367315d23c55": {
          "model_module": "@jupyter-widgets/controls",
          "model_name": "DescriptionStyleModel",
          "model_module_version": "1.5.0",
          "state": {
            "_model_module": "@jupyter-widgets/controls",
            "_model_module_version": "1.5.0",
            "_model_name": "DescriptionStyleModel",
            "_view_count": null,
            "_view_module": "@jupyter-widgets/base",
            "_view_module_version": "1.2.0",
            "_view_name": "StyleView",
            "description_width": ""
          }
        }
      }
    },
    "accelerator": "GPU"
  },
  "nbformat": 4,
  "nbformat_minor": 0
}